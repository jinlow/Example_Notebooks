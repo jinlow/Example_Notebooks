{
 "cells": [
  {
   "cell_type": "markdown",
   "metadata": {},
   "source": [
    "# Exploring XGboost Tree Structure"
   ]
  },
  {
   "cell_type": "code",
   "execution_count": 1,
   "metadata": {},
   "outputs": [],
   "source": [
    "import numpy as np\n",
    "import pandas as pd\n",
    "import xgboost as xgb\n",
    "from sklearn.metrics import roc_auc_score\n",
    "from skopt import gp_minimize\n",
    "from skopt.space import Integer, Real\n",
    "from skopt.utils import use_named_args"
   ]
  },
  {
   "cell_type": "markdown",
   "metadata": {},
   "source": [
    "This dataset comes from the following kaggle competition:\n",
    "https://www.kaggle.com/c/home-credit-default-risk  \n",
    "The `target` field we will be predicting is if a person will default on their housing loan, or not."
   ]
  },
  {
   "cell_type": "code",
   "execution_count": 2,
   "metadata": {},
   "outputs": [],
   "source": [
    "df_full = pd.read_parquet(\"data/application_train_proc.parquet\")"
   ]
  },
  {
   "cell_type": "markdown",
   "metadata": {},
   "source": [
    "I have already done some prep work to the data, creating encoded object fields, and removing a few records. I could would definitely do more feature engineering if I was looking to maximize performance, but for now we are just using this dataset as a way to test feature reduction."
   ]
  },
  {
   "cell_type": "code",
   "execution_count": 3,
   "metadata": {},
   "outputs": [
    {
     "data": {
      "text/plain": [
       "(307507, 136)"
      ]
     },
     "execution_count": 3,
     "metadata": {},
     "output_type": "execute_result"
    }
   ],
   "source": [
    "df_full.shape"
   ]
  },
  {
   "cell_type": "code",
   "execution_count": 4,
   "metadata": {},
   "outputs": [
    {
     "data": {
      "text/plain": [
       "float64    70\n",
       "int64      41\n",
       "object     16\n",
       "int8        9\n",
       "dtype: int64"
      ]
     },
     "execution_count": 4,
     "metadata": {},
     "output_type": "execute_result"
    }
   ],
   "source": [
    "df_full.dtypes.value_counts()"
   ]
  },
  {
   "cell_type": "markdown",
   "metadata": {},
   "source": [
    "Drop `object` columns and convert data to `np.float32` to keeps things consistent for XGBoost modeling."
   ]
  },
  {
   "cell_type": "code",
   "execution_count": 5,
   "metadata": {},
   "outputs": [],
   "source": [
    "drop_cols = df_full.dtypes.pipe(lambda x: x[x.eq(\"object\")]).index\n",
    "df = df_full.drop(columns=drop_cols)\n",
    "# For now we will just start off testing with a sample of the data to speed things up.\n",
    "df = df.sample(70_000, random_state=123)"
   ]
  },
  {
   "cell_type": "code",
   "execution_count": 6,
   "metadata": {},
   "outputs": [
    {
     "data": {
      "text/plain": [
       "(70000, 120)"
      ]
     },
     "execution_count": 6,
     "metadata": {},
     "output_type": "execute_result"
    }
   ],
   "source": [
    "df.shape"
   ]
  },
  {
   "cell_type": "markdown",
   "metadata": {},
   "source": [
    "We are going to split our data into a development, testing, and then hold out validation sample."
   ]
  },
  {
   "cell_type": "code",
   "execution_count": 7,
   "metadata": {},
   "outputs": [],
   "source": [
    "np.random.seed(123)\n",
    "rand_num = np.random.uniform(size=df.shape[0])\n",
    "dev = rand_num < 0.5\n",
    "val = (0.5 <= rand_num) & (rand_num < 0.75)\n",
    "tst = 0.75 <= rand_num"
   ]
  },
  {
   "cell_type": "code",
   "execution_count": 8,
   "metadata": {},
   "outputs": [],
   "source": [
    "X = df.drop(columns=[\"target\"]).astype(np.float32)\n",
    "y = df[\"target\"].astype(np.float32)"
   ]
  },
  {
   "cell_type": "markdown",
   "metadata": {},
   "source": [
    "We we create out `xgboost.DMatrix` objects, these are the data types that are required to use the XGBoost Learning API."
   ]
  },
  {
   "cell_type": "code",
   "execution_count": 9,
   "metadata": {},
   "outputs": [],
   "source": [
    "xdev = xgb.DMatrix(X[dev], label=y[dev], missing=np.nan)\n",
    "xtst = xgb.DMatrix(X[tst], label=y[tst], missing=np.nan)\n",
    "xval = xgb.DMatrix(X[val], label=y[val], missing=np.nan)"
   ]
  },
  {
   "cell_type": "markdown",
   "metadata": {},
   "source": [
    "### Training a Baseline Model Optimized with `scikit-optimize`\n",
    "First we will train a baseline model, and we will use bayesian optimization through the `scikit-optimize` package with the `gp_minimize` function.  \n",
    "The following will be our \"base\" set of parameters.  \n",
    "```python\n",
    "params = dict(\n",
    "    objective=\"binary:logitraw\",\n",
    "    eta=0.1,\n",
    "    max_depth=0,\n",
    "    min_child_weight=50,\n",
    "    max_leaves=35,\n",
    "    tree_method=\"hist\",\n",
    "    grow_policy=\"lossguide\",\n",
    "    subsample=0.8,\n",
    "    colsample_bytree=0.50,\n",
    "    eval_metric=\"auc\",\n",
    "    seed=0,\n",
    ")\n",
    "```\n",
    "We will optimize the following XGBoost parameters.  \n",
    "- `eta`\n",
    "- `min_child_weight`\n",
    "- `max_leaves`\n",
    "- `subsample`\n",
    "- `colsample_bytree`"
   ]
  },
  {
   "cell_type": "code",
   "execution_count": 10,
   "metadata": {},
   "outputs": [],
   "source": [
    "unopt_params = dict(\n",
    "    objective=\"binary:logitraw\",\n",
    "    eta=0.1,\n",
    "    max_depth=0,\n",
    "    min_child_weight=50,\n",
    "    max_leaves=35,\n",
    "    tree_method=\"hist\",\n",
    "    grow_policy=\"lossguide\",\n",
    "    subsample=0.8,\n",
    "    colsample_bytree=0.50,\n",
    "    eval_metric=\"auc\",\n",
    "    seed=0,\n",
    ")"
   ]
  },
  {
   "cell_type": "code",
   "execution_count": 11,
   "metadata": {},
   "outputs": [],
   "source": [
    "unopt_watchlist = [(xdev, \"dev\"), (xtst, \"test\")]"
   ]
  },
  {
   "cell_type": "code",
   "execution_count": 12,
   "metadata": {},
   "outputs": [
    {
     "name": "stdout",
     "output_type": "stream",
     "text": [
      "[0]\tdev-auc:0.70681\ttest-auc:0.66866\n",
      "Multiple eval metrics have been passed: 'test-auc' will be used for early stopping.\n",
      "\n",
      "Will train until test-auc hasn't improved in 50 rounds.\n",
      "[100]\tdev-auc:0.85891\ttest-auc:0.73750\n",
      "Stopping. Best iteration:\n",
      "[81]\tdev-auc:0.84565\ttest-auc:0.73811\n",
      "\n"
     ]
    }
   ],
   "source": [
    "unopt_mod = xgb.train(\n",
    "    params=unopt_params,\n",
    "    dtrain=xdev,\n",
    "    num_boost_round=1_000,\n",
    "    early_stopping_rounds=50,\n",
    "    evals=unopt_watchlist,\n",
    "    verbose_eval=100,\n",
    ")"
   ]
  },
  {
   "cell_type": "code",
   "execution_count": 13,
   "metadata": {},
   "outputs": [],
   "source": [
    "xgb_search_space = [\n",
    "    Real(0.05, 0.2, name=\"eta\"),\n",
    "    Integer(50, 200, name=\"min_child_weight\"),\n",
    "    Integer(15, 35, name=\"max_leaves\"),\n",
    "    Real(0.5, 1.0, name=\"subsample\"),\n",
    "    Real(0.5, 1.0, name=\"colsample_bytree\"),\n",
    "]"
   ]
  },
  {
   "cell_type": "markdown",
   "metadata": {},
   "source": [
    "Next we have to set up the function we want to minimize, in our case, it will be the cross validation performance of the model on our development dataset."
   ]
  },
  {
   "cell_type": "code",
   "execution_count": 20,
   "metadata": {},
   "outputs": [],
   "source": [
    "# These are our constant parameters, that will remain unchanged through\n",
    "# all of modeling.\n",
    "base_params = dict(\n",
    "    objective=\"binary:logitraw\",\n",
    "    max_depth=0,\n",
    "    tree_method=\"hist\",\n",
    "    grow_policy=\"lossguide\",\n",
    "    eval_metric=\"auc\",\n",
    "    seed=123,\n",
    ")\n",
    "\n",
    "watchlist = [(xdev, \"dev\"), (xtst, \"test\")]\n",
    "\n",
    "# These are our constant parameters, that will remain unchanged through\n",
    "# all of modeling.\n",
    "base_params = dict(\n",
    "    objective=\"binary:logitraw\",\n",
    "    max_depth=0,\n",
    "    tree_method=\"hist\",\n",
    "    grow_policy=\"lossguide\",\n",
    "    eval_metric=\"auc\",\n",
    "    seed=0,\n",
    ")\n",
    "\n",
    "\n",
    "@use_named_args(xgb_search_space)\n",
    "def xgb_obj_func(**points):\n",
    "    mod_points = {**points, **base_params}\n",
    "    bayes_mod = xgb.train(\n",
    "        params=mod_points,\n",
    "        dtrain=xdev,\n",
    "        num_boost_round=1_000,\n",
    "        early_stopping_rounds=50,\n",
    "        evals=watchlist,\n",
    "        verbose_eval=False,\n",
    "    )\n",
    "    print(f\"score: {bayes_mod.best_score:.4f}, iterations: {bayes_mod.best_iteration}\")\n",
    "    return -bayes_mod.best_score"
   ]
  },
  {
   "cell_type": "markdown",
   "metadata": {},
   "source": [
    "We optimize our objective function using the `gp_minimize` function from scikit-optimize."
   ]
  },
  {
   "cell_type": "code",
   "execution_count": 21,
   "metadata": {},
   "outputs": [
    {
     "name": "stdout",
     "output_type": "stream",
     "text": [
      "score: 0.7381, iterations: 81\n",
      "score: 0.7407, iterations: 127\n",
      "score: 0.7397, iterations: 157\n",
      "score: 0.7387, iterations: 78\n",
      "score: 0.7405, iterations: 113\n",
      "score: 0.7426, iterations: 203\n",
      "score: 0.7371, iterations: 161\n",
      "score: 0.7410, iterations: 201\n",
      "score: 0.7410, iterations: 123\n",
      "score: 0.7404, iterations: 108\n",
      "score: 0.7429, iterations: 174\n",
      "score: 0.7406, iterations: 80\n",
      "score: 0.7416, iterations: 341\n",
      "score: 0.7425, iterations: 188\n",
      "score: 0.7423, iterations: 234\n",
      "score: 0.7426, iterations: 213\n",
      "score: 0.7357, iterations: 32\n",
      "score: 0.7408, iterations: 253\n",
      "score: 0.7429, iterations: 81\n",
      "score: 0.7393, iterations: 80\n",
      "score: 0.7421, iterations: 515\n",
      "score: 0.7438, iterations: 475\n",
      "score: 0.7399, iterations: 177\n",
      "score: 0.7418, iterations: 664\n",
      "score: 0.7414, iterations: 98\n",
      "score: 0.7367, iterations: 31\n",
      "score: 0.7426, iterations: 155\n",
      "score: 0.7422, iterations: 127\n",
      "score: 0.7413, iterations: 98\n",
      "score: 0.7415, iterations: 167\n",
      "score: 0.7414, iterations: 81\n",
      "score: 0.7435, iterations: 324\n",
      "score: 0.7420, iterations: 318\n",
      "score: 0.7392, iterations: 157\n",
      "score: 0.7411, iterations: 264\n"
     ]
    }
   ],
   "source": [
    "bayes_params = gp_minimize(\n",
    "    xgb_obj_func,\n",
    "    xgb_search_space,\n",
    "    n_calls=35,\n",
    "    # Our initial points.\n",
    "    # [eta=0.1, min_child_weight=50, max_leaves=35, subsample=0.8, colsample_bytree=0.50,]\n",
    "    x0=[0.1, 50, 35, 0.8, 0.50,],\n",
    "    random_state=0,\n",
    ")"
   ]
  },
  {
   "cell_type": "markdown",
   "metadata": {},
   "source": [
    "Now we will take the best parameters from this optimization and train a model."
   ]
  },
  {
   "cell_type": "code",
   "execution_count": 22,
   "metadata": {},
   "outputs": [
    {
     "data": {
      "text/plain": [
       "21"
      ]
     },
     "execution_count": 22,
     "metadata": {},
     "output_type": "execute_result"
    }
   ],
   "source": [
    "best_bayes_params = np.argmin(bayes_params.func_vals)\n",
    "best_bayes_params = {\n",
    "    s.name: p for s, p in zip(xgb_search_space, bayes_params.x_iters[best_bayes_params])\n",
    "}\n",
    "np.argmin(bayes_params.func_vals)"
   ]
  },
  {
   "cell_type": "code",
   "execution_count": 23,
   "metadata": {},
   "outputs": [
    {
     "data": {
      "text/plain": [
       "{'objective': 'binary:logitraw',\n",
       " 'max_depth': 0,\n",
       " 'tree_method': 'hist',\n",
       " 'grow_policy': 'lossguide',\n",
       " 'eval_metric': 'auc',\n",
       " 'seed': 0,\n",
       " 'eta': 0.05,\n",
       " 'min_child_weight': 200,\n",
       " 'max_leaves': 15,\n",
       " 'subsample': 0.9089253160514756,\n",
       " 'colsample_bytree': 0.5191388857129513}"
      ]
     },
     "execution_count": 23,
     "metadata": {},
     "output_type": "execute_result"
    }
   ],
   "source": [
    "best_bayes_params = {**base_params, **best_bayes_params}\n",
    "best_bayes_params"
   ]
  },
  {
   "cell_type": "code",
   "execution_count": 24,
   "metadata": {},
   "outputs": [
    {
     "name": "stdout",
     "output_type": "stream",
     "text": [
      "[0]\tdev-auc:0.69358\ttest-auc:0.67314\n",
      "Multiple eval metrics have been passed: 'test-auc' will be used for early stopping.\n",
      "\n",
      "Will train until test-auc hasn't improved in 50 rounds.\n",
      "[100]\tdev-auc:0.77341\ttest-auc:0.73544\n",
      "[200]\tdev-auc:0.78720\ttest-auc:0.74021\n",
      "[300]\tdev-auc:0.79837\ttest-auc:0.74222\n",
      "[400]\tdev-auc:0.80698\ttest-auc:0.74320\n",
      "[500]\tdev-auc:0.81431\ttest-auc:0.74334\n",
      "Stopping. Best iteration:\n",
      "[475]\tdev-auc:0.81266\ttest-auc:0.74377\n",
      "\n"
     ]
    }
   ],
   "source": [
    "base_mod = xgb.train(\n",
    "    params=best_bayes_params,\n",
    "    dtrain=xdev,\n",
    "    num_boost_round=1_000,\n",
    "    early_stopping_rounds=50,\n",
    "    evals=watchlist,\n",
    "    verbose_eval=100,\n",
    ")"
   ]
  },
  {
   "cell_type": "code",
   "execution_count": 1,
   "metadata": {},
   "outputs": [
    {
     "data": {
      "text/plain": [
       "XGBClassifier(base_score=0.5, booster='gbtree', colsample_bylevel=1,\n",
       "              colsample_bynode=1, colsample_bytree=1, gamma=0, gpu_id=-1,\n",
       "              importance_type='gain', interaction_constraints='',\n",
       "              learning_rate=0.300000012, max_delta_step=0, max_depth=6,\n",
       "              min_child_weight=1, missing=nan,\n",
       "              monotone_constraints='(-1, -1, -1, 1, 1)', n_estimators=30,\n",
       "              n_jobs=0, num_parallel_tree=1, objective='binary:logitraw',\n",
       "              random_state=0, reg_alpha=0, reg_lambda=1, scale_pos_weight=1,\n",
       "              subsample=1, tree_method='exact', validate_parameters=1,\n",
       "              verbosity=None)"
      ]
     },
     "execution_count": 1,
     "metadata": {},
     "output_type": "execute_result"
    }
   ],
   "source": [
    "import json\n",
    "\n",
    "import matplotlib.pyplot as plt\n",
    "import numpy as np\n",
    "import pandas as pd\n",
    "import seaborn as sns\n",
    "import xgboost as xgb\n",
    "\n",
    "tt = sns.load_dataset(\"titanic\").select_dtypes(\"number\")\n",
    "X, y = tt.drop(columns=\"survived\"), tt[\"survived\"]\n",
    "\n",
    "mono = np.sign(X.apply(lambda x: x.corr(y))).to_dict()\n",
    "\n",
    "xcl = xgb.sklearn.XGBClassifier(\n",
    "    objective=\"binary:logitraw\",\n",
    "    n_estimators=30,\n",
    "    monotone_constraints=str(tuple([int(mono.get(col)) for col in X.columns])),\n",
    ")\n",
    "xcl.fit(X, y)"
   ]
  },
  {
   "cell_type": "code",
   "execution_count": 2,
   "metadata": {},
   "outputs": [],
   "source": [
    "mod_dmp = [json.loads(d) for d in xcl.get_booster().get_dump(dump_format=\"json\")]"
   ]
  },
  {
   "cell_type": "code",
   "execution_count": 3,
   "metadata": {},
   "outputs": [],
   "source": [
    "def missing_value(value, missing):\n",
    "    return (value == missing) | (np.isnan(value) & np.isnan(missing))\n",
    "\n",
    "\n",
    "def tree_climber(tree, row_dict, missing=np.nan):\n",
    "    if \"leaf\" in tree:\n",
    "        return np.float32(tree[\"leaf\"])\n",
    "    else:\n",
    "        value = row_dict.get(tree[\"split\"])\n",
    "        if missing_value(value, missing):\n",
    "            nodeid = tree[\"missing\"]\n",
    "        elif value < tree[\"split_condition\"]:\n",
    "            nodeid = tree[\"yes\"]\n",
    "        else:\n",
    "            nodeid = tree[\"no\"]\n",
    "        which_child = np.argmax([chld[\"nodeid\"] == nodeid for chld in tree[\"children\"]])\n",
    "        return tree_climber(tree[\"children\"][which_child], row_dict, missing)"
   ]
  },
  {
   "cell_type": "code",
   "execution_count": 4,
   "metadata": {},
   "outputs": [
    {
     "data": {
      "text/plain": [
       "30"
      ]
     },
     "execution_count": 4,
     "metadata": {},
     "output_type": "execute_result"
    }
   ],
   "source": [
    "len(mod_dmp)"
   ]
  },
  {
   "cell_type": "code",
   "execution_count": 5,
   "metadata": {},
   "outputs": [
    {
     "data": {
      "text/plain": [
       "-0.3286488"
      ]
     },
     "execution_count": 5,
     "metadata": {},
     "output_type": "execute_result"
    }
   ],
   "source": [
    "tree_climber(mod_dmp[0], X.iloc[0, :])"
   ]
  },
  {
   "cell_type": "code",
   "execution_count": 6,
   "metadata": {},
   "outputs": [],
   "source": [
    "def row_predict(dump_list, row, missing=np.nan):\n",
    "    pred = np.float32(0.0)\n",
    "    for d in dump_list:\n",
    "        pred += tree_climber(d, row, missing=np.nan)\n",
    "    return pred"
   ]
  },
  {
   "cell_type": "code",
   "execution_count": 7,
   "metadata": {},
   "outputs": [],
   "source": [
    "def recursive_predict(model, data, missing=np.nan):\n",
    "    model_dump = [json.loads(d) for d in model.get_dump(dump_format=\"json\")]\n",
    "    preds = []\n",
    "    for i, row in data.iterrows():\n",
    "        preds.append(row_predict(model_dump, row, missing))\n",
    "    return np.array(preds)"
   ]
  },
  {
   "cell_type": "code",
   "execution_count": 8,
   "metadata": {},
   "outputs": [
    {
     "data": {
      "text/plain": [
       "array([[ 2.486742  , -1.4867419 ],\n",
       "       [-0.11968648,  1.1196865 ],\n",
       "       [ 2.2820241 , -1.2820241 ],\n",
       "       [-0.07544243,  1.0754424 ],\n",
       "       [ 2.843956  , -1.8439561 ]], dtype=float32)"
      ]
     },
     "execution_count": 8,
     "metadata": {},
     "output_type": "execute_result"
    }
   ],
   "source": [
    "xcl.predict_proba(X.iloc[0:5, :])"
   ]
  },
  {
   "cell_type": "code",
   "execution_count": 9,
   "metadata": {},
   "outputs": [
    {
     "data": {
      "text/plain": [
       "array([-1.4867419,  1.1196865, -1.2820241,  1.0754424, -1.8439561],\n",
       "      dtype=float32)"
      ]
     },
     "execution_count": 9,
     "metadata": {},
     "output_type": "execute_result"
    }
   ],
   "source": [
    "recursive_predict(xcl.get_booster(), X.iloc[0:5, :])"
   ]
  },
  {
   "cell_type": "code",
   "execution_count": 10,
   "metadata": {},
   "outputs": [],
   "source": [
    "r_preds = recursive_predict(xcl.get_booster(), X)\n",
    "m_preds = xcl.predict_proba(X)[:, 1]"
   ]
  },
  {
   "cell_type": "code",
   "execution_count": 11,
   "metadata": {},
   "outputs": [
    {
     "data": {
      "text/plain": [
       "True"
      ]
     },
     "execution_count": 11,
     "metadata": {},
     "output_type": "execute_result"
    }
   ],
   "source": [
    "all(r_preds == m_preds)"
   ]
  },
  {
   "cell_type": "code",
   "execution_count": 12,
   "metadata": {},
   "outputs": [],
   "source": [
    "def pdp_brute(model, data, feature):\n",
    "    res = {}\n",
    "    for value in np.sort(data[feature].unique()):\n",
    "        if np.isnan(value):\n",
    "            continue\n",
    "        md = data.copy()\n",
    "        md[feature] = value\n",
    "        p = model.predict_proba(md)[:, 1]\n",
    "        res[value] = np.mean(p)\n",
    "    return pd.Series(res, name=feature)"
   ]
  },
  {
   "cell_type": "code",
   "execution_count": 13,
   "metadata": {},
   "outputs": [
    {
     "data": {
      "text/plain": [
       "<AxesSubplot:>"
      ]
     },
     "execution_count": 13,
     "metadata": {},
     "output_type": "execute_result"
    },
    {
     "data": {
      "image/png": "[encoded data removed]",
      "text/plain": [
       "<Figure size 432x288 with 1 Axes>"
      ]
     },
     "metadata": {
      "needs_background": "light"
     },
     "output_type": "display_data"
    }
   ],
   "source": [
    "pdp_brute(xcl, X, \"fare\").plot.line()"
   ]
  },
  {
   "cell_type": "code",
   "execution_count": 14,
   "metadata": {},
   "outputs": [
    {
     "data": {
      "text/plain": [
       "<AxesSubplot:>"
      ]
     },
     "execution_count": 14,
     "metadata": {},
     "output_type": "execute_result"
    },
    {
     "data": {
      "image/png": "[encoded data removed]",
      "text/plain": [
       "<Figure size 432x288 with 1 Axes>"
      ]
     },
     "metadata": {
      "needs_background": "light"
     },
     "output_type": "display_data"
    }
   ],
   "source": [
    "pdp_brute(xcl, X, \"age\").plot.line()"
   ]
  },
  {
   "cell_type": "code",
   "execution_count": 15,
   "metadata": {},
   "outputs": [
    {
     "data": {
      "text/plain": [
       "{'pclass': -1.0, 'age': -1.0, 'sibsp': -1.0, 'parch': 1.0, 'fare': 1.0}"
      ]
     },
     "execution_count": 15,
     "metadata": {},
     "output_type": "execute_result"
    }
   ],
   "source": [
    "mono"
   ]
  },
  {
   "cell_type": "code",
   "execution_count": 16,
   "metadata": {},
   "outputs": [],
   "source": [
    "mod_dmp = [\n",
    "    json.loads(d)\n",
    "    for d in xcl.get_booster().get_dump(dump_format=\"json\", with_stats=True)\n",
    "]"
   ]
  },
  {
   "cell_type": "markdown",
   "metadata": {},
   "source": [
    "To calculate the \"fast\" recursive version of the pdp plots, we need to know the number of observations in each node... I am not positive how to calculate this with Cover... So we will update our manual predict function to calculate this for us, and compare to cover to understand the number of obs visiting each node."
   ]
  },
  {
   "cell_type": "code",
   "execution_count": 17,
   "metadata": {},
   "outputs": [
    {
     "data": {
      "text/plain": [
       "XGBClassifier(base_score=0.5, booster='gbtree', colsample_bylevel=1,\n",
       "              colsample_bynode=1, colsample_bytree=1, gamma=0, gpu_id=-1,\n",
       "              importance_type='gain', interaction_constraints='',\n",
       "              learning_rate=0.300000012, max_delta_step=0, max_depth=3,\n",
       "              min_child_weight=1, missing=nan,\n",
       "              monotone_constraints='(-1, -1, -1, 1, 1)', n_estimators=1,\n",
       "              n_jobs=0, num_parallel_tree=1, objective='binary:logitraw',\n",
       "              random_state=0, reg_alpha=0, reg_lambda=1, scale_pos_weight=1,\n",
       "              subsample=1, tree_method='exact', validate_parameters=1,\n",
       "              verbosity=None)"
      ]
     },
     "execution_count": 17,
     "metadata": {},
     "output_type": "execute_result"
    }
   ],
   "source": [
    "# Retrain model to be small\n",
    "mono = np.sign(X.apply(lambda x: x.corr(y))).to_dict()\n",
    "\n",
    "tt = sns.load_dataset(\"titanic\").select_dtypes(\"number\")\n",
    "X, y = tt.drop(columns=\"survived\"), tt[\"survived\"]\n",
    "xcl = xgb.sklearn.XGBClassifier(\n",
    "    objective=\"binary:logitraw\",\n",
    "    n_estimators=1,\n",
    "    max_depth=3,\n",
    "    monotone_constraints=str(tuple([int(mono.get(col)) for col in X.columns])),\n",
    ")\n",
    "xcl.fit(X, y)"
   ]
  },
  {
   "cell_type": "code",
   "execution_count": 18,
   "metadata": {},
   "outputs": [],
   "source": [
    "def tree_climber_with_stats(tree, row_dict, missing=np.nan):\n",
    "    if \"leaf\" in tree:\n",
    "        return np.float32(tree[\"leaf\"])\n",
    "    else:\n",
    "        value = row_dict.get(tree[\"split\"])\n",
    "        if missing_value(value, missing):\n",
    "            nodeid = tree[\"missing\"]\n",
    "        elif value < tree[\"split_condition\"]:\n",
    "            nodeid = tree[\"yes\"]\n",
    "        else:\n",
    "            nodeid = tree[\"no\"]\n",
    "\n",
    "        if node_dict.get(nodeid) is None:\n",
    "            node_dict[nodeid] = 1\n",
    "        else:\n",
    "            node_dict[nodeid] += 1\n",
    "\n",
    "        which_child = np.argmax([chld[\"nodeid\"] == nodeid for chld in tree[\"children\"]])\n",
    "        return tree_climber_with_stats(tree[\"children\"][which_child], row_dict, missing)"
   ]
  },
  {
   "cell_type": "code",
   "execution_count": 19,
   "metadata": {},
   "outputs": [],
   "source": [
    "def row_predict_with_stats(dump_list, row, missing=np.nan):\n",
    "    pred = np.float32(0.0)\n",
    "    for d in dump_list:\n",
    "        pred += tree_climber_with_stats(d, row, missing=np.nan)\n",
    "    return pred"
   ]
  },
  {
   "cell_type": "code",
   "execution_count": 20,
   "metadata": {},
   "outputs": [],
   "source": [
    "def recursive_predict_with_stats(model_dump, data, missing=np.nan):\n",
    "    # model_dump = [json.loads(d) for d in model.get_dump(dump_format=\"json\")]\n",
    "    preds = []\n",
    "    for i, row in data.iterrows():\n",
    "        preds.append(row_predict_with_stats(model_dump, row, missing))\n",
    "    return np.array(preds)"
   ]
  },
  {
   "cell_type": "code",
   "execution_count": 21,
   "metadata": {},
   "outputs": [],
   "source": [
    "def get_stat(node, key, stat_dict):\n",
    "    stat_dict[node[\"nodeid\"]] = node[key]\n",
    "    if \"leaf\" in node:\n",
    "        return\n",
    "    else:\n",
    "        for child in node[\"children\"]:\n",
    "            get_stat(child, key, stat_dict)"
   ]
  },
  {
   "cell_type": "code",
   "execution_count": 91,
   "metadata": {},
   "outputs": [
    {
     "data": {
      "text/plain": [
       "222.75"
      ]
     },
     "execution_count": 91,
     "metadata": {},
     "output_type": "execute_result"
    }
   ],
   "source": [
    "891 * ((1 - 0.5) * 0.5)"
   ]
  },
  {
   "cell_type": "code",
   "execution_count": 1,
   "metadata": {},
   "outputs": [],
   "source": [
    "import json\n",
    "\n",
    "import matplotlib.pyplot as plt\n",
    "import numpy as np\n",
    "import pandas as pd\n",
    "import seaborn as sns\n",
    "import xgboost as xgb\n",
    "\n",
    "tt = sns.load_dataset(\"titanic\").select_dtypes(\"number\")\n",
    "X, y = tt.drop(columns=\"survived\"), tt[\"survived\"]\n",
    "\n",
    "mono = np.sign(X.apply(lambda x: x.corr(y))).to_dict()\n",
    "\n",
    "# xcl = xgb.sklearn.XGBClassifier(\n",
    "#     objective=\"binary:logitraw\",\n",
    "#     n_estimators=30,\n",
    "#     monotone_constraints=str(tuple([int(mono.get(col)) for col in X.columns])),\n",
    "# )\n",
    "# xcl.fit(X, y)"
   ]
  },
  {
   "cell_type": "code",
   "execution_count": 2,
   "metadata": {},
   "outputs": [],
   "source": [
    "def pdp_brute(model, data, feature):\n",
    "    res = {}\n",
    "    for value in np.sort(data[feature].unique()):\n",
    "        if np.isnan(value):\n",
    "            continue\n",
    "        md = data.copy()\n",
    "        md[feature] = value\n",
    "        p = model.predict_proba(md)[:, 1]\n",
    "        res[value] = np.mean(p)\n",
    "    return pd.Series(res, name=feature)"
   ]
  },
  {
   "cell_type": "code",
   "execution_count": 95,
   "metadata": {},
   "outputs": [],
   "source": [
    "class PartialDependence:\n",
    "    def __init__(self, model, base_pred=0.0, missing=np.nan):\n",
    "        self.p_dep = 0\n",
    "        self.base_pred = base_pred\n",
    "        self.tree_pred = 0.5\n",
    "        self.n_leaves = 0\n",
    "        self.missing = missing\n",
    "        self.model = model\n",
    "\n",
    "    @staticmethod\n",
    "    def missing_value(value, missing):\n",
    "        return (value == missing) | (np.isnan(value) & np.isnan(missing))\n",
    "\n",
    "    def get_samples(self, cover):\n",
    "        # Adjusting cover is almost meaningless because we normalize it\n",
    "        # by dividing it by the parent nodes value.\n",
    "        return cover  # cover / ((1 - self.tree_pred) * self.tree_pred)\n",
    "\n",
    "    def tree_pdp(self, node, feature, value, prop):\n",
    "        if \"leaf\" in node:\n",
    "            self.n_leaves += 1\n",
    "            self.p_dep += prop * node[\"leaf\"]\n",
    "            return\n",
    "\n",
    "        elif node[\"split\"] == feature:\n",
    "            if self.missing_value(value, self.missing):\n",
    "                nodeid = node[\"missing\"]\n",
    "            elif value < node[\"split_condition\"]:\n",
    "                nodeid = node[\"yes\"]\n",
    "            else:\n",
    "                nodeid = node[\"no\"]\n",
    "\n",
    "            child = [chld for chld in node[\"children\"] if chld[\"nodeid\"] == nodeid][0]\n",
    "            self.tree_pdp(child, feature, value, prop)\n",
    "        else:\n",
    "            l_s = node[\"children\"][0][\"cover\"]\n",
    "            r_s = node[\"children\"][1][\"cover\"]\n",
    "            t_s = l_s + r_s\n",
    "\n",
    "            self.tree_pdp(node[\"children\"][0], feature, value, prop * (l_s / t_s))\n",
    "            self.tree_pdp(node[\"children\"][1], feature, value, prop * (r_s / t_s))\n",
    "\n",
    "    def calc_pdp(self, feature, points=None): # min_max=(0.0, 513.0), n_pts=20,):\n",
    "        res = np.empty(0)\n",
    "        forest = [\n",
    "            json.loads(d)\n",
    "            for d in self.model.get_dump(dump_format=\"json\", with_stats=True)\n",
    "        ]\n",
    "        # if points is None:\n",
    "        #     min_, max_ = min_max\n",
    "        #     points = np.linspace(min_, max_, n_pts)\n",
    "        # else:\n",
    "        #     n_pts = len(points)\n",
    "        for point in points:\n",
    "            self.p_dep = self.base_pred\n",
    "            self.n_leaves = 0\n",
    "            for tree in forest:\n",
    "                self.tree_pdp(tree, feature, point, 1)\n",
    "            self.p_dep = self.p_dep # / len(forest)\n",
    "            res = np.append(res, self.p_dep)\n",
    "        return np.column_stack((points, res))"
   ]
  },
  {
   "cell_type": "code",
   "execution_count": 129,
   "metadata": {},
   "outputs": [
    {
     "data": {
      "text/plain": [
       "XGBClassifier(base_score=0.5, booster='gbtree', colsample_bylevel=1,\n",
       "              colsample_bynode=1, colsample_bytree=1, gamma=0, gpu_id=-1,\n",
       "              grow_policy='lossguide', importance_type='gain',\n",
       "              interaction_constraints='', learning_rate=0.300000012,\n",
       "              max_delta_step=0, max_depth=32, min_child_weight=1, missing=nan,\n",
       "              monotone_constraints='(-1, -1, -1, 1, 1)', n_estimators=1000,\n",
       "              n_jobs=0, num_parallel_tree=1, objective='binary:logitraw',\n",
       "              random_state=0, reg_alpha=0, reg_lambda=1, scale_pos_weight=1,\n",
       "              subsample=1, tree_method='exact', validate_parameters=1,\n",
       "              verbosity=None)"
      ]
     },
     "execution_count": 129,
     "metadata": {},
     "output_type": "execute_result"
    }
   ],
   "source": [
    "# Retrain model to be small\n",
    "mono = np.sign(X.apply(lambda x: x.corr(y))).to_dict()\n",
    "\n",
    "tt = sns.load_dataset(\"titanic\").select_dtypes(\"number\")\n",
    "X, y = tt.drop(columns=\"survived\"), tt[\"survived\"]\n",
    "# X = pd.concat([X, X, X, X, X, X, X, X, X])\n",
    "# y = pd.concat([y, y, y, y, y, y, y, y, y])\n",
    "\n",
    "xcl = xgb.sklearn.XGBClassifier(\n",
    "    objective=\"binary:logitraw\",\n",
    "    n_estimators=1_000,\n",
    "    max_depth=32,\n",
    "    grow_policy=\"lossguide\",\n",
    "    monotone_constraints=str(tuple([int(mono.get(col)) for col in X.columns])),\n",
    ")\n",
    "xcl.fit(X, y)"
   ]
  },
  {
   "cell_type": "code",
   "execution_count": 130,
   "metadata": {},
   "outputs": [
    {
     "data": {
      "text/plain": [
       "<AxesSubplot:>"
      ]
     },
     "execution_count": 130,
     "metadata": {},
     "output_type": "execute_result"
    },
    {
     "data": {
      "image/png": "[encoded data removed]",
      "text/plain": [
       "<Figure size 432x288 with 1 Axes>"
      ]
     },
     "metadata": {
      "needs_background": "light"
     },
     "output_type": "display_data"
    }
   ],
   "source": [
    "pdep = PartialDependence(xcl.get_booster())\n",
    "t1 = pdep.calc_pdp(feature=\"fare\", points=np.sort(X[\"fare\"].unique()))\n",
    "sns.lineplot(x=t1[:, 0], y=t1[:, 1])"
   ]
  },
  {
   "cell_type": "code",
   "execution_count": 131,
   "metadata": {},
   "outputs": [
    {
     "data": {
      "text/plain": [
       "<AxesSubplot:>"
      ]
     },
     "execution_count": 131,
     "metadata": {},
     "output_type": "execute_result"
    },
    {
     "data": {
      "image/png": "[encoded data removed]",
      "text/plain": [
       "<Figure size 432x288 with 1 Axes>"
      ]
     },
     "metadata": {
      "needs_background": "light"
     },
     "output_type": "display_data"
    }
   ],
   "source": [
    "t2 = pdp_brute(xcl, X, \"fare\")\n",
    "t2.plot.line()"
   ]
  },
  {
   "cell_type": "code",
   "execution_count": 132,
   "metadata": {},
   "outputs": [
    {
     "name": "stdout",
     "output_type": "stream",
     "text": [
      "799 ms ± 195 ms per loop (mean ± std. dev. of 7 runs, 1 loop each)\n"
     ]
    }
   ],
   "source": [
    "%%timeit\n",
    "pdp_brute(xcl, X, \"fare\")"
   ]
  },
  {
   "cell_type": "code",
   "execution_count": 133,
   "metadata": {},
   "outputs": [
    {
     "name": "stdout",
     "output_type": "stream",
     "text": [
      "681 ms ± 54.3 ms per loop (mean ± std. dev. of 7 runs, 1 loop each)\n"
     ]
    }
   ],
   "source": [
    "%%timeit\n",
    "pdep.calc_pdp(feature=\"fare\", points=np.sort(X[\"fare\"].unique()))"
   ]
  },
  {
   "cell_type": "code",
   "execution_count": 127,
   "metadata": {},
   "outputs": [
    {
     "data": {
      "text/plain": [
       "-3.697645902633667"
      ]
     },
     "execution_count": 127,
     "metadata": {},
     "output_type": "execute_result"
    }
   ],
   "source": [
    "t2.min()"
   ]
  },
  {
   "cell_type": "code",
   "execution_count": 128,
   "metadata": {},
   "outputs": [
    {
     "data": {
      "text/plain": [
       "-3.5501779409257557"
      ]
     },
     "execution_count": 128,
     "metadata": {},
     "output_type": "execute_result"
    }
   ],
   "source": [
    "t1[:,1].min()"
   ]
  },
  {
   "cell_type": "code",
   "execution_count": 109,
   "metadata": {},
   "outputs": [],
   "source": [
    "# pd.DataFrame({\"r\": t1[:, 1], \"b\": t2}).assign(r_b=lambda x: x.r / x.b)"
   ]
  },
  {
   "cell_type": "code",
   "execution_count": 29,
   "metadata": {},
   "outputs": [
    {
     "data": {
      "text/plain": [
       "0.37935385099999996"
      ]
     },
     "execution_count": 29,
     "metadata": {},
     "output_type": "execute_result"
    }
   ],
   "source": [
    "pdep.p_dep"
   ]
  },
  {
   "cell_type": "code",
   "execution_count": 30,
   "metadata": {},
   "outputs": [
    {
     "data": {
      "text/plain": [
       "13.6458502"
      ]
     },
     "execution_count": 30,
     "metadata": {},
     "output_type": "execute_result"
    }
   ],
   "source": [
    "mod_dmp[0][\"children\"][0][\"split_condition\"]"
   ]
  },
  {
   "cell_type": "code",
   "execution_count": null,
   "metadata": {},
   "outputs": [],
   "source": [
    "p_dep = 0"
   ]
  },
  {
   "cell_type": "code",
   "execution_count": 44,
   "metadata": {},
   "outputs": [],
   "source": [
    "# Retrain model to be small\n",
    "mono = np.sign(X.apply(lambda x: x.corr(y))).to_dict()\n",
    "\n",
    "tt = sns.load_dataset(\"titanic\").select_dtypes(\"number\")\n",
    "X, y = tt.drop(columns=\"survived\"), tt[\"survived\"]\n",
    "xcl = xgb.sklearn.XGBClassifier(\n",
    "    objective=\"binary:logitraw\",\n",
    "    n_estimators=10,\n",
    "    max_depth=3,\n",
    "    monotone_constraints=str(tuple([int(mono.get(col)) for col in X.columns])),\n",
    ")\n",
    "xcl.fit(X, y)\n",
    "\n",
    "mod_dmp = [\n",
    "    json.loads(d)\n",
    "    for d in xcl.get_booster().get_dump(dump_format=\"json\", with_stats=True)\n",
    "]\n",
    "\n",
    "mod_tree = 9\n",
    "node_dict = {}\n",
    "r_preds = recursive_predict_with_stats([mod_dmp[mod_tree]], X)\n",
    "# m_preds = xcl.predict_proba(X)[:, 1]\n",
    "# all(r_preds == m_preds)\n",
    "node_dict[0] = X.shape[0]\n",
    "npd = pd.Series(node_dict, name=\"obs\").sort_index().to_frame()\n",
    "node_cover = {}\n",
    "get_stat(mod_dmp[mod_tree], \"cover\", node_cover)\n",
    "npd = pd.concat([npd, pd.Series(node_cover, name=\"cover\")], axis=1)"
   ]
  },
  {
   "cell_type": "code",
   "execution_count": 45,
   "metadata": {},
   "outputs": [
    {
     "data": {
      "text/html": [
       "<div>\n",
       "<style scoped>\n",
       "    .dataframe tbody tr th:only-of-type {\n",
       "        vertical-align: middle;\n",
       "    }\n",
       "\n",
       "    .dataframe tbody tr th {\n",
       "        vertical-align: top;\n",
       "    }\n",
       "\n",
       "    .dataframe thead th {\n",
       "        text-align: right;\n",
       "    }\n",
       "</style>\n",
       "<table border=\"1\" class=\"dataframe\">\n",
       "  <thead>\n",
       "    <tr style=\"text-align: right;\">\n",
       "      <th></th>\n",
       "      <th>obs</th>\n",
       "      <th>cover</th>\n",
       "      <th>odc</th>\n",
       "      <th>calc_recs</th>\n",
       "    </tr>\n",
       "  </thead>\n",
       "  <tbody>\n",
       "    <tr>\n",
       "      <th>0</th>\n",
       "      <td>891</td>\n",
       "      <td>177.904129</td>\n",
       "      <td>5.008315</td>\n",
       "      <td>711.616516</td>\n",
       "    </tr>\n",
       "    <tr>\n",
       "      <th>1</th>\n",
       "      <td>878</td>\n",
       "      <td>175.343262</td>\n",
       "      <td>5.007321</td>\n",
       "      <td>701.373048</td>\n",
       "    </tr>\n",
       "    <tr>\n",
       "      <th>2</th>\n",
       "      <td>13</td>\n",
       "      <td>2.560869</td>\n",
       "      <td>5.076401</td>\n",
       "      <td>10.243477</td>\n",
       "    </tr>\n",
       "    <tr>\n",
       "      <th>3</th>\n",
       "      <td>732</td>\n",
       "      <td>145.340240</td>\n",
       "      <td>5.036458</td>\n",
       "      <td>581.360960</td>\n",
       "    </tr>\n",
       "    <tr>\n",
       "      <th>4</th>\n",
       "      <td>146</td>\n",
       "      <td>30.003014</td>\n",
       "      <td>4.866178</td>\n",
       "      <td>120.012054</td>\n",
       "    </tr>\n",
       "    <tr>\n",
       "      <th>5</th>\n",
       "      <td>600</td>\n",
       "      <td>118.585068</td>\n",
       "      <td>5.059659</td>\n",
       "      <td>474.340272</td>\n",
       "    </tr>\n",
       "    <tr>\n",
       "      <th>6</th>\n",
       "      <td>132</td>\n",
       "      <td>26.755177</td>\n",
       "      <td>4.933625</td>\n",
       "      <td>107.020706</td>\n",
       "    </tr>\n",
       "    <tr>\n",
       "      <th>7</th>\n",
       "      <td>129</td>\n",
       "      <td>26.454281</td>\n",
       "      <td>4.876337</td>\n",
       "      <td>105.817124</td>\n",
       "    </tr>\n",
       "    <tr>\n",
       "      <th>8</th>\n",
       "      <td>17</td>\n",
       "      <td>3.548732</td>\n",
       "      <td>4.790443</td>\n",
       "      <td>14.194929</td>\n",
       "    </tr>\n",
       "  </tbody>\n",
       "</table>\n",
       "</div>"
      ],
      "text/plain": [
       "   obs       cover       odc   calc_recs\n",
       "0  891  177.904129  5.008315  711.616516\n",
       "1  878  175.343262  5.007321  701.373048\n",
       "2   13    2.560869  5.076401   10.243477\n",
       "3  732  145.340240  5.036458  581.360960\n",
       "4  146   30.003014  4.866178  120.012054\n",
       "5  600  118.585068  5.059659  474.340272\n",
       "6  132   26.755177  4.933625  107.020706\n",
       "7  129   26.454281  4.876337  105.817124\n",
       "8   17    3.548732  4.790443   14.194929"
      ]
     },
     "execution_count": 45,
     "metadata": {},
     "output_type": "execute_result"
    }
   ],
   "source": [
    "npd.assign(\n",
    "    odc=lambda x: x[\"obs\"].div(x[\"cover\"]),\n",
    "    calc_recs=lambda x: x[\"cover\"].div((1 - 0.5) * 0.5),\n",
    ")"
   ]
  },
  {
   "cell_type": "code",
   "execution_count": 54,
   "metadata": {},
   "outputs": [
    {
     "data": {
      "text/plain": [
       "{'nodeid': 0,\n",
       " 'depth': 0,\n",
       " 'split': 'fare',\n",
       " 'split_condition': 52.2770996,\n",
       " 'yes': 1,\n",
       " 'no': 2,\n",
       " 'missing': 1,\n",
       " 'gain': 44.5400467,\n",
       " 'cover': 218.674789,\n",
       " 'children': [{'nodeid': 1,\n",
       "   'depth': 1,\n",
       "   'split': 'fare',\n",
       "   'split_condition': 10.4812498,\n",
       "   'yes': 3,\n",
       "   'no': 4,\n",
       "   'missing': 3,\n",
       "   'gain': 20.1756706,\n",
       "   'cover': 181.87413,\n",
       "   'children': [{'nodeid': 3,\n",
       "     'depth': 2,\n",
       "     'split': 'fare',\n",
       "     'split_condition': 7.1333499,\n",
       "     'yes': 7,\n",
       "     'no': 8,\n",
       "     'missing': 7,\n",
       "     'gain': 2.74391174,\n",
       "     'cover': 82.5233383,\n",
       "     'children': [{'nodeid': 7, 'leaf': -0.425811976, 'cover': 10.2365694},\n",
       "      {'nodeid': 8, 'leaf': -0.244579956, 'cover': 72.2867737}]},\n",
       "    {'nodeid': 4,\n",
       "     'depth': 2,\n",
       "     'split': 'age',\n",
       "     'split_condition': 6.5,\n",
       "     'yes': 9,\n",
       "     'no': 10,\n",
       "     'missing': 10,\n",
       "     'gain': 7.46750069,\n",
       "     'cover': 99.3507843,\n",
       "     'children': [{'nodeid': 9, 'leaf': 0.016032977, 'cover': 10.3851252},\n",
       "      {'nodeid': 10, 'leaf': -0.110039353, 'cover': 88.9656601}]}]},\n",
       "  {'nodeid': 2,\n",
       "   'depth': 1,\n",
       "   'split': 'sibsp',\n",
       "   'split_condition': 2,\n",
       "   'yes': 5,\n",
       "   'no': 6,\n",
       "   'missing': 5,\n",
       "   'gain': 7.09040546,\n",
       "   'cover': 36.8006554,\n",
       "   'children': [{'nodeid': 5,\n",
       "     'depth': 2,\n",
       "     'split': 'age',\n",
       "     'split_condition': 44.5,\n",
       "     'yes': 11,\n",
       "     'no': 12,\n",
       "     'missing': 11,\n",
       "     'gain': 1.80297852,\n",
       "     'cover': 32.6226578,\n",
       "     'children': [{'nodeid': 11, 'leaf': 0.292503625, 'cover': 24.3733139},\n",
       "      {'nodeid': 12, 'leaf': 0.133343488, 'cover': 8.24934387}]},\n",
       "    {'nodeid': 6,\n",
       "     'depth': 2,\n",
       "     'split': 'fare',\n",
       "     'split_condition': 111.824997,\n",
       "     'yes': 13,\n",
       "     'no': 14,\n",
       "     'missing': 13,\n",
       "     'gain': 0.822547972,\n",
       "     'cover': 4.17799759,\n",
       "     'children': [{'nodeid': 13, 'leaf': 0.016032977, 'cover': 2.69887376},\n",
       "      {'nodeid': 14, 'leaf': 0.133343488, 'cover': 1.47912359}]}]}]}"
      ]
     },
     "execution_count": 54,
     "metadata": {},
     "output_type": "execute_result"
    }
   ],
   "source": [
    "mod_dmp[1]"
   ]
  },
  {
   "cell_type": "code",
   "execution_count": null,
   "metadata": {},
   "outputs": [],
   "source": []
  }
 ],
 "metadata": {
  "kernelspec": {
   "display_name": "Python 3",
   "language": "python",
   "name": "python3"
  },
  "language_info": {
   "codemirror_mode": {
    "name": "ipython",
    "version": 3
   },
   "file_extension": ".py",
   "mimetype": "text/x-python",
   "name": "python",
   "nbconvert_exporter": "python",
   "pygments_lexer": "ipython3",
   "version": "3.8.5"
  }
 },
 "nbformat": 4,
 "nbformat_minor": 4
}
