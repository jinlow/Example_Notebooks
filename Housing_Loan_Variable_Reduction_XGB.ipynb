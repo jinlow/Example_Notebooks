{
 "cells": [
  {
   "cell_type": "markdown",
   "metadata": {},
   "source": [
    "# Variable Reduction\n",
    "Here we are taking a look at a straightforward variable reduction technique, specifically focusing on using XGBoost."
   ]
  },
  {
   "cell_type": "code",
   "execution_count": 1,
   "metadata": {},
   "outputs": [],
   "source": [
    "import numpy as np\n",
    "import pandas as pd\n",
    "import xgboost as xgb\n",
    "from sklearn.metrics import roc_auc_score\n",
    "from skopt import gp_minimize\n",
    "from skopt.space import Integer, Real\n",
    "from skopt.utils import use_named_args"
   ]
  },
  {
   "cell_type": "markdown",
   "metadata": {},
   "source": [
    "This dataset comes from the following kaggle competition:\n",
    "https://www.kaggle.com/c/home-credit-default-risk  \n",
    "The `target` field we will be predicting is if a person will default on their housing loan, or not."
   ]
  },
  {
   "cell_type": "code",
   "execution_count": 2,
   "metadata": {},
   "outputs": [],
   "source": [
    "df_full = pd.read_parquet(\"data/application_train_proc.parquet\")"
   ]
  },
  {
   "cell_type": "markdown",
   "metadata": {},
   "source": [
    "I have already done some prep work to the data, creating encoded object fields, and removing a few records. I could would definitely do more feature engineering if I was looking to maximize performance, but for now we are just using this dataset as a way to test feature reduction."
   ]
  },
  {
   "cell_type": "code",
   "execution_count": 3,
   "metadata": {},
   "outputs": [
    {
     "data": {
      "text/plain": [
       "(307507, 136)"
      ]
     },
     "execution_count": 3,
     "metadata": {},
     "output_type": "execute_result"
    }
   ],
   "source": [
    "df_full.shape"
   ]
  },
  {
   "cell_type": "code",
   "execution_count": 4,
   "metadata": {},
   "outputs": [
    {
     "data": {
      "text/plain": [
       "float64    70\n",
       "int64      41\n",
       "object     16\n",
       "int8        9\n",
       "dtype: int64"
      ]
     },
     "execution_count": 4,
     "metadata": {},
     "output_type": "execute_result"
    }
   ],
   "source": [
    "df_full.dtypes.value_counts()"
   ]
  },
  {
   "cell_type": "markdown",
   "metadata": {},
   "source": [
    "Drop `object` columns and convert data to `np.float32` to keeps things consistent for XGBoost modeling."
   ]
  },
  {
   "cell_type": "code",
   "execution_count": 5,
   "metadata": {},
   "outputs": [],
   "source": [
    "drop_cols = df_full.dtypes.pipe(lambda x: x[x.eq(\"object\")]).index\n",
    "df = df_full.drop(columns=drop_cols)\n",
    "# For now we will just start off testing with a sample of the data to speed things up.\n",
    "df = df.sample(200_000, random_state=123)"
   ]
  },
  {
   "cell_type": "code",
   "execution_count": 6,
   "metadata": {},
   "outputs": [
    {
     "data": {
      "text/plain": [
       "(200000, 120)"
      ]
     },
     "execution_count": 6,
     "metadata": {},
     "output_type": "execute_result"
    }
   ],
   "source": [
    "df.shape"
   ]
  },
  {
   "cell_type": "markdown",
   "metadata": {},
   "source": [
    "We are going to split our data into a development, testing, and then hold out validation sample."
   ]
  },
  {
   "cell_type": "code",
   "execution_count": 7,
   "metadata": {},
   "outputs": [],
   "source": [
    "np.random.seed(123)\n",
    "rand_num = np.random.uniform(size=df.shape[0])\n",
    "dev = rand_num < 0.5\n",
    "val = (0.5 <= rand_num) & (rand_num < 0.75)\n",
    "tst = 0.75 <= rand_num"
   ]
  },
  {
   "cell_type": "code",
   "execution_count": 8,
   "metadata": {},
   "outputs": [],
   "source": [
    "X = df.drop(columns=[\"target\"]).astype(np.float32)\n",
    "y = df[\"target\"].astype(np.float32)"
   ]
  },
  {
   "cell_type": "markdown",
   "metadata": {},
   "source": [
    "We we create out `xgboost.DMatrix` objects, these are the data types that are required to use the XGBoost Learning API."
   ]
  },
  {
   "cell_type": "code",
   "execution_count": 9,
   "metadata": {},
   "outputs": [],
   "source": [
    "xdev = xgb.DMatrix(X[dev], label=y[dev], missing=np.nan)\n",
    "xtst = xgb.DMatrix(X[tst], label=y[tst], missing=np.nan)\n",
    "xval = xgb.DMatrix(X[val], label=y[val], missing=np.nan)"
   ]
  },
  {
   "cell_type": "markdown",
   "metadata": {},
   "source": [
    "### Training a Baseline Model Optimized with `scikit-optimize`\n",
    "First we will train a baseline model, and we will use bayesian optimization through the `scikit-optimize` package with the `gp_minimize` function.  \n",
    "The following will be our \"base\" set of parameters.  \n",
    "```python\n",
    "params = dict(\n",
    "    objective=\"binary:logitraw\",\n",
    "    eta=0.1,\n",
    "    max_depth=0,\n",
    "    min_child_weight=50,\n",
    "    max_leaves=35,\n",
    "    tree_method=\"hist\",\n",
    "    grow_policy=\"lossguide\",\n",
    "    subsample=0.8,\n",
    "    colsample_bytree=0.50,\n",
    "    eval_metric=\"auc\",\n",
    "    seed=0,\n",
    ")\n",
    "```\n",
    "We will optimize the following XGBoost parameters.  \n",
    "- `eta`\n",
    "- `min_child_weight`\n",
    "- `max_leaves`\n",
    "- `subsample`\n",
    "- `colsample_bytree`"
   ]
  },
  {
   "cell_type": "code",
   "execution_count": 44,
   "metadata": {},
   "outputs": [],
   "source": [
    "unopt_params = dict(\n",
    "    objective=\"binary:logitraw\",\n",
    "    eta=0.1,\n",
    "    max_depth=0,\n",
    "    min_child_weight=50,\n",
    "    max_leaves=35,\n",
    "    tree_method=\"hist\",\n",
    "    grow_policy=\"lossguide\",\n",
    "    subsample=0.8,\n",
    "    colsample_bytree=0.50,\n",
    "    eval_metric=\"auc\",\n",
    "    seed=0,\n",
    ")"
   ]
  },
  {
   "cell_type": "code",
   "execution_count": 45,
   "metadata": {},
   "outputs": [],
   "source": [
    "unopt_watchlist = [(xdev, \"dev\"), (xtst, \"test\")]"
   ]
  },
  {
   "cell_type": "code",
   "execution_count": 46,
   "metadata": {},
   "outputs": [
    {
     "name": "stdout",
     "output_type": "stream",
     "text": [
      "[0]\tdev-auc:0.69588\ttest-auc:0.67668\n",
      "Multiple eval metrics have been passed: 'test-auc' will be used for early stopping.\n",
      "\n",
      "Will train until test-auc hasn't improved in 50 rounds.\n",
      "[100]\tdev-auc:0.81709\ttest-auc:0.74525\n",
      "Stopping. Best iteration:\n",
      "[102]\tdev-auc:0.81819\ttest-auc:0.74540\n",
      "\n"
     ]
    }
   ],
   "source": [
    "unopt_mod = xgb.train(\n",
    "    params=unopt_params,\n",
    "    dtrain=xdev,\n",
    "    num_boost_round=1_000,\n",
    "    early_stopping_rounds=50,\n",
    "    evals=watchlist,\n",
    "    verbose_eval=100,\n",
    ")"
   ]
  },
  {
   "cell_type": "code",
   "execution_count": 10,
   "metadata": {},
   "outputs": [],
   "source": [
    "xgb_search_space = [\n",
    "    Real(0.05, 0.2, name=\"eta\"),\n",
    "    Integer(50, 200, name=\"min_child_weight\"),\n",
    "    Integer(15, 35, name=\"max_leaves\"),\n",
    "    Real(0.5, 1.0, name=\"subsample\"),\n",
    "    Real(0.5, 1.0, name=\"colsample_bytree\"),\n",
    "]"
   ]
  },
  {
   "cell_type": "markdown",
   "metadata": {},
   "source": [
    "Next we have to set up the function we want to minimize, in our case, it will be the cross validation performance of the model on our development dataset."
   ]
  },
  {
   "cell_type": "code",
   "execution_count": 11,
   "metadata": {},
   "outputs": [],
   "source": [
    "# These are our constant parameters, that will remain unchanged through\n",
    "# all of modeling.\n",
    "base_params = dict(\n",
    "    objective=\"binary:logitraw\",\n",
    "    max_depth=0,\n",
    "    tree_method=\"hist\",\n",
    "    grow_policy=\"lossguide\",\n",
    "    eval_metric=\"auc\",\n",
    "    seed=123,\n",
    ")\n",
    "\n",
    "\n",
    "@use_named_args(xgb_search_space)\n",
    "def xgb_obj_func(**points):\n",
    "    mod_points = {**points, **base_params}\n",
    "    # We will use cross-validation performance to test\n",
    "    # the parameters. We will let XGBoost deal with the\n",
    "    # early stopping rounds itself.\n",
    "    mod_cv = xgb.cv(\n",
    "        params=mod_points,\n",
    "        dtrain=xdev,\n",
    "        num_boost_round=1_000,\n",
    "        early_stopping_rounds=50,\n",
    "        verbose_eval=False,\n",
    "    )\n",
    "    best_cv = mod_cv.loc[mod_cv[\"test-auc-mean\"].idxmax()]\n",
    "    best_score = -best_cv[\"test-auc-mean\"]\n",
    "    best_cv = best_cv.round(4)\n",
    "    print(\n",
    "        f\"train-auc: {best_cv['train-auc-mean']}, \"\n",
    "        + f\"test-auc: {best_cv['test-auc-mean']}, \"\n",
    "        + f\"iterations: {mod_cv.shape[0]}\"\n",
    "    )\n",
    "    return best_score"
   ]
  },
  {
   "cell_type": "markdown",
   "metadata": {},
   "source": [
    "We optimize our objective function using the `gp_minimize` function from scikit-optimize."
   ]
  },
  {
   "cell_type": "code",
   "execution_count": 12,
   "metadata": {},
   "outputs": [
    {
     "name": "stdout",
     "output_type": "stream",
     "text": [
      "train-auc: 0.8071, test-auc: 0.7513, iterations: 64\n",
      "train-auc: 0.8038, test-auc: 0.7527, iterations: 85\n",
      "train-auc: 0.7953, test-auc: 0.7523, iterations: 98\n",
      "train-auc: 0.8014, test-auc: 0.7515, iterations: 54\n",
      "train-auc: 0.7905, test-auc: 0.7509, iterations: 52\n",
      "train-auc: 0.804, test-auc: 0.7538, iterations: 104\n",
      "train-auc: 0.8051, test-auc: 0.7521, iterations: 128\n",
      "train-auc: 0.7909, test-auc: 0.7529, iterations: 179\n",
      "train-auc: 0.8067, test-auc: 0.7536, iterations: 122\n",
      "train-auc: 0.7964, test-auc: 0.7532, iterations: 77\n",
      "train-auc: 0.8074, test-auc: 0.7533, iterations: 115\n",
      "train-auc: 0.8034, test-auc: 0.7545, iterations: 247\n",
      "train-auc: 0.8045, test-auc: 0.7542, iterations: 331\n",
      "train-auc: 0.7746, test-auc: 0.7491, iterations: 59\n",
      "train-auc: 0.8125, test-auc: 0.7529, iterations: 199\n",
      "train-auc: 0.8042, test-auc: 0.7494, iterations: 51\n",
      "train-auc: 0.7884, test-auc: 0.7533, iterations: 166\n",
      "train-auc: 0.7986, test-auc: 0.7513, iterations: 55\n",
      "train-auc: 0.811, test-auc: 0.7539, iterations: 215\n",
      "train-auc: 0.7835, test-auc: 0.7512, iterations: 65\n",
      "train-auc: 0.8056, test-auc: 0.7535, iterations: 247\n",
      "train-auc: 0.8034, test-auc: 0.754, iterations: 284\n",
      "train-auc: 0.7824, test-auc: 0.7514, iterations: 81\n",
      "train-auc: 0.7972, test-auc: 0.7538, iterations: 134\n",
      "train-auc: 0.8178, test-auc: 0.7494, iterations: 39\n",
      "train-auc: 0.7815, test-auc: 0.7534, iterations: 136\n",
      "train-auc: 0.8177, test-auc: 0.7531, iterations: 132\n",
      "train-auc: 0.7912, test-auc: 0.7546, iterations: 247\n",
      "train-auc: 0.7959, test-auc: 0.7516, iterations: 54\n",
      "train-auc: 0.8112, test-auc: 0.7512, iterations: 71\n",
      "train-auc: 0.7866, test-auc: 0.7541, iterations: 347\n",
      "train-auc: 0.834, test-auc: 0.7531, iterations: 195\n",
      "train-auc: 0.7895, test-auc: 0.7482, iterations: 48\n",
      "train-auc: 0.7883, test-auc: 0.7516, iterations: 53\n",
      "train-auc: 0.789, test-auc: 0.7528, iterations: 96\n"
     ]
    }
   ],
   "source": [
    "bayes_params = gp_minimize(\n",
    "    xgb_obj_func,\n",
    "    xgb_search_space,\n",
    "    n_calls=35,\n",
    "    # Our initial points.\n",
    "    # [eta=0.1, min_child_weight=50, max_leaves=35, subsample=0.8, colsample_bytree=0.50,]\n",
    "    x0=[0.1, 50, 35, 0.8, 0.50,],\n",
    "    random_state=0,\n",
    ")"
   ]
  },
  {
   "cell_type": "markdown",
   "metadata": {},
   "source": [
    "Now we will take the best parameters from this optimization and train a model."
   ]
  },
  {
   "cell_type": "code",
   "execution_count": 13,
   "metadata": {},
   "outputs": [
    {
     "data": {
      "text/plain": [
       "27"
      ]
     },
     "execution_count": 13,
     "metadata": {},
     "output_type": "execute_result"
    }
   ],
   "source": [
    "best_bayes_params = np.argmin(bayes_params.func_vals)\n",
    "best_bayes_params = {\n",
    "    s.name: p for s, p in zip(xgb_search_space, bayes_params.x_iters[best_bayes_params])\n",
    "}\n",
    "np.argmin(bayes_params.func_vals)"
   ]
  },
  {
   "cell_type": "code",
   "execution_count": 14,
   "metadata": {},
   "outputs": [
    {
     "data": {
      "text/plain": [
       "{'objective': 'binary:logitraw',\n",
       " 'max_depth': 0,\n",
       " 'tree_method': 'hist',\n",
       " 'grow_policy': 'lossguide',\n",
       " 'eval_metric': 'auc',\n",
       " 'seed': 123,\n",
       " 'eta': 0.051272107358498985,\n",
       " 'min_child_weight': 184,\n",
       " 'max_leaves': 33,\n",
       " 'subsample': 0.7089763430499714,\n",
       " 'colsample_bytree': 0.5021842771568298}"
      ]
     },
     "execution_count": 14,
     "metadata": {},
     "output_type": "execute_result"
    }
   ],
   "source": [
    "best_bayes_params = {**base_params, **best_bayes_params}\n",
    "best_bayes_params"
   ]
  },
  {
   "cell_type": "code",
   "execution_count": 15,
   "metadata": {},
   "outputs": [],
   "source": [
    "watchlist = [(xdev, \"dev\"), (xtst, \"test\")]"
   ]
  },
  {
   "cell_type": "code",
   "execution_count": 16,
   "metadata": {},
   "outputs": [
    {
     "name": "stdout",
     "output_type": "stream",
     "text": [
      "[0]\tdev-auc:0.72030\ttest-auc:0.70554\n",
      "Multiple eval metrics have been passed: 'test-auc' will be used for early stopping.\n",
      "\n",
      "Will train until test-auc hasn't improved in 50 rounds.\n",
      "[100]\tdev-auc:0.77136\ttest-auc:0.74173\n",
      "[200]\tdev-auc:0.78793\ttest-auc:0.74730\n",
      "[300]\tdev-auc:0.80010\ttest-auc:0.74740\n",
      "Stopping. Best iteration:\n",
      "[270]\tdev-auc:0.79660\ttest-auc:0.74768\n",
      "\n"
     ]
    }
   ],
   "source": [
    "base_mod = xgb.train(\n",
    "    params=best_bayes_params,\n",
    "    dtrain=xdev,\n",
    "    num_boost_round=1_000,\n",
    "    early_stopping_rounds=50,\n",
    "    evals=watchlist,\n",
    "    verbose_eval=100,\n",
    ")"
   ]
  },
  {
   "cell_type": "markdown",
   "metadata": {},
   "source": [
    "Let's check performance on our dev, test, and val datasets."
   ]
  },
  {
   "cell_type": "code",
   "execution_count": 17,
   "metadata": {},
   "outputs": [],
   "source": [
    "base_dev_preds = base_mod.predict(xdev, ntree_limit=base_mod.best_ntree_limit)\n",
    "base_tst_preds = base_mod.predict(xtst, ntree_limit=base_mod.best_ntree_limit)\n",
    "base_val_preds = base_mod.predict(xval, ntree_limit=base_mod.best_ntree_limit)"
   ]
  },
  {
   "cell_type": "code",
   "execution_count": 47,
   "metadata": {},
   "outputs": [],
   "source": [
    "unopt_dev_preds = unopt_mod.predict(xdev, ntree_limit=unopt_mod.best_ntree_limit)\n",
    "unopt_tst_preds = unopt_mod.predict(xtst, ntree_limit=unopt_mod.best_ntree_limit)\n",
    "unopt_val_preds = unopt_mod.predict(xval, ntree_limit=unopt_mod.best_ntree_limit)"
   ]
  },
  {
   "cell_type": "code",
   "execution_count": 48,
   "metadata": {},
   "outputs": [
    {
     "name": "stdout",
     "output_type": "stream",
     "text": [
      "dev auc: 0.8181890388883102\n",
      "tst auc: 0.7454051947047909\n",
      "val auc: 0.7537540433815373\n",
      "\n"
     ]
    }
   ],
   "source": [
    "print(\n",
    "    f\"dev auc: {roc_auc_score(y[dev], unopt_dev_preds)}\\n\"\n",
    "    + f\"tst auc: {roc_auc_score(y[tst], unopt_tst_preds)}\\n\"\n",
    "    + f\"val auc: {roc_auc_score(y[val], unopt_val_preds)}\\n\"\n",
    ")"
   ]
  },
  {
   "cell_type": "code",
   "execution_count": 18,
   "metadata": {},
   "outputs": [
    {
     "name": "stdout",
     "output_type": "stream",
     "text": [
      "dev auc: 0.7966043153556779\n",
      "tst auc: 0.7476844910625849\n",
      "val auc: 0.7541903489192988\n",
      "\n"
     ]
    }
   ],
   "source": [
    "print(\n",
    "    f\"dev auc: {roc_auc_score(y[dev], base_dev_preds)}\\n\"\n",
    "    + f\"tst auc: {roc_auc_score(y[tst], base_tst_preds)}\\n\"\n",
    "    + f\"val auc: {roc_auc_score(y[val], base_val_preds)}\\n\"\n",
    ")"
   ]
  },
  {
   "cell_type": "markdown",
   "metadata": {},
   "source": [
    "Often in credit risk scenarios KS statistic is used to calculate the performance of the model."
   ]
  },
  {
   "cell_type": "code",
   "execution_count": 19,
   "metadata": {},
   "outputs": [],
   "source": [
    "def calc_ks_groupby(y_true, y_score, ascending=False, decimal: int = None):\n",
    "    sdf = pd.DataFrame({\"y_true\": y_true, \"y_score\": y_score})\n",
    "    if decimal is not None:\n",
    "        sdf[\"y_score\"] = sdf[\"y_score\"].round(decimal)\n",
    "    if not ascending:\n",
    "        sdf[\"y_score\"] = sdf[\"y_score\"].mul(-1)\n",
    "\n",
    "    # Not using lambda functions seems to speed things up substantially.\n",
    "    sdf_g = sdf.groupby(\"y_score\", sort=True).agg(\n",
    "        sum_1=(\"y_true\", \"sum\"), sum_0=(\"y_true\", \"count\"),\n",
    "    )\n",
    "    sdf_g[\"sum_0\"] = sdf_g[\"sum_0\"] - sdf_g[\"sum_1\"]\n",
    "\n",
    "    sdf_g[\"cumlp_1\"] = sdf_g[\"sum_1\"].cumsum() / sdf_g[\"sum_1\"].sum()\n",
    "    sdf_g[\"cumlp_0\"] = sdf_g[\"sum_0\"].cumsum() / sdf_g[\"sum_0\"].sum()\n",
    "    diff_1_0 = sdf_g[\"cumlp_1\"] - sdf_g[\"cumlp_0\"]\n",
    "    max_sep = np.argmax(np.abs(diff_1_0))\n",
    "    return diff_1_0.iat[max_sep]\n",
    "\n",
    "\n",
    "def calc_ks(y_true, y_score, ascending=False):\n",
    "    \"\"\"Calculate KS, if I was using a classic 3 digit credit score,\n",
    "    I would want to use groupby instead.\n",
    "    \"\"\"\n",
    "    data = pd.DataFrame({\"y_true\": y_true, \"y_score\": y_score})\n",
    "    scr_dat = data.sort_values(\"y_score\", ascending=ascending)\n",
    "    tot_perf = scr_dat[\"y_true\"].sum()\n",
    "    cuml_gd = scr_dat[\"y_true\"].eq(0).cumsum() / scr_dat[\"y_true\"].eq(0).sum()\n",
    "    cuml_bd = scr_dat[\"y_true\"].eq(1).cumsum() / scr_dat[\"y_true\"].sum()\n",
    "    return (cuml_bd - cuml_gd).max()"
   ]
  },
  {
   "cell_type": "code",
   "execution_count": 20,
   "metadata": {},
   "outputs": [
    {
     "name": "stdout",
     "output_type": "stream",
     "text": [
      "27.2 ms ± 680 µs per loop (mean ± std. dev. of 7 runs, 10 loops each)\n"
     ]
    }
   ],
   "source": [
    "%%timeit\n",
    "calc_ks_groupby(y[dev], base_dev_preds)"
   ]
  },
  {
   "cell_type": "code",
   "execution_count": 21,
   "metadata": {},
   "outputs": [
    {
     "name": "stdout",
     "output_type": "stream",
     "text": [
      "11.9 ms ± 100 µs per loop (mean ± std. dev. of 7 runs, 100 loops each)\n"
     ]
    }
   ],
   "source": [
    "%%timeit\n",
    "calc_ks(y[dev], base_dev_preds)"
   ]
  },
  {
   "cell_type": "code",
   "execution_count": 22,
   "metadata": {},
   "outputs": [
    {
     "name": "stdout",
     "output_type": "stream",
     "text": [
      "dev KS: 0.4480633693645598\n",
      "tst KS: 0.36461364603833224\n",
      "val KS: 0.38115138000594323\n",
      "\n"
     ]
    }
   ],
   "source": [
    "print(\n",
    "    f\"dev KS: {calc_ks_groupby(y[dev], base_dev_preds)}\\n\"\n",
    "    + f\"tst KS: {calc_ks_groupby(y[tst], base_tst_preds)}\\n\"\n",
    "    + f\"val KS: {calc_ks_groupby(y[val], base_val_preds)}\\n\"\n",
    ")"
   ]
  },
  {
   "cell_type": "code",
   "execution_count": 23,
   "metadata": {},
   "outputs": [
    {
     "name": "stdout",
     "output_type": "stream",
     "text": [
      "dev KS: 0.44806338198376106\n",
      "tst KS: 0.3646136261701173\n",
      "val KS: 0.3811513834845193\n",
      "\n"
     ]
    }
   ],
   "source": [
    "print(\n",
    "    f\"dev KS: {calc_ks(y[dev], base_dev_preds)}\\n\"\n",
    "    + f\"tst KS: {calc_ks(y[tst], base_tst_preds)}\\n\"\n",
    "    + f\"val KS: {calc_ks(y[val], base_val_preds)}\\n\"\n",
    ")"
   ]
  },
  {
   "cell_type": "code",
   "execution_count": 49,
   "metadata": {},
   "outputs": [
    {
     "name": "stdout",
     "output_type": "stream",
     "text": [
      "dev KS: 0.48526510016076907\n",
      "tst KS: 0.357103395630423\n",
      "val KS: 0.3786981512992897\n",
      "\n"
     ]
    }
   ],
   "source": [
    "print(\n",
    "    f\"dev KS: {calc_ks(y[dev], unopt_dev_preds)}\\n\"\n",
    "    + f\"tst KS: {calc_ks(y[tst], unopt_tst_preds)}\\n\"\n",
    "    + f\"val KS: {calc_ks(y[val], unopt_val_preds)}\\n\"\n",
    ")"
   ]
  },
  {
   "cell_type": "markdown",
   "metadata": {},
   "source": [
    "#### Taking a Look at the Top Attributes"
   ]
  },
  {
   "cell_type": "markdown",
   "metadata": {},
   "source": [
    "Let's take a look at some of the important variables in the model."
   ]
  },
  {
   "cell_type": "code",
   "execution_count": 24,
   "metadata": {},
   "outputs": [],
   "source": [
    "base_var_imp = pd.Series(\n",
    "    base_mod.get_score(importance_type=\"gain\"), name=\"gain\",\n",
    ").sort_values(ascending=False)\n",
    "base_var_imp_norm = base_var_imp.div(base_var_imp.sum())"
   ]
  },
  {
   "cell_type": "markdown",
   "metadata": {},
   "source": [
    "How many attributes didn't make it into the model."
   ]
  },
  {
   "cell_type": "code",
   "execution_count": 25,
   "metadata": {},
   "outputs": [
    {
     "data": {
      "text/plain": [
       "<AxesSubplot:title={'center':'Feature importance'}, xlabel='F score', ylabel='Features'>"
      ]
     },
     "execution_count": 25,
     "metadata": {},
     "output_type": "execute_result"
    },
    {
     "data": {
      "image/png": "[encoded data removed]",
      "text/plain": [
       "<Figure size 432x288 with 1 Axes>"
      ]
     },
     "metadata": {
      "needs_background": "light"
     },
     "output_type": "display_data"
    }
   ],
   "source": [
    "xgb.plot_importance(base_mod, importance_type=\"gain\", max_num_features=10)"
   ]
  },
  {
   "cell_type": "code",
   "execution_count": 26,
   "metadata": {},
   "outputs": [
    {
     "data": {
      "image/png": "[encoded data removed]",
      "text/plain": [
       "<Figure size 432x288 with 1 Axes>"
      ]
     },
     "metadata": {
      "needs_background": "light"
     },
     "output_type": "display_data"
    }
   ],
   "source": [
    "import matplotlib.pyplot as plt\n",
    "\n",
    "top_10_vars_bi = base_var_imp_norm.head(10).sort_values()\n",
    "p1 = top_10_vars_bi.plot.barh()\n",
    "for i, v in enumerate(top_10_vars_bi.round(4)):\n",
    "    plt.text(v, i, \" \" + str(v), color=\"black\", va=\"center\")\n",
    "plt.show()"
   ]
  },
  {
   "cell_type": "markdown",
   "metadata": {},
   "source": [
    "### Exploring Recursive Feature Elimination\n",
    "I looked into the scikit-learn classes `RFE` and `RFECV` but it doesn't let you pass any parameters into fit, so I can't set all of the parameters I need..."
   ]
  },
  {
   "cell_type": "code",
   "execution_count": 27,
   "metadata": {},
   "outputs": [
    {
     "data": {
      "text/plain": [
       "[0, 1]"
      ]
     },
     "execution_count": 27,
     "metadata": {},
     "output_type": "execute_result"
    }
   ],
   "source": [
    "[0, 1, 2, 3][:-2]"
   ]
  },
  {
   "cell_type": "code",
   "execution_count": 28,
   "metadata": {},
   "outputs": [
    {
     "data": {
      "text/plain": [
       "5.0"
      ]
     },
     "execution_count": 28,
     "metadata": {},
     "output_type": "execute_result"
    }
   ],
   "source": [
    "0.05 * 100"
   ]
  },
  {
   "cell_type": "code",
   "execution_count": 29,
   "metadata": {},
   "outputs": [],
   "source": [
    "import warnings\n",
    "from dataclasses import dataclass\n",
    "from typing import Dict, Optional, Union\n",
    "\n",
    "\n",
    "@dataclass\n",
    "class FoldBlock:\n",
    "    train_data: Dict[str, Union[pd.DataFrame, Union[pd.Series, np.array]]]\n",
    "    test_data: Dict[str, Union[pd.DataFrame, Union[pd.Series, np.array]]]\n",
    "\n",
    "\n",
    "def calc_step(n_features, step):\n",
    "    \"\"\"Calculate the lenght of the step\n",
    "    \"\"\"\n",
    "    if step >= 1:\n",
    "        return step\n",
    "    else:\n",
    "        step = int(n_features * step)\n",
    "        step = 1 if step == 0 else step\n",
    "        return step\n",
    "\n",
    "\n",
    "def recurisve_elmination_xgb_cv(\n",
    "    params: dict,\n",
    "    X: pd.DataFrame,\n",
    "    y: Union[pd.Series, np.array],\n",
    "    dtrain_args: Optional[dict] = None,\n",
    "    n_features_to_select: Optional[int] = None,\n",
    "    step: int = 1,\n",
    "    nfold: int = 3,\n",
    "    importance_type: str = \"gain\",\n",
    "    early_stopping_rounds: int = 50,\n",
    "    num_boost_round: int = 10,\n",
    "    verbose: bool = True,\n",
    "    as_pandas: bool = True,\n",
    "    seed: int = 0,\n",
    "):\n",
    "    \"\"\"Recursive feature elimination using cross validation, the dataset will\n",
    "    be split into nfold, and each fold will be used seperatly to test the model for\n",
    "    early stopping rounds, while the remaining portion of the data will be used to\n",
    "    train a model.\n",
    "    The first iteration may drop a large number of columns, if there are a lot of\n",
    "    columns with an importance metric value of 0.\n",
    "    \"\"\"\n",
    "    feature_names = X.columns\n",
    "    # Use half of the features if a number isn't specified\n",
    "    if n_features_to_select is None:\n",
    "        n_features_to_select = len(feature_names) // 2\n",
    "\n",
    "    assert isinstance(X, pd.DataFrame), \"X must be a pandas DataFrame.\"\n",
    "    assert nfold > 1, \"nfold must be greater than 1\"\n",
    "\n",
    "    # Create the CV folds.\n",
    "    # - We randomly create a shuffled index of the data\n",
    "    # - That gets split into nfold\n",
    "    # - The out of fold data (oo_fold_idx) is each of these\n",
    "    #   seperate folds.\n",
    "    # - The infold, is all other folds combined, these will be used\n",
    "    #   for the training dataset.\n",
    "    np.random.seed(seed)\n",
    "    rand_idx = np.random.permutation(X.shape[0])\n",
    "    oo_fold_idx = np.array_split(rand_idx, nfold)\n",
    "    in_fold_idx = [\n",
    "        np.concatenate([oo_fold_idx[i] for i in range(nfold) if i != k])\n",
    "        for k in range(nfold)\n",
    "    ]\n",
    "\n",
    "    fold_data = []\n",
    "    for i in range(nfold):\n",
    "        fold_block = FoldBlock(\n",
    "            train_data={\"X\": X.iloc[in_fold_idx[i]], \"y\": y.iloc[in_fold_idx[i]]},\n",
    "            test_data={\"X\": X.iloc[oo_fold_idx[i]], \"y\": y.iloc[oo_fold_idx[i]]},\n",
    "        )\n",
    "        fold_data.append(fold_block)\n",
    "\n",
    "    select_cycle = 0\n",
    "    final_results = {}\n",
    "    while len(feature_names) > n_features_to_select:\n",
    "        # if \"evals_result\" in kwargs:\n",
    "        #     warnings.warn(\"The parameter evals_result will be ignored\")\n",
    "        #     del kwargs[\"evals_result\"]\n",
    "        cv_results = {}\n",
    "        for i, block in enumerate(fold_data):\n",
    "            cv_results[i] = {}\n",
    "            e_results = {}\n",
    "            # Subset down to modeling columns\n",
    "            block.train_data[\"X\"] = block.train_data[\"X\"][feature_names]\n",
    "            block.test_data[\"X\"] = block.test_data[\"X\"][feature_names]\n",
    "\n",
    "            if dtrain_args is None:\n",
    "                dtrain = xgb.DMatrix(block.train_data[\"X\"], label=block.train_data[\"y\"])\n",
    "                dtest = xgb.DMatrix(block.test_data[\"X\"], label=block.test_data[\"y\"])\n",
    "            else:\n",
    "                dtrain = xgb.DMatrix(\n",
    "                    block.train_data[\"X\"], label=block.train_data[\"y\"], **dtrain_args\n",
    "                )\n",
    "                dtest = xgb.DMatrix(\n",
    "                    block.test_data[\"X\"], label=block.test_data[\"y\"], **dtrain_args\n",
    "                )\n",
    "\n",
    "            watchlist = [(dtrain, \"train\"), (dtest, \"test\")]\n",
    "\n",
    "            # Train model for the fold.\n",
    "            rfe_mod = xgb.train(\n",
    "                params=params,\n",
    "                dtrain=dtrain,\n",
    "                evals_result=e_results,\n",
    "                evals=watchlist,\n",
    "                num_boost_round=num_boost_round,\n",
    "                early_stopping_rounds=early_stopping_rounds,\n",
    "                verbose_eval=False,\n",
    "            )\n",
    "\n",
    "            # Get model perf info.\n",
    "            eval_m = sorted(list(e_results[\"train\"].keys()))[0]\n",
    "            cv_results[i][f\"train_{eval_m}\"] = e_results[\"train\"][eval_m][\n",
    "                rfe_mod.best_iteration\n",
    "            ]\n",
    "            cv_results[i][f\"test_{eval_m}\"] = e_results[\"test\"][eval_m][\n",
    "                rfe_mod.best_iteration\n",
    "            ]\n",
    "            # Get variable importance and normalize\n",
    "            cv_results[i][\"variable_imp\"] = pd.Series(\n",
    "                rfe_mod.get_score(importance_type=importance_type)\n",
    "            ).pipe(lambda x: x.div(x.sum()))\n",
    "\n",
    "        # Summarize results over folds.\n",
    "        final_results[select_cycle] = {}\n",
    "        final_results[select_cycle][f\"mean_train_{eval_m}\"] = np.mean(\n",
    "            [cv_results[f][f\"train_{eval_m}\"] for f in cv_results]\n",
    "        )\n",
    "        final_results[select_cycle][f\"mean_test_{eval_m}\"] = np.mean(\n",
    "            [cv_results[f][f\"test_{eval_m}\"] for f in cv_results]\n",
    "        )\n",
    "        # Get the average variable importance accross all folds.\n",
    "        avg_fold_imp = (\n",
    "            pd.concat([cv_results[f][\"variable_imp\"] for f in cv_results], axis=1)\n",
    "            .fillna(0)\n",
    "            .mean(axis=1)\n",
    "            .sort_values(ascending=False)\n",
    "        )\n",
    "        n_features = avg_fold_imp.shape[0]\n",
    "        fold_features = avg_fold_imp.index.to_list()\n",
    "        final_results[select_cycle][\"n_features\"] = n_features\n",
    "        final_results[select_cycle][\"variables\"] = fold_features\n",
    "        feature_names = fold_features[: -calc_step(n_features, step)]\n",
    "        if verbose:\n",
    "            train_message = f\"mean_train_{eval_m}\"\n",
    "            test_message = f\"mean_test_{eval_m}\"\n",
    "            print(\n",
    "                f\"[{(str(select_cycle)+']').ljust(7)}\"\n",
    "                + f\"{train_message}: {final_results[select_cycle][train_message]:.5f}  \"\n",
    "                + f\"{test_message}: {final_results[select_cycle][test_message]:.5f}  \"\n",
    "                + f\"num-features: {n_features}\"\n",
    "            )\n",
    "        if len(feature_names) == 0:\n",
    "            break\n",
    "        select_cycle += 1\n",
    "\n",
    "    if as_pandas:\n",
    "        final_results = pd.DataFrame.from_dict(final_results, orient=\"index\")\n",
    "\n",
    "    return final_results"
   ]
  },
  {
   "cell_type": "code",
   "execution_count": 30,
   "metadata": {},
   "outputs": [
    {
     "name": "stdout",
     "output_type": "stream",
     "text": [
      "[0]     mean_train_auc: 0.79178  mean_test_auc: 0.75439  num-features: 97\n",
      "[1]     mean_train_auc: 0.79328  mean_test_auc: 0.75484  num-features: 92\n",
      "[2]     mean_train_auc: 0.79560  mean_test_auc: 0.75413  num-features: 87\n",
      "[3]     mean_train_auc: 0.79222  mean_test_auc: 0.75443  num-features: 82\n",
      "[4]     mean_train_auc: 0.79826  mean_test_auc: 0.75443  num-features: 77\n",
      "[5]     mean_train_auc: 0.79255  mean_test_auc: 0.75548  num-features: 72\n",
      "[6]     mean_train_auc: 0.79344  mean_test_auc: 0.75500  num-features: 67\n",
      "[7]     mean_train_auc: 0.79001  mean_test_auc: 0.75493  num-features: 62\n",
      "[8]     mean_train_auc: 0.79286  mean_test_auc: 0.75531  num-features: 57\n",
      "[9]     mean_train_auc: 0.78691  mean_test_auc: 0.75474  num-features: 52\n",
      "[10]    mean_train_auc: 0.79177  mean_test_auc: 0.75508  num-features: 47\n",
      "[11]    mean_train_auc: 0.79002  mean_test_auc: 0.75537  num-features: 42\n",
      "[12]    mean_train_auc: 0.78770  mean_test_auc: 0.75579  num-features: 37\n",
      "[13]    mean_train_auc: 0.78850  mean_test_auc: 0.75617  num-features: 32\n",
      "[14]    mean_train_auc: 0.78231  mean_test_auc: 0.75505  num-features: 27\n",
      "[15]    mean_train_auc: 0.77053  mean_test_auc: 0.75057  num-features: 22\n",
      "[16]    mean_train_auc: 0.76190  mean_test_auc: 0.74638  num-features: 17\n",
      "[17]    mean_train_auc: 0.74772  mean_test_auc: 0.73718  num-features: 12\n"
     ]
    }
   ],
   "source": [
    "test_rfe = recurisve_elmination_xgb_cv(\n",
    "    params=best_bayes_params,\n",
    "    X=X[dev],\n",
    "    y=y[dev],\n",
    "    dtrain_args={\"missing\": np.nan},\n",
    "    n_features_to_select=10,\n",
    "    step=5,\n",
    "    nfold=3,\n",
    "    importance_type=\"gain\",\n",
    "    early_stopping_rounds=30,\n",
    "    num_boost_round=1_000,\n",
    "    verbose=True,\n",
    "    seed=0,\n",
    ")"
   ]
  },
  {
   "cell_type": "code",
   "execution_count": 31,
   "metadata": {},
   "outputs": [],
   "source": [
    "import seaborn as sns"
   ]
  },
  {
   "cell_type": "code",
   "execution_count": 32,
   "metadata": {},
   "outputs": [
    {
     "data": {
      "text/plain": [
       "<AxesSubplot:xlabel='n_features', ylabel='mean_test_auc'>"
      ]
     },
     "execution_count": 32,
     "metadata": {},
     "output_type": "execute_result"
    },
    {
     "data": {
      "image/png": "[encoded data removed]",
      "text/plain": [
       "<Figure size 432x288 with 1 Axes>"
      ]
     },
     "metadata": {
      "needs_background": "light"
     },
     "output_type": "display_data"
    }
   ],
   "source": [
    "sns.lineplot(x=\"n_features\", y=\"mean_test_auc\", data=test_rfe)"
   ]
  },
  {
   "cell_type": "code",
   "execution_count": 33,
   "metadata": {},
   "outputs": [
    {
     "data": {
      "text/plain": [
       "13"
      ]
     },
     "execution_count": 33,
     "metadata": {},
     "output_type": "execute_result"
    }
   ],
   "source": [
    "best_n_features = test_rfe[\"mean_test_auc\"].idxmax()\n",
    "best_n_features"
   ]
  },
  {
   "cell_type": "code",
   "execution_count": 34,
   "metadata": {},
   "outputs": [],
   "source": [
    "xdev_slim = xgb.DMatrix(\n",
    "    X[dev][test_rfe.iat[best_n_features, 3]], label=y[dev], missing=np.nan\n",
    ")\n",
    "xtst_slim = xgb.DMatrix(\n",
    "    X[tst][test_rfe.iat[best_n_features, 3]], label=y[tst], missing=np.nan\n",
    ")\n",
    "xval_slim = xgb.DMatrix(\n",
    "    X[val][test_rfe.iat[best_n_features, 3]], label=y[val], missing=np.nan\n",
    ")"
   ]
  },
  {
   "cell_type": "code",
   "execution_count": 35,
   "metadata": {},
   "outputs": [],
   "source": [
    "watchlist_slim = [(xdev_slim, \"dev\"), (xtst_slim, \"tst\")]"
   ]
  },
  {
   "cell_type": "code",
   "execution_count": 36,
   "metadata": {},
   "outputs": [
    {
     "name": "stdout",
     "output_type": "stream",
     "text": [
      "[0]\tdev-auc:0.69083\ttst-auc:0.67458\n",
      "Multiple eval metrics have been passed: 'tst-auc' will be used for early stopping.\n",
      "\n",
      "Will train until tst-auc hasn't improved in 50 rounds.\n",
      "[100]\tdev-auc:0.76834\ttst-auc:0.74183\n",
      "[200]\tdev-auc:0.78234\ttst-auc:0.74735\n",
      "[300]\tdev-auc:0.79158\ttst-auc:0.74842\n",
      "[400]\tdev-auc:0.79906\ttst-auc:0.74858\n",
      "Stopping. Best iteration:\n",
      "[365]\tdev-auc:0.79643\ttst-auc:0.74881\n",
      "\n"
     ]
    }
   ],
   "source": [
    "slim_mod = xgb.train(\n",
    "    params=best_bayes_params,\n",
    "    dtrain=xdev_slim,\n",
    "    num_boost_round=1_000,\n",
    "    early_stopping_rounds=50,\n",
    "    evals=watchlist_slim,\n",
    "    verbose_eval=100,\n",
    ")"
   ]
  },
  {
   "cell_type": "code",
   "execution_count": 37,
   "metadata": {},
   "outputs": [],
   "source": [
    "slim_dev_preds = slim_mod.predict(xdev_slim, ntree_limit=slim_mod.best_ntree_limit)\n",
    "slim_tst_preds = slim_mod.predict(xtst_slim, ntree_limit=slim_mod.best_ntree_limit)\n",
    "slim_val_preds = slim_mod.predict(xval_slim, ntree_limit=slim_mod.best_ntree_limit)"
   ]
  },
  {
   "cell_type": "code",
   "execution_count": 38,
   "metadata": {},
   "outputs": [
    {
     "name": "stdout",
     "output_type": "stream",
     "text": [
      "dev KS: 0.44654275239329255\n",
      "tst KS: 0.37061875199693234\n",
      "val KS: 0.38369467830941506\n",
      "\n"
     ]
    }
   ],
   "source": [
    "print(\n",
    "    f\"dev KS: {calc_ks(y[dev], slim_dev_preds)}\\n\"\n",
    "    + f\"tst KS: {calc_ks(y[tst], slim_tst_preds)}\\n\"\n",
    "    + f\"val KS: {calc_ks(y[val], slim_val_preds)}\\n\"\n",
    ")"
   ]
  },
  {
   "cell_type": "code",
   "execution_count": 39,
   "metadata": {},
   "outputs": [
    {
     "name": "stdout",
     "output_type": "stream",
     "text": [
      "dev KS: 0.44806338198376106\n",
      "tst KS: 0.3646136261701173\n",
      "val KS: 0.3811513834845193\n",
      "\n"
     ]
    }
   ],
   "source": [
    "print(\n",
    "    f\"dev KS: {calc_ks(y[dev], base_dev_preds)}\\n\"\n",
    "    + f\"tst KS: {calc_ks(y[tst], base_tst_preds)}\\n\"\n",
    "    + f\"val KS: {calc_ks(y[val], base_val_preds)}\\n\"\n",
    ")"
   ]
  },
  {
   "cell_type": "markdown",
   "metadata": {},
   "source": [
    "#### Taking a Look at Neutralization\n",
    "We may not want missing values to influence our final model predictions, this would be for compliance considerations."
   ]
  },
  {
   "cell_type": "markdown",
   "metadata": {},
   "source": [
    "This will just predict a matrix."
   ]
  },
  {
   "cell_type": "code",
   "execution_count": 61,
   "metadata": {},
   "outputs": [],
   "source": [
    "def neutralize_pred(model, dmat, mask, ntree_limit=0):\n",
    "    pred_n = model.predict(\n",
    "        dmat, ntree_limit=ntree_limit, pred_contribs=True, approx_contribs=True\n",
    "    )\n",
    "    # Mask contributions matrix\n",
    "    pred_n[:, :-1][mask] = 0\n",
    "    return pred_n.sum(axis=1)"
   ]
  },
  {
   "cell_type": "code",
   "execution_count": 68,
   "metadata": {},
   "outputs": [],
   "source": [
    "base_dev_preds_n = neutralize_pred(\n",
    "    base_mod, xdev, mask=X[dev].isna(), ntree_limit=base_mod.best_ntree_limit\n",
    ")\n",
    "base_tst_preds_n = neutralize_pred(\n",
    "    base_mod, xtst, mask=X[tst].isna(), ntree_limit=base_mod.best_ntree_limit\n",
    ")\n",
    "base_val_preds_n = neutralize_pred(\n",
    "    base_mod, xval, mask=X[val].isna(), ntree_limit=base_mod.best_ntree_limit\n",
    ")"
   ]
  },
  {
   "cell_type": "code",
   "execution_count": 69,
   "metadata": {},
   "outputs": [
    {
     "name": "stdout",
     "output_type": "stream",
     "text": [
      "dev KS: 0.444098049624419\n",
      "tst KS: 0.3631971800229829\n",
      "val KS: 0.3793191704524437\n",
      "\n"
     ]
    }
   ],
   "source": [
    "print(\n",
    "    f\"dev KS: {calc_ks(y[dev], base_dev_preds_n)}\\n\"\n",
    "    + f\"tst KS: {calc_ks(y[tst], base_tst_preds_n)}\\n\"\n",
    "    + f\"val KS: {calc_ks(y[val], base_val_preds_n)}\\n\"\n",
    ")"
   ]
  },
  {
   "cell_type": "code",
   "execution_count": 70,
   "metadata": {},
   "outputs": [
    {
     "name": "stdout",
     "output_type": "stream",
     "text": [
      "dev KS: 0.44806338198376106\n",
      "tst KS: 0.3646136261701173\n",
      "val KS: 0.3811513834845193\n",
      "\n"
     ]
    }
   ],
   "source": [
    "print(\n",
    "    f\"dev KS: {calc_ks(y[dev], base_dev_preds)}\\n\"\n",
    "    + f\"tst KS: {calc_ks(y[tst], base_tst_preds)}\\n\"\n",
    "    + f\"val KS: {calc_ks(y[val], base_val_preds)}\\n\"\n",
    ")"
   ]
  },
  {
   "cell_type": "code",
   "execution_count": 81,
   "metadata": {},
   "outputs": [
    {
     "data": {
      "image/png": "[encoded data removed]",
      "text/plain": [
       "<Figure size 432x288 with 1 Axes>"
      ]
     },
     "metadata": {
      "needs_background": "light"
     },
     "output_type": "display_data"
    }
   ],
   "source": [
    "# np.random.seed(123)\n",
    "# rand_val_idx = np.random.choice(np.arange(len(base_val_preds)), 50_000, replace=False)\n",
    "sns.kdeplot(\n",
    "    data=pd.DataFrame(\n",
    "        {\n",
    "            \"normal\": base_val_preds,  # [rand_val_idx],\n",
    "            \"neutralized\": base_val_preds_n,  # [rand_val_idx],\n",
    "        }\n",
    "    )\n",
    ");"
   ]
  },
  {
   "cell_type": "code",
   "execution_count": 66,
   "metadata": {},
   "outputs": [
    {
     "name": "stdout",
     "output_type": "stream",
     "text": [
      "185 µs ± 5.77 µs per loop (mean ± std. dev. of 7 runs, 1000 loops each)\n"
     ]
    }
   ],
   "source": [
    "%%timeit\n",
    "base_mod.predict(\n",
    "    xdev, ntree_limit=base_mod.best_ntree_limit,\n",
    ")"
   ]
  },
  {
   "cell_type": "code",
   "execution_count": 67,
   "metadata": {},
   "outputs": [
    {
     "name": "stdout",
     "output_type": "stream",
     "text": [
      "358 ms ± 11.2 ms per loop (mean ± std. dev. of 7 runs, 1 loop each)\n"
     ]
    }
   ],
   "source": [
    "%%timeit\n",
    "neutralize_pred(\n",
    "    base_mod, xdev, mask=X[dev].isna(), ntree_limit=base_mod.best_ntree_limit\n",
    ")"
   ]
  },
  {
   "cell_type": "code",
   "execution_count": null,
   "metadata": {},
   "outputs": [],
   "source": []
  }
 ],
 "metadata": {
  "kernelspec": {
   "display_name": "Python 3",
   "language": "python",
   "name": "python3"
  },
  "language_info": {
   "codemirror_mode": {
    "name": "ipython",
    "version": 3
   },
   "file_extension": ".py",
   "mimetype": "text/x-python",
   "name": "python",
   "nbconvert_exporter": "python",
   "pygments_lexer": "ipython3",
   "version": "3.8.5"
  }
 },
 "nbformat": 4,
 "nbformat_minor": 4
}
