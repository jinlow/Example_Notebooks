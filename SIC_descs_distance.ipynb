{
 "cells": [
  {
   "cell_type": "markdown",
   "metadata": {},
   "source": [
    "# Exploring Word Distance With SIC Descriptions"
   ]
  },
  {
   "cell_type": "markdown",
   "metadata": {},
   "source": [
    "In this notebook we look at some methods for exploring semantics similarities between sentences using word vectors.  \n",
    "Rather than creating our own word embeddings we will use the fast text word2vec vectors creating using a skip-gram model.\n",
    "We will explore industry classification SIC code descriptions."
   ]
  },
  {
   "cell_type": "code",
   "execution_count": 1,
   "metadata": {},
   "outputs": [],
   "source": [
    "import pandas as pd\n",
    "import numpy as np\n",
    "import spacy"
   ]
  },
  {
   "cell_type": "markdown",
   "metadata": {},
   "source": [
    "Lets first load in the word vectors we will be using, these come from the fasttext English model.  \n",
    "https://fasttext.cc/docs/en/english-vectors.html  \n",
    "I performed some manipulation of the vectors in R using the `data.table` package. I was able to read in the data with `fread()` extremely fast, and then could export it as a csv to use with `pandas`. This is probably something I could do with pure python, but I still fall back to my R roots at times. I then pickled the data with python to more quickly read it in."
   ]
  },
  {
   "cell_type": "code",
   "execution_count": 2,
   "metadata": {},
   "outputs": [],
   "source": [
    "# Word vectors, approx 1MM words with vectors 300 long.\n",
    "wvecs = pd.read_pickle(\"../data/wiki-news-300d-1M.pkl\")"
   ]
  },
  {
   "cell_type": "code",
   "execution_count": 3,
   "metadata": {},
   "outputs": [
    {
     "data": {
      "text/plain": [
       "(999994, 300)"
      ]
     },
     "execution_count": 3,
     "metadata": {},
     "output_type": "execute_result"
    }
   ],
   "source": [
    "wvecs.shape"
   ]
  },
  {
   "cell_type": "code",
   "execution_count": 4,
   "metadata": {},
   "outputs": [
    {
     "data": {
      "text/html": [
       "<div>\n",
       "<style scoped>\n",
       "    .dataframe tbody tr th:only-of-type {\n",
       "        vertical-align: middle;\n",
       "    }\n",
       "\n",
       "    .dataframe tbody tr th {\n",
       "        vertical-align: top;\n",
       "    }\n",
       "\n",
       "    .dataframe thead th {\n",
       "        text-align: right;\n",
       "    }\n",
       "</style>\n",
       "<table border=\"1\" class=\"dataframe\">\n",
       "  <thead>\n",
       "    <tr style=\"text-align: right;\">\n",
       "      <th></th>\n",
       "      <th>1</th>\n",
       "      <th>2</th>\n",
       "      <th>3</th>\n",
       "      <th>4</th>\n",
       "      <th>5</th>\n",
       "    </tr>\n",
       "    <tr>\n",
       "      <th>0</th>\n",
       "      <th></th>\n",
       "      <th></th>\n",
       "      <th></th>\n",
       "      <th></th>\n",
       "      <th></th>\n",
       "    </tr>\n",
       "  </thead>\n",
       "  <tbody>\n",
       "    <tr>\n",
       "      <th>,</th>\n",
       "      <td>0.1073</td>\n",
       "      <td>0.0089</td>\n",
       "      <td>0.0006</td>\n",
       "      <td>0.0055</td>\n",
       "      <td>-0.0646</td>\n",
       "    </tr>\n",
       "    <tr>\n",
       "      <th>the</th>\n",
       "      <td>0.0897</td>\n",
       "      <td>0.0160</td>\n",
       "      <td>-0.0571</td>\n",
       "      <td>0.0405</td>\n",
       "      <td>-0.0696</td>\n",
       "    </tr>\n",
       "    <tr>\n",
       "      <th>.</th>\n",
       "      <td>0.0004</td>\n",
       "      <td>0.0032</td>\n",
       "      <td>-0.0204</td>\n",
       "      <td>0.0479</td>\n",
       "      <td>-0.0450</td>\n",
       "    </tr>\n",
       "    <tr>\n",
       "      <th>and</th>\n",
       "      <td>-0.0314</td>\n",
       "      <td>0.0149</td>\n",
       "      <td>-0.0205</td>\n",
       "      <td>0.0557</td>\n",
       "      <td>0.0205</td>\n",
       "    </tr>\n",
       "    <tr>\n",
       "      <th>of</th>\n",
       "      <td>-0.0063</td>\n",
       "      <td>-0.0253</td>\n",
       "      <td>-0.0338</td>\n",
       "      <td>0.0178</td>\n",
       "      <td>-0.0966</td>\n",
       "    </tr>\n",
       "  </tbody>\n",
       "</table>\n",
       "</div>"
      ],
      "text/plain": [
       "          1       2       3       4       5\n",
       "0                                          \n",
       ",    0.1073  0.0089  0.0006  0.0055 -0.0646\n",
       "the  0.0897  0.0160 -0.0571  0.0405 -0.0696\n",
       ".    0.0004  0.0032 -0.0204  0.0479 -0.0450\n",
       "and -0.0314  0.0149 -0.0205  0.0557  0.0205\n",
       "of  -0.0063 -0.0253 -0.0338  0.0178 -0.0966"
      ]
     },
     "execution_count": 4,
     "metadata": {},
     "output_type": "execute_result"
    }
   ],
   "source": [
    "wvecs.iloc[0:5,0:5]"
   ]
  },
  {
   "cell_type": "markdown",
   "metadata": {},
   "source": [
    "I am not going to use an punctuation here, so we can drop these vectors. I am also going to convert all words to lowercase, so we do not need to keep capitalized words. The fasttext model provides capitalized and lower case words. For example..."
   ]
  },
  {
   "cell_type": "code",
   "execution_count": 5,
   "metadata": {},
   "outputs": [
    {
     "name": "stdout",
     "output_type": "stream",
     "text": [
      "1   -0.1140\n",
      "2    0.0393\n",
      "3   -0.0282\n",
      "4   -0.0730\n",
      "5   -0.1154\n",
      "Name: working, dtype: float64\n",
      "\n",
      "\n",
      "1   -0.0297\n",
      "2   -0.0028\n",
      "3    0.1812\n",
      "4   -0.0450\n",
      "5    0.0572\n",
      "Name: Working, dtype: float64\n",
      "\n",
      "\n",
      "1   -0.1876\n",
      "2   -0.0591\n",
      "3   -0.0959\n",
      "4    0.0605\n",
      "5   -0.0325\n",
      "Name: WORKING, dtype: float64\n"
     ]
    }
   ],
   "source": [
    "print(wvecs.loc['working'].head())\n",
    "print(\"\\n\")\n",
    "print(wvecs.loc['Working'].head())\n",
    "print(\"\\n\")\n",
    "print(wvecs.loc['WORKING'].head())"
   ]
  },
  {
   "cell_type": "code",
   "execution_count": 6,
   "metadata": {},
   "outputs": [
    {
     "data": {
      "text/plain": [
       "5"
      ]
     },
     "execution_count": 6,
     "metadata": {},
     "output_type": "execute_result"
    }
   ],
   "source": [
    "wvecs.index.to_series().isna().sum()"
   ]
  },
  {
   "cell_type": "code",
   "execution_count": 7,
   "metadata": {},
   "outputs": [],
   "source": [
    "# Some word values are NA, probably strange characters or something.\n",
    "wvecs = wvecs[~wvecs.index.to_series().isna()]"
   ]
  },
  {
   "cell_type": "code",
   "execution_count": 8,
   "metadata": {},
   "outputs": [],
   "source": [
    "# Flag any variables with capitol letters, or non-word (\\w) text.\n",
    "wvecs['cap_punct'] = wvecs.index.to_series().str.contains(\"[A-Z]|\\W\")"
   ]
  },
  {
   "cell_type": "code",
   "execution_count": 9,
   "metadata": {},
   "outputs": [],
   "source": [
    "wvecs = wvecs[~wvecs['cap_punct']].drop('cap_punct', axis=1)"
   ]
  },
  {
   "cell_type": "code",
   "execution_count": 10,
   "metadata": {},
   "outputs": [],
   "source": [
    "# Flag any variables with capitol letters, or non-word (\\w) text.\n",
    "wvecs = wvecs.dropna(axis=0)"
   ]
  },
  {
   "cell_type": "code",
   "execution_count": 11,
   "metadata": {},
   "outputs": [
    {
     "data": {
      "text/plain": [
       "(258631, 300)"
      ]
     },
     "execution_count": 11,
     "metadata": {},
     "output_type": "execute_result"
    }
   ],
   "source": [
    "wvecs.shape"
   ]
  },
  {
   "cell_type": "code",
   "execution_count": 12,
   "metadata": {},
   "outputs": [
    {
     "data": {
      "text/html": [
       "<div>\n",
       "<style scoped>\n",
       "    .dataframe tbody tr th:only-of-type {\n",
       "        vertical-align: middle;\n",
       "    }\n",
       "\n",
       "    .dataframe tbody tr th {\n",
       "        vertical-align: top;\n",
       "    }\n",
       "\n",
       "    .dataframe thead th {\n",
       "        text-align: right;\n",
       "    }\n",
       "</style>\n",
       "<table border=\"1\" class=\"dataframe\">\n",
       "  <thead>\n",
       "    <tr style=\"text-align: right;\">\n",
       "      <th></th>\n",
       "      <th>1</th>\n",
       "      <th>2</th>\n",
       "      <th>3</th>\n",
       "      <th>4</th>\n",
       "      <th>5</th>\n",
       "    </tr>\n",
       "    <tr>\n",
       "      <th>0</th>\n",
       "      <th></th>\n",
       "      <th></th>\n",
       "      <th></th>\n",
       "      <th></th>\n",
       "      <th></th>\n",
       "    </tr>\n",
       "  </thead>\n",
       "  <tbody>\n",
       "    <tr>\n",
       "      <th>the</th>\n",
       "      <td>0.0897</td>\n",
       "      <td>0.0160</td>\n",
       "      <td>-0.0571</td>\n",
       "      <td>0.0405</td>\n",
       "      <td>-0.0696</td>\n",
       "    </tr>\n",
       "    <tr>\n",
       "      <th>and</th>\n",
       "      <td>-0.0314</td>\n",
       "      <td>0.0149</td>\n",
       "      <td>-0.0205</td>\n",
       "      <td>0.0557</td>\n",
       "      <td>0.0205</td>\n",
       "    </tr>\n",
       "    <tr>\n",
       "      <th>of</th>\n",
       "      <td>-0.0063</td>\n",
       "      <td>-0.0253</td>\n",
       "      <td>-0.0338</td>\n",
       "      <td>0.0178</td>\n",
       "      <td>-0.0966</td>\n",
       "    </tr>\n",
       "    <tr>\n",
       "      <th>to</th>\n",
       "      <td>0.0495</td>\n",
       "      <td>0.0411</td>\n",
       "      <td>0.0041</td>\n",
       "      <td>0.0309</td>\n",
       "      <td>-0.0044</td>\n",
       "    </tr>\n",
       "    <tr>\n",
       "      <th>in</th>\n",
       "      <td>-0.0234</td>\n",
       "      <td>-0.0268</td>\n",
       "      <td>-0.0838</td>\n",
       "      <td>0.0386</td>\n",
       "      <td>-0.0321</td>\n",
       "    </tr>\n",
       "  </tbody>\n",
       "</table>\n",
       "</div>"
      ],
      "text/plain": [
       "          1       2       3       4       5\n",
       "0                                          \n",
       "the  0.0897  0.0160 -0.0571  0.0405 -0.0696\n",
       "and -0.0314  0.0149 -0.0205  0.0557  0.0205\n",
       "of  -0.0063 -0.0253 -0.0338  0.0178 -0.0966\n",
       "to   0.0495  0.0411  0.0041  0.0309 -0.0044\n",
       "in  -0.0234 -0.0268 -0.0838  0.0386 -0.0321"
      ]
     },
     "execution_count": 12,
     "metadata": {},
     "output_type": "execute_result"
    }
   ],
   "source": [
    "wvecs.iloc[0:5,0:5]"
   ]
  },
  {
   "cell_type": "code",
   "execution_count": 13,
   "metadata": {},
   "outputs": [
    {
     "data": {
      "text/plain": [
       "['sic_descriptions.xlsx']"
      ]
     },
     "execution_count": 13,
     "metadata": {},
     "output_type": "execute_result"
    }
   ],
   "source": [
    "import os\n",
    "os.listdir(\"../docs/\")"
   ]
  },
  {
   "cell_type": "markdown",
   "metadata": {},
   "source": [
    "Read in and clean SIC data. For now we will just work with the major codes. After we develop a clean pipeline for cleaning and processing the data, we can work with the 4 digit codes.\n",
    "\n",
    "In the future I will use the following table for the main groups\n",
    "https://github.com/saintsjd/sic4-list/blob/master/sic-codes.csv"
   ]
  },
  {
   "cell_type": "code",
   "execution_count": 14,
   "metadata": {},
   "outputs": [],
   "source": [
    "sic = pd.read_excel(\"../docs/sic_descriptions.xlsx\", sheet_name='4 digit')"
   ]
  },
  {
   "cell_type": "code",
   "execution_count": 15,
   "metadata": {},
   "outputs": [
    {
     "data": {
      "text/plain": [
       "(1208, 2)"
      ]
     },
     "execution_count": 15,
     "metadata": {},
     "output_type": "execute_result"
    }
   ],
   "source": [
    "sic.shape"
   ]
  },
  {
   "cell_type": "code",
   "execution_count": 16,
   "metadata": {},
   "outputs": [
    {
     "data": {
      "text/html": [
       "<div>\n",
       "<style scoped>\n",
       "    .dataframe tbody tr th:only-of-type {\n",
       "        vertical-align: middle;\n",
       "    }\n",
       "\n",
       "    .dataframe tbody tr th {\n",
       "        vertical-align: top;\n",
       "    }\n",
       "\n",
       "    .dataframe thead th {\n",
       "        text-align: right;\n",
       "    }\n",
       "</style>\n",
       "<table border=\"1\" class=\"dataframe\">\n",
       "  <thead>\n",
       "    <tr style=\"text-align: right;\">\n",
       "      <th></th>\n",
       "      <th>code</th>\n",
       "      <th>desc</th>\n",
       "    </tr>\n",
       "  </thead>\n",
       "  <tbody>\n",
       "    <tr>\n",
       "      <th>0</th>\n",
       "      <td>111</td>\n",
       "      <td>Wheat Farming</td>\n",
       "    </tr>\n",
       "    <tr>\n",
       "      <th>1</th>\n",
       "      <td>112</td>\n",
       "      <td>Rice Farming</td>\n",
       "    </tr>\n",
       "    <tr>\n",
       "      <th>2</th>\n",
       "      <td>115</td>\n",
       "      <td>Corn Farming</td>\n",
       "    </tr>\n",
       "    <tr>\n",
       "      <th>3</th>\n",
       "      <td>116</td>\n",
       "      <td>Soybean Farming</td>\n",
       "    </tr>\n",
       "    <tr>\n",
       "      <th>4</th>\n",
       "      <td>119</td>\n",
       "      <td>Dry Pea and Bean Farming</td>\n",
       "    </tr>\n",
       "  </tbody>\n",
       "</table>\n",
       "</div>"
      ],
      "text/plain": [
       "   code                      desc\n",
       "0   111             Wheat Farming\n",
       "1   112              Rice Farming\n",
       "2   115              Corn Farming\n",
       "3   116           Soybean Farming\n",
       "4   119  Dry Pea and Bean Farming"
      ]
     },
     "execution_count": 16,
     "metadata": {},
     "output_type": "execute_result"
    }
   ],
   "source": [
    "sic.head()"
   ]
  },
  {
   "cell_type": "code",
   "execution_count": 17,
   "metadata": {},
   "outputs": [
    {
     "data": {
      "text/plain": [
       "7389    21\n",
       "7999    11\n",
       "7699    10\n",
       "5812     7\n",
       "1799     6\n",
       "        ..\n",
       "3365     1\n",
       "3364     1\n",
       "3363     1\n",
       "3356     1\n",
       "2048     1\n",
       "Name: code, Length: 880, dtype: int64"
      ]
     },
     "execution_count": 17,
     "metadata": {},
     "output_type": "execute_result"
    }
   ],
   "source": [
    "sic['code'].value_counts()"
   ]
  },
  {
   "cell_type": "markdown",
   "metadata": {},
   "source": [
    "For some reason there are records with duplicate sic codes. We will just take the first one for now, and drop the rest."
   ]
  },
  {
   "cell_type": "code",
   "execution_count": 18,
   "metadata": {},
   "outputs": [],
   "source": [
    "sic = sic.drop_duplicates(subset='code')"
   ]
  },
  {
   "cell_type": "code",
   "execution_count": 19,
   "metadata": {},
   "outputs": [],
   "source": [
    "import spacy\n",
    "from nltk.corpus import stopwords\n",
    "\n",
    "nlp = spacy.load('en_core_web_sm', disable = ['parser', 'ner'])\n",
    "stpwrds = stopwords.words(\"english\")\n",
    "def clean_series_text(col):\n",
    "    \"\"\"Clean and process the series text\"\"\"\n",
    "    clean_words = nlp.pipe(col.str.lower().tolist(), batch_size=200)\n",
    "    clean_words = [[word.lemma_ for word in doc \n",
    "                    if word.lemma_ not in stpwrds and \n",
    "                    word.pos_ not in ['PUNCT', 'PRON']] for doc in clean_words]\n",
    "    return clean_words"
   ]
  },
  {
   "cell_type": "code",
   "execution_count": 20,
   "metadata": {},
   "outputs": [],
   "source": [
    "sic['desc_toks'] = clean_series_text(sic['desc'])"
   ]
  },
  {
   "cell_type": "code",
   "execution_count": 21,
   "metadata": {},
   "outputs": [
    {
     "data": {
      "text/html": [
       "<div>\n",
       "<style scoped>\n",
       "    .dataframe tbody tr th:only-of-type {\n",
       "        vertical-align: middle;\n",
       "    }\n",
       "\n",
       "    .dataframe tbody tr th {\n",
       "        vertical-align: top;\n",
       "    }\n",
       "\n",
       "    .dataframe thead th {\n",
       "        text-align: right;\n",
       "    }\n",
       "</style>\n",
       "<table border=\"1\" class=\"dataframe\">\n",
       "  <thead>\n",
       "    <tr style=\"text-align: right;\">\n",
       "      <th></th>\n",
       "      <th>code</th>\n",
       "      <th>desc</th>\n",
       "      <th>desc_toks</th>\n",
       "    </tr>\n",
       "  </thead>\n",
       "  <tbody>\n",
       "    <tr>\n",
       "      <th>0</th>\n",
       "      <td>111</td>\n",
       "      <td>Wheat Farming</td>\n",
       "      <td>[wheat, farming]</td>\n",
       "    </tr>\n",
       "    <tr>\n",
       "      <th>1</th>\n",
       "      <td>112</td>\n",
       "      <td>Rice Farming</td>\n",
       "      <td>[rice, farming]</td>\n",
       "    </tr>\n",
       "    <tr>\n",
       "      <th>2</th>\n",
       "      <td>115</td>\n",
       "      <td>Corn Farming</td>\n",
       "      <td>[corn, farming]</td>\n",
       "    </tr>\n",
       "    <tr>\n",
       "      <th>3</th>\n",
       "      <td>116</td>\n",
       "      <td>Soybean Farming</td>\n",
       "      <td>[soybean, farming]</td>\n",
       "    </tr>\n",
       "    <tr>\n",
       "      <th>4</th>\n",
       "      <td>119</td>\n",
       "      <td>Dry Pea and Bean Farming</td>\n",
       "      <td>[dry, pea, bean, farming]</td>\n",
       "    </tr>\n",
       "  </tbody>\n",
       "</table>\n",
       "</div>"
      ],
      "text/plain": [
       "   code                      desc                  desc_toks\n",
       "0   111             Wheat Farming           [wheat, farming]\n",
       "1   112              Rice Farming            [rice, farming]\n",
       "2   115              Corn Farming            [corn, farming]\n",
       "3   116           Soybean Farming         [soybean, farming]\n",
       "4   119  Dry Pea and Bean Farming  [dry, pea, bean, farming]"
      ]
     },
     "execution_count": 21,
     "metadata": {},
     "output_type": "execute_result"
    }
   ],
   "source": [
    "sic.head()"
   ]
  },
  {
   "cell_type": "markdown",
   "metadata": {},
   "source": [
    "### Create Summed Word Vectors\n",
    "For each description, we are going to want to create summed word vectors of all of the individual vectors."
   ]
  },
  {
   "cell_type": "code",
   "execution_count": 22,
   "metadata": {},
   "outputs": [],
   "source": [
    "def get_word_vec(word, word_vecs):\n",
    "    \"\"\"Get word vector and return an empty array if \n",
    "       the word is not in the word_vecs.\n",
    "    \"\"\"\n",
    "    try:\n",
    "        wv = word_vecs.loc[word,].values\n",
    "    except KeyError:\n",
    "        wv = np.zeros(word_vecs.shape[1])\n",
    "    return wv"
   ]
  },
  {
   "cell_type": "code",
   "execution_count": 23,
   "metadata": {},
   "outputs": [
    {
     "data": {
      "text/plain": [
       "(300,)"
      ]
     },
     "execution_count": 23,
     "metadata": {},
     "output_type": "execute_result"
    }
   ],
   "source": [
    "get_word_vec(\"apple\", word_vecs=wvecs).shape"
   ]
  },
  {
   "cell_type": "code",
   "execution_count": 24,
   "metadata": {},
   "outputs": [
    {
     "data": {
      "text/plain": [
       "array([0., 0., 0., 0., 0., 0., 0., 0., 0., 0.])"
      ]
     },
     "execution_count": 24,
     "metadata": {},
     "output_type": "execute_result"
    }
   ],
   "source": [
    "get_word_vec(\"ADfDfdsA\", word_vecs=wvecs)[0:10]"
   ]
  },
  {
   "cell_type": "code",
   "execution_count": 25,
   "metadata": {},
   "outputs": [],
   "source": [
    "def sum_word_vecs(word_list, word_vecs=wvecs):\n",
    "    \"\"\"Sum all of the word vectors of several words\"\"\"\n",
    "    wvs = np.vstack([get_word_vec(word, word_vecs) for word in word_list])\n",
    "    return np.sum(wvs, axis=0)"
   ]
  },
  {
   "cell_type": "markdown",
   "metadata": {},
   "source": [
    "Now with these function we can create the word vector for each description."
   ]
  },
  {
   "cell_type": "code",
   "execution_count": 26,
   "metadata": {},
   "outputs": [],
   "source": [
    "sic['desc_wvec'] = sic['desc_toks'].apply(sum_word_vecs)"
   ]
  },
  {
   "cell_type": "code",
   "execution_count": 27,
   "metadata": {},
   "outputs": [
    {
     "data": {
      "text/html": [
       "<div>\n",
       "<style scoped>\n",
       "    .dataframe tbody tr th:only-of-type {\n",
       "        vertical-align: middle;\n",
       "    }\n",
       "\n",
       "    .dataframe tbody tr th {\n",
       "        vertical-align: top;\n",
       "    }\n",
       "\n",
       "    .dataframe thead th {\n",
       "        text-align: right;\n",
       "    }\n",
       "</style>\n",
       "<table border=\"1\" class=\"dataframe\">\n",
       "  <thead>\n",
       "    <tr style=\"text-align: right;\">\n",
       "      <th></th>\n",
       "      <th>code</th>\n",
       "      <th>desc</th>\n",
       "      <th>desc_toks</th>\n",
       "      <th>desc_wvec</th>\n",
       "    </tr>\n",
       "  </thead>\n",
       "  <tbody>\n",
       "    <tr>\n",
       "      <th>0</th>\n",
       "      <td>111</td>\n",
       "      <td>Wheat Farming</td>\n",
       "      <td>[wheat, farming]</td>\n",
       "      <td>[0.1251, -0.024800000000000003, -0.03259999999...</td>\n",
       "    </tr>\n",
       "    <tr>\n",
       "      <th>1</th>\n",
       "      <td>112</td>\n",
       "      <td>Rice Farming</td>\n",
       "      <td>[rice, farming]</td>\n",
       "      <td>[0.03689999999999999, -0.030799999999999994, -...</td>\n",
       "    </tr>\n",
       "    <tr>\n",
       "      <th>2</th>\n",
       "      <td>115</td>\n",
       "      <td>Corn Farming</td>\n",
       "      <td>[corn, farming]</td>\n",
       "      <td>[0.0678, 0.1759, -0.025300000000000003, 0.1433...</td>\n",
       "    </tr>\n",
       "    <tr>\n",
       "      <th>3</th>\n",
       "      <td>116</td>\n",
       "      <td>Soybean Farming</td>\n",
       "      <td>[soybean, farming]</td>\n",
       "      <td>[0.14529999999999998, 0.14, 0.0725000000000000...</td>\n",
       "    </tr>\n",
       "    <tr>\n",
       "      <th>4</th>\n",
       "      <td>119</td>\n",
       "      <td>Dry Pea and Bean Farming</td>\n",
       "      <td>[dry, pea, bean, farming]</td>\n",
       "      <td>[-0.065, -0.018799999999999997, 0.058500000000...</td>\n",
       "    </tr>\n",
       "  </tbody>\n",
       "</table>\n",
       "</div>"
      ],
      "text/plain": [
       "   code                      desc                  desc_toks  \\\n",
       "0   111             Wheat Farming           [wheat, farming]   \n",
       "1   112              Rice Farming            [rice, farming]   \n",
       "2   115              Corn Farming            [corn, farming]   \n",
       "3   116           Soybean Farming         [soybean, farming]   \n",
       "4   119  Dry Pea and Bean Farming  [dry, pea, bean, farming]   \n",
       "\n",
       "                                           desc_wvec  \n",
       "0  [0.1251, -0.024800000000000003, -0.03259999999...  \n",
       "1  [0.03689999999999999, -0.030799999999999994, -...  \n",
       "2  [0.0678, 0.1759, -0.025300000000000003, 0.1433...  \n",
       "3  [0.14529999999999998, 0.14, 0.0725000000000000...  \n",
       "4  [-0.065, -0.018799999999999997, 0.058500000000...  "
      ]
     },
     "execution_count": 27,
     "metadata": {},
     "output_type": "execute_result"
    }
   ],
   "source": [
    "sic.head()"
   ]
  },
  {
   "cell_type": "code",
   "execution_count": 28,
   "metadata": {},
   "outputs": [
    {
     "data": {
      "text/plain": [
       "(300,)"
      ]
     },
     "execution_count": 28,
     "metadata": {},
     "output_type": "execute_result"
    }
   ],
   "source": [
    "sic.iloc[0,3].shape"
   ]
  },
  {
   "cell_type": "code",
   "execution_count": 29,
   "metadata": {},
   "outputs": [],
   "source": [
    "sic = sic.set_index(\"code\")"
   ]
  },
  {
   "cell_type": "markdown",
   "metadata": {},
   "source": [
    "Now that we have the word vectors, we can find the nearest neighbors of a given point using a approximate nearest neighbors. For this we can use the python package called `annoy`."
   ]
  },
  {
   "cell_type": "code",
   "execution_count": 30,
   "metadata": {},
   "outputs": [],
   "source": [
    "from annoy import AnnoyIndex"
   ]
  },
  {
   "cell_type": "code",
   "execution_count": 31,
   "metadata": {},
   "outputs": [],
   "source": [
    "ann_index = AnnoyIndex(300, metric='angular')"
   ]
  },
  {
   "cell_type": "code",
   "execution_count": 32,
   "metadata": {},
   "outputs": [],
   "source": [
    "sic_codes = sic.index.values"
   ]
  },
  {
   "cell_type": "code",
   "execution_count": 33,
   "metadata": {},
   "outputs": [
    {
     "data": {
      "text/plain": [
       "2047    1\n",
       "2821    1\n",
       "2841    1\n",
       "2836    1\n",
       "2835    1\n",
       "       ..\n",
       "3446    1\n",
       "3444    1\n",
       "3443    1\n",
       "3442    1\n",
       "2048    1\n",
       "Name: code, Length: 880, dtype: int64"
      ]
     },
     "execution_count": 33,
     "metadata": {},
     "output_type": "execute_result"
    }
   ],
   "source": [
    "sic.index.value_counts()"
   ]
  },
  {
   "cell_type": "code",
   "execution_count": 34,
   "metadata": {},
   "outputs": [
    {
     "data": {
      "text/plain": [
       "array([-0.065 , -0.0188,  0.0585, -0.0697,  0.1298, -0.1754, -0.1045,\n",
       "       -0.2171,  0.3343, -0.08  ])"
      ]
     },
     "execution_count": 34,
     "metadata": {},
     "output_type": "execute_result"
    }
   ],
   "source": [
    "sic.loc[119, \"desc_wvec\"][0:10]"
   ]
  },
  {
   "cell_type": "code",
   "execution_count": 35,
   "metadata": {},
   "outputs": [],
   "source": [
    "for code in sic_codes:\n",
    "    ann_index.add_item(code, sic.loc[code, \"desc_wvec\"])"
   ]
  },
  {
   "cell_type": "code",
   "execution_count": 36,
   "metadata": {},
   "outputs": [
    {
     "data": {
      "text/plain": [
       "True"
      ]
     },
     "execution_count": 36,
     "metadata": {},
     "output_type": "execute_result"
    }
   ],
   "source": [
    "# Build the annoy index\n",
    "ann_index.build(n_trees=50)"
   ]
  },
  {
   "cell_type": "code",
   "execution_count": 37,
   "metadata": {},
   "outputs": [
    {
     "data": {
      "text/plain": [
       "[119, 161, 134, 112, 171, 115]"
      ]
     },
     "execution_count": 37,
     "metadata": {},
     "output_type": "execute_result"
    }
   ],
   "source": [
    "ann_index.get_nns_by_item(119, n=6)"
   ]
  },
  {
   "cell_type": "code",
   "execution_count": 38,
   "metadata": {},
   "outputs": [
    {
     "data": {
      "text/plain": [
       "array([-0.065 , -0.0188,  0.0585, -0.0697,  0.1298, -0.1754, -0.1045,\n",
       "       -0.2171,  0.3343, -0.08  ])"
      ]
     },
     "execution_count": 38,
     "metadata": {},
     "output_type": "execute_result"
    }
   ],
   "source": [
    "sic.loc[119, \"desc_wvec\"][0:10]"
   ]
  },
  {
   "cell_type": "code",
   "execution_count": 39,
   "metadata": {},
   "outputs": [
    {
     "data": {
      "text/plain": [
       "code\n",
       "119                             Dry Pea and Bean Farming\n",
       "161    Other Vegetable (Except Potato) and Melon Farming\n",
       "134                                       Potato Farming\n",
       "112                                         Rice Farming\n",
       "171                    Berry (Except Strawberry) Farming\n",
       "115                                         Corn Farming\n",
       "Name: desc, dtype: object"
      ]
     },
     "execution_count": 39,
     "metadata": {},
     "output_type": "execute_result"
    }
   ],
   "source": [
    "sic.loc[[119, 161, 134, 112, 171, 115],'desc']"
   ]
  },
  {
   "cell_type": "markdown",
   "metadata": {},
   "source": [
    "Lets try this with the SIC major descriptions"
   ]
  },
  {
   "cell_type": "code",
   "execution_count": 40,
   "metadata": {},
   "outputs": [],
   "source": [
    "sic_div = pd.read_excel(\"../docs/sic_descriptions.xlsx\", sheet_name='division')"
   ]
  },
  {
   "cell_type": "code",
   "execution_count": 41,
   "metadata": {},
   "outputs": [
    {
     "data": {
      "text/html": [
       "<div>\n",
       "<style scoped>\n",
       "    .dataframe tbody tr th:only-of-type {\n",
       "        vertical-align: middle;\n",
       "    }\n",
       "\n",
       "    .dataframe tbody tr th {\n",
       "        vertical-align: top;\n",
       "    }\n",
       "\n",
       "    .dataframe thead th {\n",
       "        text-align: right;\n",
       "    }\n",
       "</style>\n",
       "<table border=\"1\" class=\"dataframe\">\n",
       "  <thead>\n",
       "    <tr style=\"text-align: right;\">\n",
       "      <th></th>\n",
       "      <th>division</th>\n",
       "      <th>desc</th>\n",
       "    </tr>\n",
       "  </thead>\n",
       "  <tbody>\n",
       "    <tr>\n",
       "      <th>0</th>\n",
       "      <td>A</td>\n",
       "      <td>Agriculture, Forestry, And Fishing</td>\n",
       "    </tr>\n",
       "    <tr>\n",
       "      <th>1</th>\n",
       "      <td>B</td>\n",
       "      <td>Mining</td>\n",
       "    </tr>\n",
       "    <tr>\n",
       "      <th>2</th>\n",
       "      <td>C</td>\n",
       "      <td>Construction</td>\n",
       "    </tr>\n",
       "    <tr>\n",
       "      <th>3</th>\n",
       "      <td>D</td>\n",
       "      <td>Manufacturing</td>\n",
       "    </tr>\n",
       "    <tr>\n",
       "      <th>4</th>\n",
       "      <td>E</td>\n",
       "      <td>Transportation, Communications, Electric, Gas,...</td>\n",
       "    </tr>\n",
       "    <tr>\n",
       "      <th>5</th>\n",
       "      <td>F</td>\n",
       "      <td>Wholesale Trade</td>\n",
       "    </tr>\n",
       "    <tr>\n",
       "      <th>6</th>\n",
       "      <td>G</td>\n",
       "      <td>Retail Trade</td>\n",
       "    </tr>\n",
       "    <tr>\n",
       "      <th>7</th>\n",
       "      <td>H</td>\n",
       "      <td>Finance, Insurance, And Real Estate</td>\n",
       "    </tr>\n",
       "    <tr>\n",
       "      <th>8</th>\n",
       "      <td>I</td>\n",
       "      <td>Services</td>\n",
       "    </tr>\n",
       "    <tr>\n",
       "      <th>9</th>\n",
       "      <td>J</td>\n",
       "      <td>Public Administration</td>\n",
       "    </tr>\n",
       "  </tbody>\n",
       "</table>\n",
       "</div>"
      ],
      "text/plain": [
       "  division                                               desc\n",
       "0        A                 Agriculture, Forestry, And Fishing\n",
       "1        B                                             Mining\n",
       "2        C                                       Construction\n",
       "3        D                                      Manufacturing\n",
       "4        E  Transportation, Communications, Electric, Gas,...\n",
       "5        F                                    Wholesale Trade\n",
       "6        G                                       Retail Trade\n",
       "7        H               Finance, Insurance, And Real Estate \n",
       "8        I                                           Services\n",
       "9        J                             Public Administration "
      ]
     },
     "execution_count": 41,
     "metadata": {},
     "output_type": "execute_result"
    }
   ],
   "source": [
    "sic_div"
   ]
  },
  {
   "cell_type": "code",
   "execution_count": 42,
   "metadata": {},
   "outputs": [],
   "source": [
    "sic_div = sic_div.reset_index().rename(columns={\"index\" : \"id\"})"
   ]
  },
  {
   "cell_type": "code",
   "execution_count": 43,
   "metadata": {},
   "outputs": [],
   "source": [
    "sic_div['desc_toks'] = clean_series_text(sic_div['desc'])"
   ]
  },
  {
   "cell_type": "code",
   "execution_count": 44,
   "metadata": {},
   "outputs": [],
   "source": [
    "sic_div['desc_wvec'] = sic_div['desc_toks'].apply(sum_word_vecs)"
   ]
  },
  {
   "cell_type": "code",
   "execution_count": 45,
   "metadata": {},
   "outputs": [],
   "source": [
    "div_index = AnnoyIndex(300, metric='angular')"
   ]
  },
  {
   "cell_type": "code",
   "execution_count": 46,
   "metadata": {},
   "outputs": [],
   "source": [
    "for code in sic_div['id'].values:\n",
    "    div_index.add_item(code, sic_div.loc[code, \"desc_wvec\"])"
   ]
  },
  {
   "cell_type": "code",
   "execution_count": 47,
   "metadata": {},
   "outputs": [
    {
     "data": {
      "text/plain": [
       "[919, 851, 132, 112, 913, 111]"
      ]
     },
     "execution_count": 47,
     "metadata": {},
     "output_type": "execute_result"
    }
   ],
   "source": [
    "ann_index.get_nns_by_vector(div_index.get_item_vector(0), 6)"
   ]
  },
  {
   "cell_type": "code",
   "execution_count": 48,
   "metadata": {},
   "outputs": [
    {
     "data": {
      "text/plain": [
       "code\n",
       "919               Other Marine Fishing\n",
       "851    Support Activities for Forestry\n",
       "132                    Tobacco Farming\n",
       "112                       Rice Farming\n",
       "913                  Shellfish Fishing\n",
       "111                      Wheat Farming\n",
       "Name: desc, dtype: object"
      ]
     },
     "execution_count": 48,
     "metadata": {},
     "output_type": "execute_result"
    }
   ],
   "source": [
    "sic.loc[[919, 851, 132, 112, 913, 111], \"desc\"]"
   ]
  },
  {
   "cell_type": "markdown",
   "metadata": {},
   "source": [
    "We could apply this to the whole dataset by just applying it."
   ]
  },
  {
   "cell_type": "code",
   "execution_count": 49,
   "metadata": {},
   "outputs": [],
   "source": [
    "sic_div['nns_codes'] = sic_div['id']. \\\n",
    "apply(lambda x: ann_index.get_nns_by_vector(div_index.get_item_vector(x), 6))"
   ]
  },
  {
   "cell_type": "code",
   "execution_count": 50,
   "metadata": {},
   "outputs": [
    {
     "data": {
      "text/html": [
       "<div>\n",
       "<style scoped>\n",
       "    .dataframe tbody tr th:only-of-type {\n",
       "        vertical-align: middle;\n",
       "    }\n",
       "\n",
       "    .dataframe tbody tr th {\n",
       "        vertical-align: top;\n",
       "    }\n",
       "\n",
       "    .dataframe thead th {\n",
       "        text-align: right;\n",
       "    }\n",
       "</style>\n",
       "<table border=\"1\" class=\"dataframe\">\n",
       "  <thead>\n",
       "    <tr style=\"text-align: right;\">\n",
       "      <th></th>\n",
       "      <th>id</th>\n",
       "      <th>division</th>\n",
       "      <th>desc</th>\n",
       "      <th>desc_toks</th>\n",
       "      <th>desc_wvec</th>\n",
       "      <th>nns_codes</th>\n",
       "    </tr>\n",
       "  </thead>\n",
       "  <tbody>\n",
       "    <tr>\n",
       "      <th>0</th>\n",
       "      <td>0</td>\n",
       "      <td>A</td>\n",
       "      <td>Agriculture, Forestry, And Fishing</td>\n",
       "      <td>[agriculture, forestry, fishing]</td>\n",
       "      <td>[0.3647, 0.16940000000000002, 0.23909999999999...</td>\n",
       "      <td>[919, 851, 132, 112, 913, 111]</td>\n",
       "    </tr>\n",
       "    <tr>\n",
       "      <th>1</th>\n",
       "      <td>1</td>\n",
       "      <td>B</td>\n",
       "      <td>Mining</td>\n",
       "      <td>[mining]</td>\n",
       "      <td>[0.1812, 0.0106, 0.0889, -0.27399999999999997,...</td>\n",
       "      <td>[1041, 1044, 1099, 1241, 1446, 1011]</td>\n",
       "    </tr>\n",
       "    <tr>\n",
       "      <th>2</th>\n",
       "      <td>2</td>\n",
       "      <td>C</td>\n",
       "      <td>Construction</td>\n",
       "      <td>[construction]</td>\n",
       "      <td>[0.1244, 0.053, -0.0315, -0.0084, -0.1072, -0....</td>\n",
       "      <td>[1522, 8741, 1623, 1622, 1721, 1781]</td>\n",
       "    </tr>\n",
       "    <tr>\n",
       "      <th>3</th>\n",
       "      <td>3</td>\n",
       "      <td>D</td>\n",
       "      <td>Manufacturing</td>\n",
       "      <td>[manufacturing]</td>\n",
       "      <td>[0.1513, -0.003, 0.0342, -0.0873, -0.0529, 0.0...</td>\n",
       "      <td>[3552, 3559, 3581, 3582, 3589, 3531]</td>\n",
       "    </tr>\n",
       "    <tr>\n",
       "      <th>4</th>\n",
       "      <td>4</td>\n",
       "      <td>E</td>\n",
       "      <td>Transportation, Communications, Electric, Gas,...</td>\n",
       "      <td>[transportation, communication, electric, gas,...</td>\n",
       "      <td>[0.1109, 0.3394, 0.33709999999999996, -0.15739...</td>\n",
       "      <td>[4922, 5088, 4489, 4499, 4785, 4449]</td>\n",
       "    </tr>\n",
       "    <tr>\n",
       "      <th>5</th>\n",
       "      <td>5</td>\n",
       "      <td>F</td>\n",
       "      <td>Wholesale Trade</td>\n",
       "      <td>[wholesale, trade]</td>\n",
       "      <td>[0.03900000000000001, -0.2362, 0.087, -0.0871,...</td>\n",
       "      <td>[5085, 7353, 5159, 5149, 5049, 5141]</td>\n",
       "    </tr>\n",
       "    <tr>\n",
       "      <th>6</th>\n",
       "      <td>6</td>\n",
       "      <td>G</td>\n",
       "      <td>Retail Trade</td>\n",
       "      <td>[retail, trade]</td>\n",
       "      <td>[0.0456, -0.1482, -0.06309999999999999, 0.0079...</td>\n",
       "      <td>[5461, 7353, 5085, 5149, 5113, 5091]</td>\n",
       "    </tr>\n",
       "    <tr>\n",
       "      <th>7</th>\n",
       "      <td>7</td>\n",
       "      <td>H</td>\n",
       "      <td>Finance, Insurance, And Real Estate</td>\n",
       "      <td>[finance, insurance, real, estate,   ]</td>\n",
       "      <td>[0.4942, -0.2691, -0.2666, -0.0184999999999999...</td>\n",
       "      <td>[6162, 6515, 6519, 6531, 6331, 6311]</td>\n",
       "    </tr>\n",
       "    <tr>\n",
       "      <th>8</th>\n",
       "      <td>8</td>\n",
       "      <td>I</td>\n",
       "      <td>Services</td>\n",
       "      <td>[service]</td>\n",
       "      <td>[0.0345, 0.1283, 0.1887, -0.0616, -0.1113, 0.0...</td>\n",
       "      <td>[8711, 4121, 8744, 8721, 8748, 8712]</td>\n",
       "    </tr>\n",
       "    <tr>\n",
       "      <th>9</th>\n",
       "      <td>9</td>\n",
       "      <td>J</td>\n",
       "      <td>Public Administration</td>\n",
       "      <td>[public, administration,   ]</td>\n",
       "      <td>[0.1037, 0.0487, 0.1012, -0.05159999999999999,...</td>\n",
       "      <td>[9531, 8743, 8742, 9511, 9199, 7376]</td>\n",
       "    </tr>\n",
       "  </tbody>\n",
       "</table>\n",
       "</div>"
      ],
      "text/plain": [
       "   id division                                               desc  \\\n",
       "0   0        A                 Agriculture, Forestry, And Fishing   \n",
       "1   1        B                                             Mining   \n",
       "2   2        C                                       Construction   \n",
       "3   3        D                                      Manufacturing   \n",
       "4   4        E  Transportation, Communications, Electric, Gas,...   \n",
       "5   5        F                                    Wholesale Trade   \n",
       "6   6        G                                       Retail Trade   \n",
       "7   7        H               Finance, Insurance, And Real Estate    \n",
       "8   8        I                                           Services   \n",
       "9   9        J                             Public Administration    \n",
       "\n",
       "                                           desc_toks  \\\n",
       "0                   [agriculture, forestry, fishing]   \n",
       "1                                           [mining]   \n",
       "2                                     [construction]   \n",
       "3                                    [manufacturing]   \n",
       "4  [transportation, communication, electric, gas,...   \n",
       "5                                 [wholesale, trade]   \n",
       "6                                    [retail, trade]   \n",
       "7             [finance, insurance, real, estate,   ]   \n",
       "8                                          [service]   \n",
       "9                       [public, administration,   ]   \n",
       "\n",
       "                                           desc_wvec  \\\n",
       "0  [0.3647, 0.16940000000000002, 0.23909999999999...   \n",
       "1  [0.1812, 0.0106, 0.0889, -0.27399999999999997,...   \n",
       "2  [0.1244, 0.053, -0.0315, -0.0084, -0.1072, -0....   \n",
       "3  [0.1513, -0.003, 0.0342, -0.0873, -0.0529, 0.0...   \n",
       "4  [0.1109, 0.3394, 0.33709999999999996, -0.15739...   \n",
       "5  [0.03900000000000001, -0.2362, 0.087, -0.0871,...   \n",
       "6  [0.0456, -0.1482, -0.06309999999999999, 0.0079...   \n",
       "7  [0.4942, -0.2691, -0.2666, -0.0184999999999999...   \n",
       "8  [0.0345, 0.1283, 0.1887, -0.0616, -0.1113, 0.0...   \n",
       "9  [0.1037, 0.0487, 0.1012, -0.05159999999999999,...   \n",
       "\n",
       "                              nns_codes  \n",
       "0        [919, 851, 132, 112, 913, 111]  \n",
       "1  [1041, 1044, 1099, 1241, 1446, 1011]  \n",
       "2  [1522, 8741, 1623, 1622, 1721, 1781]  \n",
       "3  [3552, 3559, 3581, 3582, 3589, 3531]  \n",
       "4  [4922, 5088, 4489, 4499, 4785, 4449]  \n",
       "5  [5085, 7353, 5159, 5149, 5049, 5141]  \n",
       "6  [5461, 7353, 5085, 5149, 5113, 5091]  \n",
       "7  [6162, 6515, 6519, 6531, 6331, 6311]  \n",
       "8  [8711, 4121, 8744, 8721, 8748, 8712]  \n",
       "9  [9531, 8743, 8742, 9511, 9199, 7376]  "
      ]
     },
     "execution_count": 50,
     "metadata": {},
     "output_type": "execute_result"
    }
   ],
   "source": [
    "sic_div"
   ]
  },
  {
   "cell_type": "code",
   "execution_count": 51,
   "metadata": {},
   "outputs": [
    {
     "data": {
      "text/plain": [
       "code\n",
       "5085             Industrial Supplies Merchant Wholesalers\n",
       "7353                All Other Specialty Trade Contractors\n",
       "5159    Other Farm Product Raw Material Merchant Whole...\n",
       "5149    Other Grocery and Related Products Merchant Wh...\n",
       "5049    Other Professional Equipment and Supplies Merc...\n",
       "5141            General Line Grocery Merchant Wholesalers\n",
       "Name: desc, dtype: object"
      ]
     },
     "execution_count": 51,
     "metadata": {},
     "output_type": "execute_result"
    }
   ],
   "source": [
    "sic.loc[[5085, 7353, 5159, 5149, 5049, 5141], \"desc\"]"
   ]
  },
  {
   "cell_type": "markdown",
   "metadata": {},
   "source": [
    "We can now use this process on any text related to a business."
   ]
  }
 ],
 "metadata": {
  "kernelspec": {
   "display_name": "Python 3",
   "language": "python",
   "name": "python3"
  },
  "language_info": {
   "codemirror_mode": {
    "name": "ipython",
    "version": 3
   },
   "file_extension": ".py",
   "mimetype": "text/x-python",
   "name": "python",
   "nbconvert_exporter": "python",
   "pygments_lexer": "ipython3",
   "version": "3.7.3"
  }
 },
 "nbformat": 4,
 "nbformat_minor": 4
}
