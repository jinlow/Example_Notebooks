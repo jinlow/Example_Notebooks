{
 "cells": [
  {
   "cell_type": "markdown",
   "metadata": {},
   "source": [
    "# Exploring Sentence Processing\n",
    "Let's explore using the nlp library `spaCy` for processing sentences to extract, meaning and summaries. \n",
    "For this we will use the prolouge and the first couple chapters from Saint Augustin, by Louis Bertrand from the Gutenberg project.  \n",
    "[Link to Book](https://www.gutenberg.org/ebooks/9069)"
   ]
  },
  {
   "cell_type": "code",
   "execution_count": 1,
   "metadata": {},
   "outputs": [],
   "source": [
    "import spacy\n",
    "nlp = spacy.load(\"en_core_web_md\")"
   ]
  },
  {
   "cell_type": "markdown",
   "metadata": {},
   "source": [
    "We will read in the document as one string to then parse with spaCy."
   ]
  },
  {
   "cell_type": "code",
   "execution_count": 2,
   "metadata": {},
   "outputs": [],
   "source": [
    "file = open('saint_aug_long.txt', mode='r')\n",
    "all_text = file.read()\n",
    "file.close()"
   ]
  },
  {
   "cell_type": "code",
   "execution_count": 3,
   "metadata": {},
   "outputs": [],
   "source": [
    "doc = nlp(all_text)"
   ]
  },
  {
   "cell_type": "markdown",
   "metadata": {},
   "source": [
    "The document can be split into document spans of the sentences."
   ]
  },
  {
   "cell_type": "code",
   "execution_count": 4,
   "metadata": {},
   "outputs": [],
   "source": [
    "doc_sents = [sent for sent in doc.sents]"
   ]
  },
  {
   "cell_type": "code",
   "execution_count": 5,
   "metadata": {},
   "outputs": [
    {
     "data": {
      "text/plain": [
       "spacy.tokens.span.Span"
      ]
     },
     "execution_count": 5,
     "metadata": {},
     "output_type": "execute_result"
    }
   ],
   "source": [
    "doc_sents[0].__class__"
   ]
  },
  {
   "cell_type": "markdown",
   "metadata": {},
   "source": [
    "We can treat these spans as individual documents for our purpose, although if we could make them into documents with the `Span.as_doc()` method."
   ]
  },
  {
   "cell_type": "code",
   "execution_count": 6,
   "metadata": {},
   "outputs": [
    {
     "name": "stdout",
     "output_type": "stream",
     "text": [
      "-PRON- our\n",
      "heart heart\n",
      "find finds\n",
      "no no\n",
      "rest rest\n",
      "until until\n",
      "-PRON- it\n",
      "rest rests\n",
      "in in\n",
      "thee thee\n",
      ". .\n",
      "\" \"\n",
      "\n",
      "\n",
      "   \n",
      "\n",
      "  \n",
      "_ _\n",
      "Confessions confessions\n",
      "_ _\n",
      ", ,\n",
      "-PRON- i\n",
      ", ,\n"
     ]
    }
   ],
   "source": [
    "for tok in doc_sents[3]:\n",
    "    print(tok.lemma_, tok.lower_)"
   ]
  },
  {
   "cell_type": "markdown",
   "metadata": {},
   "source": [
    "There are some empty sentences, we will remove these."
   ]
  },
  {
   "cell_type": "code",
   "execution_count": 7,
   "metadata": {},
   "outputs": [],
   "source": [
    "for sent in doc_sents:\n",
    "    if len(sent) < 3:\n",
    "        doc_sents.remove(sent)"
   ]
  },
  {
   "cell_type": "code",
   "execution_count": 8,
   "metadata": {},
   "outputs": [
    {
     "data": {
      "text/plain": [
       "5806"
      ]
     },
     "execution_count": 8,
     "metadata": {},
     "output_type": "execute_result"
    }
   ],
   "source": [
    "len(doc_sents)"
   ]
  },
  {
   "cell_type": "markdown",
   "metadata": {},
   "source": [
    "### Clustering Sentences\n",
    "Lets create a matrix of sentence vectors. Spacy will automatically avergage all word vectors in a sentene to create a single vector."
   ]
  },
  {
   "cell_type": "code",
   "execution_count": 9,
   "metadata": {},
   "outputs": [],
   "source": [
    "import numpy as np"
   ]
  },
  {
   "cell_type": "code",
   "execution_count": 10,
   "metadata": {},
   "outputs": [],
   "source": [
    "smat = np.vstack([sent.vector for sent in doc_sents])"
   ]
  },
  {
   "cell_type": "code",
   "execution_count": 11,
   "metadata": {},
   "outputs": [
    {
     "data": {
      "text/plain": [
       "(5806, 300)"
      ]
     },
     "execution_count": 11,
     "metadata": {},
     "output_type": "execute_result"
    }
   ],
   "source": [
    "smat.shape"
   ]
  },
  {
   "cell_type": "markdown",
   "metadata": {},
   "source": [
    "Now we will cluster this data. I want to test looking at the centroid of each cluster, and see if these sentences could be used as a summary of the document."
   ]
  },
  {
   "cell_type": "code",
   "execution_count": 12,
   "metadata": {},
   "outputs": [],
   "source": [
    "from sklearn.cluster import KMeans"
   ]
  },
  {
   "cell_type": "markdown",
   "metadata": {},
   "source": [
    "Lets try to get the optimal number of clusters using the elbow method."
   ]
  },
  {
   "cell_type": "code",
   "execution_count": 13,
   "metadata": {},
   "outputs": [],
   "source": [
    "Sum_of_squared_distances = []\n",
    "K = range(1,15)\n",
    "for k in K:\n",
    "    km = KMeans(n_clusters=k, random_state=123)\n",
    "    km = km.fit(smat)\n",
    "    Sum_of_squared_distances.append(km.inertia_)"
   ]
  },
  {
   "cell_type": "code",
   "execution_count": 14,
   "metadata": {},
   "outputs": [],
   "source": [
    "import matplotlib.pyplot as plt"
   ]
  },
  {
   "cell_type": "code",
   "execution_count": 15,
   "metadata": {},
   "outputs": [
    {
     "data": {
      "image/png": "[encoded data removed]",
      "text/plain": [
       "<Figure size 432x288 with 1 Axes>"
      ]
     },
     "metadata": {
      "needs_background": "light"
     },
     "output_type": "display_data"
    }
   ],
   "source": [
    "plt.plot(K, Sum_of_squared_distances, 'bx-')\n",
    "plt.xlabel('k')\n",
    "plt.ylabel('Sum_of_squared_distances')\n",
    "plt.title('Elbow Method For Optimal k')\n",
    "plt.show()"
   ]
  },
  {
   "cell_type": "markdown",
   "metadata": {},
   "source": [
    "It is sort of ambigous, lets use 4 for now."
   ]
  },
  {
   "cell_type": "code",
   "execution_count": 16,
   "metadata": {},
   "outputs": [],
   "source": [
    "kmeans = KMeans(n_clusters=4, random_state=123)"
   ]
  },
  {
   "cell_type": "code",
   "execution_count": 17,
   "metadata": {},
   "outputs": [],
   "source": [
    "sent_clusters = kmeans.fit(smat)"
   ]
  },
  {
   "cell_type": "code",
   "execution_count": 18,
   "metadata": {},
   "outputs": [
    {
     "data": {
      "text/plain": [
       "(array([0, 1, 2, 3], dtype=int32), array([1545, 1401, 2725,  135]))"
      ]
     },
     "execution_count": 18,
     "metadata": {},
     "output_type": "execute_result"
    }
   ],
   "source": [
    "np.unique(sent_clusters.labels_, return_counts=True)"
   ]
  },
  {
   "cell_type": "markdown",
   "metadata": {},
   "source": [
    "Now lets take the sentence closest to the centroid of each cluster."
   ]
  },
  {
   "cell_type": "code",
   "execution_count": 19,
   "metadata": {},
   "outputs": [],
   "source": [
    "from sklearn.metrics import pairwise_distances_argmin_min"
   ]
  },
  {
   "cell_type": "code",
   "execution_count": 20,
   "metadata": {},
   "outputs": [],
   "source": [
    "closest, _ = pairwise_distances_argmin_min(sent_clusters.cluster_centers_, smat)"
   ]
  },
  {
   "cell_type": "code",
   "execution_count": 21,
   "metadata": {},
   "outputs": [
    {
     "data": {
      "text/plain": [
       "array([5552, 2365, 5152,  174])"
      ]
     },
     "execution_count": 21,
     "metadata": {},
     "output_type": "execute_result"
    }
   ],
   "source": [
    "closest"
   ]
  },
  {
   "cell_type": "markdown",
   "metadata": {},
   "source": [
    "In theory, the centroid of these clusters, should give us a sense of the meaning of these clusters. Looking at them all together would give a simplified look at the collective meaning, or summary, of the document."
   ]
  },
  {
   "cell_type": "code",
   "execution_count": 22,
   "metadata": {},
   "outputs": [
    {
     "name": "stdout",
     "output_type": "stream",
     "text": [
      "______________________________\n",
      "\n",
      "Cluster: 0\n",
      "Anyhow, whether he was really disgusted with the\n",
      "world, or whether he deemed it prudent to throw a little oblivion over\n",
      "himself just then, he spoke on all hands of resigning his post and living\n",
      "in retreat like a monk.\n",
      "\n",
      "Cluster: 1\n",
      "So a chain of events, with which his will had hardly anything to do,\n",
      "was going to draw the young rhetorician to Milan--yes, and how much\n",
      "farther!--to where he did not want to go, to where the prayers of Monnica\n",
      "summoned him unceasingly: \"Where I am, there shall you be also.\n",
      "\n",
      "Cluster: 2\n",
      "For thirteen or fourteen years, through a thousand employments and a\n",
      "thousand cares, amid the panics and continual alarums which kept the\n",
      "Africans on the alert in those times, Augustin worked at his _City of God_,\n",
      "the most formidable machine of war ever directed against paganism, and also\n",
      "the arsenal fullest of proofs and refutations which the disputants and\n",
      "defenders of Catholicism have ever had at their disposal.\n",
      "\n",
      "\n",
      "\n",
      "Cluster: 3\n",
      "He belonged to the order of _Decuriones_, to the \"very brilliant\n",
      "urban council of Thagaste\" (_splendidissimus ordo Thagastensis_), as an\n",
      "inscription at Souk-Ahras puts it.\n",
      "______________________________\n"
     ]
    }
   ],
   "source": [
    "print('_' * 30)\n",
    "for sent, clust_id in zip(np.array(doc_sents)[closest], range(4)):\n",
    "    print()\n",
    "    print('Cluster: ' + str(clust_id))\n",
    "    print(sent)\n",
    "print('_' * 30)"
   ]
  },
  {
   "cell_type": "markdown",
   "metadata": {},
   "source": [
    "So we would obviously need to do some more procesing of the text, and then I think this approach is not as effective on large documents like this. "
   ]
  },
  {
   "cell_type": "markdown",
   "metadata": {},
   "source": [
    "**Visualize the Data**  \n",
    "We arbitrarily chose five clusters, lets take a look at the data, and see if we see any clear breaks in the information."
   ]
  },
  {
   "cell_type": "code",
   "execution_count": 23,
   "metadata": {},
   "outputs": [],
   "source": [
    "import seaborn as sns"
   ]
  },
  {
   "cell_type": "code",
   "execution_count": 24,
   "metadata": {},
   "outputs": [],
   "source": [
    "from sklearn.decomposition import PCA"
   ]
  },
  {
   "cell_type": "code",
   "execution_count": 25,
   "metadata": {},
   "outputs": [],
   "source": [
    "pca = PCA(n_components=2)"
   ]
  },
  {
   "cell_type": "code",
   "execution_count": 26,
   "metadata": {},
   "outputs": [],
   "source": [
    "fplot = pca.fit_transform(smat)"
   ]
  },
  {
   "cell_type": "code",
   "execution_count": 27,
   "metadata": {},
   "outputs": [
    {
     "data": {
      "image/png": "[encoded data removed]",
      "text/plain": [
       "<Figure size 720x504 with 1 Axes>"
      ]
     },
     "metadata": {
      "needs_background": "light"
     },
     "output_type": "display_data"
    }
   ],
   "source": [
    "plt.figure(figsize=(10, 7))\n",
    "plt.xlabel('PCA1')\n",
    "plt.ylabel('PCA2')\n",
    "p1 = sns.scatterplot(x=fplot[:,0], y=fplot[:,1],\n",
    "                     hue=sent_clusters.labels_,\n",
    "                     legend='full')"
   ]
  },
  {
   "cell_type": "markdown",
   "metadata": {},
   "source": [
    "**Samples from Clusters**  \n",
    "Let's look at the k nearest neighbors to the centroid of the clusters. This will give us a better sense of the information in each cluster."
   ]
  },
  {
   "cell_type": "code",
   "execution_count": 28,
   "metadata": {},
   "outputs": [],
   "source": [
    "from sklearn.neighbors import NearestNeighbors"
   ]
  },
  {
   "cell_type": "code",
   "execution_count": 29,
   "metadata": {},
   "outputs": [],
   "source": [
    "nene = NearestNeighbors(n_neighbors=5, metric='cosine')"
   ]
  },
  {
   "cell_type": "code",
   "execution_count": 30,
   "metadata": {},
   "outputs": [
    {
     "data": {
      "text/plain": [
       "NearestNeighbors(algorithm='auto', leaf_size=30, metric='cosine',\n",
       "                 metric_params=None, n_jobs=None, n_neighbors=5, p=2,\n",
       "                 radius=1.0)"
      ]
     },
     "execution_count": 30,
     "metadata": {},
     "output_type": "execute_result"
    }
   ],
   "source": [
    "nene.fit(smat)"
   ]
  },
  {
   "cell_type": "code",
   "execution_count": 31,
   "metadata": {},
   "outputs": [
    {
     "name": "stdout",
     "output_type": "stream",
     "text": [
      "Cluster: 0\n",
      "------------------------------\n",
      "Anyhow, whether he was really disgusted with the\n",
      "world, or whether he deemed it prudent to throw a little oblivion over\n",
      "himself just then, he spoke on all hands of resigning his post and living\n",
      "in retreat like a monk.\n",
      "\n",
      "She began\n",
      "to be sorry that she had sent him away, and with the clear-sightedness of\n",
      "the Christian, she perceived that Romanianus' house was not good for the\n",
      "prodigal.\n",
      "\n",
      "If the earthly reward seemed to slip from him now, if all was sinking\n",
      "around him, if his episcopal city was beleaguered, if he himself, although\n",
      "still a strong man--\"he had the use of all his limbs,\" says Possidius;\n",
      "\n",
      "\n",
      "Cluster: 1\n",
      "------------------------------\n",
      "So a chain of events, with which his will had hardly anything to do,\n",
      "was going to draw the young rhetorician to Milan--yes, and how much\n",
      "farther!--to where he did not want to go, to where the prayers of Monnica\n",
      "summoned him unceasingly: \"Where I am, there shall you be also.\n",
      "\n",
      "If I were to talk to you of anything else, you\n",
      "might be less attentive, seeing the expectation you are in.\n",
      "\n",
      "\"'My brothers, we are all mortal in this life, and no man knows his last\n",
      "day.\n",
      "\n",
      "I have been forced into this,\" he said,\n",
      "\"doubtless in punishment of my sins; for from what other motive can I think\n",
      "that the second place at the helm should be given to me--to me who do not\n",
      "even know how to hold an oar....\"\n",
      "\n",
      "\n",
      "\n",
      "Cluster: 2\n",
      "------------------------------\n",
      "Upon the thin plank of the\n",
      "boat which carried him, he did not feel the force of the immense element,\n",
      "asleep now under his feet, but quick to be unchained at the first gust of\n",
      "wind; and he did not feel either the overflowing energy swelling his heart\n",
      "renewed by Grace--an energy which was going to set in motion one of the\n",
      "most complete and strenuous existences, one of the richest in thought,\n",
      "charity, and works which have enlightened history.\n",
      "\n",
      "Even if he had not been intended for great things, if he had been only a\n",
      "head in the crowd, the arrival of this baby ought, all the same, to affect\n",
      "us, for to the Christian, the destiny of the obscurest and humblest of\n",
      "souls is a matter of importance.\n",
      "\n",
      "On the eve of the Barbarian invasions, these Christians, for\n",
      "whom the dogma of the Resurrection was perhaps the chief reason of their\n",
      "faith, these people, sick at heart, who looked on in torture at the ending\n",
      "of a world, must have considered this present life as a bad dream, from\n",
      "which there should be no delay in escaping.\n",
      "\n",
      "\n",
      "\n",
      "Cluster: 3\n",
      "------------------------------\n",
      "_my_ God!\"\n",
      "\n",
      "_Confessions_, I, 9.\n",
      "\n",
      "\n",
      "\n",
      "\n",
      "\n",
      "\n",
      "_!...\n",
      "\n"
     ]
    }
   ],
   "source": [
    "n_clust = len(sent_clusters.cluster_centers_)\n",
    "for centroid, clust_id in zip(sent_clusters.cluster_centers_, range(n_clust)):\n",
    "    nn_a = nene.kneighbors(centroid.reshape(1, -1), 3)[1]\n",
    "    print('Cluster: ' + str(clust_id))\n",
    "    print(\"-\"*30)\n",
    "    for sent in np.array(doc_sents)[nn_a][0]:\n",
    "        print(sent)\n",
    "        print()"
   ]
  },
  {
   "cell_type": "markdown",
   "metadata": {},
   "source": [
    "Look like cluster 3 is mostly noise, and different languages."
   ]
  },
  {
   "cell_type": "markdown",
   "metadata": {},
   "source": [
    "## Looking At a Question\n",
    "What about asking a question, and using that as the input for the KNN search?"
   ]
  },
  {
   "cell_type": "code",
   "execution_count": 57,
   "metadata": {},
   "outputs": [],
   "source": [
    "qdoc = nlp(\"When was Augustin born?\")"
   ]
  },
  {
   "cell_type": "code",
   "execution_count": 58,
   "metadata": {},
   "outputs": [],
   "source": [
    "nn_q = nene.kneighbors(qdoc.vector.reshape(1, -1), 5)[1]"
   ]
  },
  {
   "cell_type": "code",
   "execution_count": 59,
   "metadata": {},
   "outputs": [
    {
     "name": "stdout",
     "output_type": "stream",
     "text": [
      "She was twenty-two\n",
      "when Augustin was born, and he was probably not her first child.\n",
      "\n",
      "He was born a musician.\n",
      "\n",
      "His friend died a few days after, and Augustin was not there.\n",
      "\n",
      "It was\n",
      "before she was married.\n",
      "\n",
      "Augustin probably was not so guilty.\n",
      "\n"
     ]
    }
   ],
   "source": [
    "for sent in np.array(doc_sents)[nn_q][0]:\n",
    "    print(sent)\n",
    "    print()"
   ]
  },
  {
   "cell_type": "markdown",
   "metadata": {},
   "source": [
    "So it is interesting that we get close to an our question, but not a true answer. I am not actually even sure if this document tells when he was born...  \n",
    "Let's try to be more direct about our question, so reword it as a fact."
   ]
  },
  {
   "cell_type": "code",
   "execution_count": 60,
   "metadata": {},
   "outputs": [],
   "source": [
    "qdoc = nlp(\"The birth of Augustin\")"
   ]
  },
  {
   "cell_type": "code",
   "execution_count": 63,
   "metadata": {},
   "outputs": [],
   "source": [
    "nn_q = nene.kneighbors(qdoc.vector.reshape(1, -1), 3)[1]"
   ]
  },
  {
   "cell_type": "code",
   "execution_count": 64,
   "metadata": {},
   "outputs": [
    {
     "name": "stdout",
     "output_type": "stream",
     "text": [
      "Augustin came into this world the thirteenth of November of the year of\n",
      "Christ 354.\n",
      "\n",
      "\n",
      "\n",
      "Such was the position of the Church in Africa when Augustin was named\n",
      "Bishop of Hippo.\n",
      "\n",
      "Augustin\n",
      "of Thagaste is the great African.\n",
      "\n",
      "\n",
      "\n"
     ]
    }
   ],
   "source": [
    "for sent in np.array(doc_sents)[nn_q][0]:\n",
    "    print(sent)\n",
    "    print()"
   ]
  },
  {
   "cell_type": "markdown",
   "metadata": {},
   "source": [
    "Now the actual answer to our question is the first sentence. I wonder if statments are more easily linked.  \n",
    "Let's try another one..."
   ]
  },
  {
   "cell_type": "code",
   "execution_count": 67,
   "metadata": {},
   "outputs": [
    {
     "name": "stdout",
     "output_type": "stream",
     "text": [
      "It was\n",
      "before she was married.\n",
      "\n",
      "Was Aurelius his family name?\n",
      "\n",
      "there he married a Barbarian princess who was by religion an Arian.\n",
      "\n"
     ]
    }
   ],
   "source": [
    "qdoc = nlp(\"Was Augustin married?\")\n",
    "nn_q = nene.kneighbors(qdoc.vector.reshape(1, -1), 3)[1]\n",
    "for sent in np.array(doc_sents)[nn_q][0]:\n",
    "    print(sent)\n",
    "    print()"
   ]
  },
  {
   "cell_type": "code",
   "execution_count": 70,
   "metadata": {},
   "outputs": [
    {
     "name": "stdout",
     "output_type": "stream",
     "text": [
      "there he married a Barbarian princess who was by religion an Arian.\n",
      "\n",
      "It was\n",
      "before she was married.\n",
      "\n",
      "She was twenty-two\n",
      "when Augustin was born, and he was probably not her first child.\n",
      "\n"
     ]
    }
   ],
   "source": [
    "qdoc = nlp(\"When married Augustin\")\n",
    "nn_q = nene.kneighbors(qdoc.vector.reshape(1, -1), 3)[1]\n",
    "for sent in np.array(doc_sents)[nn_q][0]:\n",
    "    print(sent)\n",
    "    print()"
   ]
  },
  {
   "cell_type": "code",
   "execution_count": null,
   "metadata": {},
   "outputs": [],
   "source": []
  }
 ],
 "metadata": {
  "kernelspec": {
   "display_name": "Python 3",
   "language": "python",
   "name": "python3"
  },
  "language_info": {
   "codemirror_mode": {
    "name": "ipython",
    "version": 3
   },
   "file_extension": ".py",
   "mimetype": "text/x-python",
   "name": "python",
   "nbconvert_exporter": "python",
   "pygments_lexer": "ipython3",
   "version": "3.7.2"
  }
 },
 "nbformat": 4,
 "nbformat_minor": 4
}
