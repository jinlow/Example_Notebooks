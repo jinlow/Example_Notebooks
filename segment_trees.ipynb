{
 "cells": [
  {
   "cell_type": "markdown",
   "id": "84b820f1",
   "metadata": {},
   "source": [
    "# Segment Trees\n",
    "\n",
    "In this notebook, I will be exploring and implementing segment trees. This is a common data structure used in competitive programming, as well as useful for storing and querying an array. It is used to store information over intervals of an array, for instance the sum of values within a segment of an array."
   ]
  },
  {
   "cell_type": "markdown",
   "id": "0dba72b1",
   "metadata": {},
   "source": [
    "## Initial Implementation\n",
    "\n",
    "Let's create an implementation that stores the sum of sub arrays. We will pointers from one node to the next. This is not as efficient as storing the nodes in an array, we will update the code to work like this later."
   ]
  },
  {
   "cell_type": "code",
   "execution_count": null,
   "id": "b7753be9",
   "metadata": {},
   "outputs": [],
   "source": [
    "from __future__ import annotations\n",
    "from dataclasses import dataclass\n",
    "\n",
    "class PtrNode:\n",
    "    def __init__(self, bounds: tuple[int, int]):\n",
    "        self.bounds = bounds\n",
    "        self.sum_: int = 0\n",
    "        self.left: \"PtrNode\" | None = None\n",
    "        self.right: \"PtrNode\" | None = None\n",
    "\n",
    "class PtrSegmentTree:\n",
    "    def __init__(self, a: list[int]) -> None:\n",
    "        root = PtrNode(bounds=(0, len(a)))\n",
    "        self.root = root\n",
    "        self._build(self.root, a)\n",
    "\n",
    "    def _build(self, node: PtrNode, a: list[int]):\n",
    "        i, j = node.bounds\n",
    "        if len(a[i:j]) == 1:\n",
    "            node.sum_ = a[i]\n",
    "            return\n",
    "        mid = ((i + j) // 2)\n",
    "        if i < mid:\n",
    "            left = PtrNode(bounds=(i, mid))\n",
    "            self._build(left, a)\n",
    "            node.sum_ += left.sum_\n",
    "            node.left = left\n",
    "        if mid < j:\n",
    "            right = PtrNode(bounds=(mid, j))\n",
    "            self._build(right, a)\n",
    "            node.sum_ += right.sum_\n",
    "            node.right = right\n",
    "\n",
    "ar = [-1, 4, 10, 2, -1, -2, 5, 6, 6, 6]\n",
    "tree = PtrSegmentTree(ar)\n",
    "\n",
    "        \n",
    "        "
   ]
  },
  {
   "cell_type": "code",
   "execution_count": 16,
   "id": "527342d7",
   "metadata": {},
   "outputs": [
    {
     "data": {
      "text/plain": [
       "(14, (0, 5))"
      ]
     },
     "execution_count": 16,
     "metadata": {},
     "output_type": "execute_result"
    }
   ],
   "source": [
    "tree.root.left.sum_, tree.root.left.bounds"
   ]
  },
  {
   "cell_type": "code",
   "execution_count": 15,
   "id": "96d197cd",
   "metadata": {},
   "outputs": [
    {
     "data": {
      "text/plain": [
       "(21, (5, 10))"
      ]
     },
     "execution_count": 15,
     "metadata": {},
     "output_type": "execute_result"
    }
   ],
   "source": [
    "tree.root.right.sum_, tree.root.right.bounds"
   ]
  },
  {
   "cell_type": "code",
   "execution_count": 17,
   "id": "9365b23e",
   "metadata": {},
   "outputs": [
    {
     "data": {
      "text/plain": [
       "(35, 14, 21)"
      ]
     },
     "execution_count": 17,
     "metadata": {},
     "output_type": "execute_result"
    }
   ],
   "source": [
    "sum(ar), sum(ar[0:5]), sum(ar[5:10])"
   ]
  },
  {
   "cell_type": "code",
   "execution_count": null,
   "id": "f2fa3d08",
   "metadata": {},
   "outputs": [],
   "source": []
  }
 ],
 "metadata": {
  "kernelspec": {
   "display_name": ".venv",
   "language": "python",
   "name": "python3"
  },
  "language_info": {
   "codemirror_mode": {
    "name": "ipython",
    "version": 3
   },
   "file_extension": ".py",
   "mimetype": "text/x-python",
   "name": "python",
   "nbconvert_exporter": "python",
   "pygments_lexer": "ipython3",
   "version": "3.12.10"
  }
 },
 "nbformat": 4,
 "nbformat_minor": 5
}
