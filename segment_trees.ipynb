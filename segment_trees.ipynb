{
 "cells": [
  {
   "cell_type": "markdown",
   "id": "84b820f1",
   "metadata": {},
   "source": [
    "# Segment Trees\n",
    "\n",
    "In this notebook, I will be exploring and implementing segment trees. This is a common data structure used in competitive programming, as well as useful for storing and querying an array. It is used to store information over intervals of an array, for instance the sum of values within a segment of an array."
   ]
  },
  {
   "cell_type": "markdown",
   "id": "0dba72b1",
   "metadata": {},
   "source": [
    "## Initial Implementation\n",
    "\n",
    "Let's create an implementation that stores the sum of sub arrays. We will pointers from one node to the next. This is not as efficient as storing the nodes in an array, we will update the code to work like this later."
   ]
  },
  {
   "cell_type": "code",
   "execution_count": 36,
   "id": "b7753be9",
   "metadata": {},
   "outputs": [
    {
     "data": {
      "text/plain": [
       "(11, 11)"
      ]
     },
     "execution_count": 36,
     "metadata": {},
     "output_type": "execute_result"
    }
   ],
   "source": [
    "from __future__ import annotations\n",
    "from dataclasses import dataclass\n",
    "\n",
    "\n",
    "class PtrNode:\n",
    "    def __init__(self, bounds: tuple[int, int]):\n",
    "        self.bounds = bounds\n",
    "        self.sum_: int = 0\n",
    "        self.left: \"PtrNode\" | None = None\n",
    "        self.right: \"PtrNode\" | None = None\n",
    "\n",
    "\n",
    "class PtrSegmentTree:\n",
    "    def __init__(self, a: list[int]) -> None:\n",
    "        root = PtrNode(bounds=(0, len(a)))\n",
    "        self.root = root\n",
    "        self._build(self.root, a)\n",
    "\n",
    "    def _build(self, node: PtrNode, a: list[int]):\n",
    "        i, j = node.bounds\n",
    "        if len(a[i:j]) == 1:\n",
    "            node.sum_ = a[i]\n",
    "            return\n",
    "        mid = (i + j) // 2\n",
    "\n",
    "        left = PtrNode(bounds=(i, mid))\n",
    "        self._build(left, a)\n",
    "        node.sum_ += left.sum_\n",
    "        node.left = left\n",
    "\n",
    "        right = PtrNode(bounds=(mid, j))\n",
    "        self._build(right, a)\n",
    "        node.sum_ += right.sum_\n",
    "        node.right = right\n",
    "\n",
    "    def query(self, bounds: tuple[int, int]) -> int:\n",
    "        return self._query(self.root, bounds)\n",
    "\n",
    "    def _query(self, node: PtrNode | None, bounds: tuple[int, int]) -> int:\n",
    "        i, j = bounds\n",
    "        if i >= j:\n",
    "            return 0\n",
    "        elif bounds == node.bounds:\n",
    "            return node.sum_\n",
    "        ni, nj = node.bounds\n",
    "        mid = (ni + nj) // 2\n",
    "        # Otherwise, we gotta go left, and right.\n",
    "        return self._query(node.left, (i, min(mid, j))) + self._query(\n",
    "            node.right, (max(i, mid), j)\n",
    "        )\n",
    "\n",
    "    def update(self, i: int, value: int) -> None:\n",
    "        self._update(self.root, i, value)\n",
    "\n",
    "    def _update(self, node: PtrNode | None, i: int, value: int) -> None:\n",
    "        # If the value is in the node, update\n",
    "        if (node.bounds[0] == i) and ((i + 1) == node.bounds[1]):\n",
    "            node.sum_ = value\n",
    "        elif (node.bounds[0] <= i) and (i < node.bounds[1]):\n",
    "            self._update(node.left, i, value)\n",
    "            self._update(node.right, i, value)\n",
    "            node.sum_ = node.left.sum_ + node.right.sum_\n",
    "\n",
    "\n",
    "ar = [-1, 4, 10, 2, -1, -2, 5, 6, 6, 6]\n",
    "tree = PtrSegmentTree(ar)\n",
    "tree.query((2, 5)), sum(ar[2:5])"
   ]
  },
  {
   "cell_type": "code",
   "execution_count": 37,
   "id": "5f12a741",
   "metadata": {},
   "outputs": [
    {
     "data": {
      "text/plain": [
       "(114, 114)"
      ]
     },
     "execution_count": 37,
     "metadata": {},
     "output_type": "execute_result"
    }
   ],
   "source": [
    "ar[0] = 100\n",
    "tree.update(0, 100)\n",
    "tree.query((0, 3)), sum(ar[0:3])"
   ]
  },
  {
   "cell_type": "code",
   "execution_count": 38,
   "id": "527342d7",
   "metadata": {},
   "outputs": [
    {
     "data": {
      "text/plain": [
       "(115, (0, 5))"
      ]
     },
     "execution_count": 38,
     "metadata": {},
     "output_type": "execute_result"
    }
   ],
   "source": [
    "tree.root.left.sum_, tree.root.left.bounds"
   ]
  },
  {
   "cell_type": "code",
   "execution_count": 39,
   "id": "96d197cd",
   "metadata": {},
   "outputs": [
    {
     "data": {
      "text/plain": [
       "(21, (5, 10))"
      ]
     },
     "execution_count": 39,
     "metadata": {},
     "output_type": "execute_result"
    }
   ],
   "source": [
    "tree.root.right.sum_, tree.root.right.bounds"
   ]
  },
  {
   "cell_type": "code",
   "execution_count": 40,
   "id": "9365b23e",
   "metadata": {},
   "outputs": [
    {
     "data": {
      "text/plain": [
       "(136, 115, 21)"
      ]
     },
     "execution_count": 40,
     "metadata": {},
     "output_type": "execute_result"
    }
   ],
   "source": [
    "sum(ar), sum(ar[0:5]), sum(ar[5:10])"
   ]
  },
  {
   "cell_type": "markdown",
   "id": "f2fa3d08",
   "metadata": {},
   "source": [
    "Apparently the more common way to do this is with an \"implicit data structure\", by using an array to house the tree. We keep track of the location in the node vector as `i` and then the left node is `2*i` and the right is `(2*i)+1`. The node vector is created of the size `4*N` where N is the size of the array."
   ]
  },
  {
   "cell_type": "code",
   "execution_count": 41,
   "id": "b23a582c",
   "metadata": {},
   "outputs": [
    {
     "data": {
      "text/plain": [
       "(11, 11)"
      ]
     },
     "execution_count": 41,
     "metadata": {},
     "output_type": "execute_result"
    }
   ],
   "source": [
    "class ArrSegmentTree:\n",
    "    def __init__(self, a: list[int]) -> None:\n",
    "        self.N = len(a)\n",
    "        self.arr = [0 for _ in range(self.N * 4)]\n",
    "        self._build(1, a, 0, self.N)\n",
    "\n",
    "    def _build(self, current: int, a: list[int], left: int, right: int) -> None:\n",
    "        if len(a[left:right]) == 1:\n",
    "            self.arr[current] = a[left]\n",
    "        else:\n",
    "            mid = (left + right) // 2\n",
    "\n",
    "            # Left\n",
    "            self._build(2 * current, a, left, mid)\n",
    "            self.arr[current] += self.arr[2 * current]\n",
    "\n",
    "            # right\n",
    "            self._build(2 * current + 1, a, mid, right)\n",
    "            self.arr[current] += self.arr[2 * current + 1]\n",
    "\n",
    "    def query(self, bounds: tuple[int, int]) -> int:\n",
    "        left, right = bounds\n",
    "        return self._query(1, left, right, 0, self.N)\n",
    "\n",
    "    def _query(\n",
    "        self,\n",
    "        current: int,\n",
    "        left: int,\n",
    "        right: int,\n",
    "        node_left: int,\n",
    "        node_right: int,\n",
    "    ) -> int:\n",
    "        if left >= right:\n",
    "            return 0\n",
    "        elif (left, right) == (node_left, node_right):\n",
    "            return self.arr[current]\n",
    "        mid = (node_left + node_right) // 2\n",
    "        # Otherwise, we gotta go left, and right.\n",
    "        return self._query(\n",
    "            current * 2, left, min(mid, right), node_left, mid\n",
    "        ) + self._query(current * 2 + 1, max(left, mid), right, mid, node_right)\n",
    "\n",
    "    def update(self, i: int, value: int) -> None:\n",
    "        self._update(1, i, value, 0, self.N)\n",
    "\n",
    "    def _update(\n",
    "        self, current: int, i: int, value: int, node_left: int, node_right: int\n",
    "    ) -> None:\n",
    "        # If the value is in the node, update\n",
    "        if (node_left == i) and ((i + 1) == node_right):\n",
    "            self.arr[current] = value\n",
    "        elif (node_left <= i) and (i < node_right):\n",
    "            mid = (node_left + node_right) // 2\n",
    "            self._update(current * 2, i, value, node_left, mid)\n",
    "            self._update(current * 2 + 1, i, value, mid, node_right)\n",
    "            self.arr[current] = self.arr[current * 2] + self.arr[current * 2 + 1]\n",
    "\n",
    "\n",
    "ar = [-1, 4, 10, 2, -1, -2, 5, 6, 6, 6, 7]\n",
    "tree = ArrSegmentTree(ar)\n",
    "tree.query((2, 5)), sum(ar[2:5])"
   ]
  },
  {
   "cell_type": "code",
   "execution_count": 42,
   "id": "e4ba3899",
   "metadata": {},
   "outputs": [
    {
     "data": {
      "text/plain": [
       "(42, 14, 28, 42)"
      ]
     },
     "execution_count": 42,
     "metadata": {},
     "output_type": "execute_result"
    }
   ],
   "source": [
    "tree.arr[1], tree.arr[2], tree.arr[3], sum(ar)"
   ]
  },
  {
   "cell_type": "code",
   "execution_count": 43,
   "id": "18b50865",
   "metadata": {},
   "outputs": [
    {
     "data": {
      "text/plain": [
       "(114, 114)"
      ]
     },
     "execution_count": 43,
     "metadata": {},
     "output_type": "execute_result"
    }
   ],
   "source": [
    "ar[0] = 100\n",
    "tree.update(0, 100)\n",
    "tree.query((0, 3)), sum(ar[0:3])"
   ]
  },
  {
   "cell_type": "code",
   "execution_count": null,
   "id": "2fa85461",
   "metadata": {},
   "outputs": [],
   "source": []
  }
 ],
 "metadata": {
  "kernelspec": {
   "display_name": ".venv",
   "language": "python",
   "name": "python3"
  },
  "language_info": {
   "codemirror_mode": {
    "name": "ipython",
    "version": 3
   },
   "file_extension": ".py",
   "mimetype": "text/x-python",
   "name": "python",
   "nbconvert_exporter": "python",
   "pygments_lexer": "ipython3",
   "version": "3.11.11"
  }
 },
 "nbformat": 4,
 "nbformat_minor": 5
}
