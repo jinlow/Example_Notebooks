{
 "cells": [
  {
   "cell_type": "markdown",
   "metadata": {},
   "source": [
    "# Sample Weighting with XGBoost\n",
    "I want to test sample weighting for optimizing an XGBoost model to perform just as well on a group of samples."
   ]
  },
  {
   "cell_type": "code",
   "execution_count": 1,
   "metadata": {},
   "outputs": [],
   "source": [
    "import itertools\n",
    "from collections import OrderedDict\n",
    "\n",
    "import numpy as np\n",
    "import pandas as pd\n",
    "import scipy as sc\n",
    "import seaborn as sns\n",
    "import xgboost as xgb\n",
    "from sklearn.metrics import roc_auc_score\n",
    "from skopt import gp_minimize\n",
    "from skopt.space import Integer, Real\n",
    "from skopt.utils import use_named_args"
   ]
  },
  {
   "cell_type": "markdown",
   "metadata": {},
   "source": [
    "Prep the input data for modeling."
   ]
  },
  {
   "cell_type": "code",
   "execution_count": 2,
   "metadata": {},
   "outputs": [],
   "source": [
    "df_full = pd.read_parquet(\"data/application_train_proc.parquet\")"
   ]
  },
  {
   "cell_type": "code",
   "execution_count": 3,
   "metadata": {},
   "outputs": [
    {
     "data": {
      "text/plain": [
       "(307507, 136)"
      ]
     },
     "execution_count": 3,
     "metadata": {},
     "output_type": "execute_result"
    }
   ],
   "source": [
    "df_full.shape"
   ]
  },
  {
   "cell_type": "code",
   "execution_count": 4,
   "metadata": {},
   "outputs": [
    {
     "data": {
      "text/plain": [
       "float64    70\n",
       "int64      41\n",
       "object     16\n",
       "int8        9\n",
       "dtype: int64"
      ]
     },
     "execution_count": 4,
     "metadata": {},
     "output_type": "execute_result"
    }
   ],
   "source": [
    "df_full.dtypes.value_counts()"
   ]
  },
  {
   "cell_type": "markdown",
   "metadata": {},
   "source": [
    "Drop `object` columns and convert data to `np.float32` to keeps things consistent for XGBoost modeling."
   ]
  },
  {
   "cell_type": "code",
   "execution_count": 5,
   "metadata": {},
   "outputs": [],
   "source": [
    "drop_cols = df_full.dtypes.pipe(lambda x: x[x.eq(\"object\")]).index.difference(\n",
    "    [\"code_gender\", \"name_contract_type\"]\n",
    ")\n",
    "df = df_full.drop(columns=[*drop_cols, \"cat_name_contract_type\", \"cat_code_gender\"])\n",
    "# For now we will just start off testing with a sample of the data to speed things up.\n",
    "df = df.sample(200_000, random_state=123)"
   ]
  },
  {
   "cell_type": "code",
   "execution_count": 2,
   "metadata": {},
   "outputs": [],
   "source": [
    "# df.shape"
   ]
  },
  {
   "cell_type": "code",
   "execution_count": 7,
   "metadata": {},
   "outputs": [],
   "source": [
    "np.random.seed(123)\n",
    "rand_num = np.random.uniform(size=df.shape[0])\n",
    "dev = rand_num < 0.5\n",
    "val = (0.5 <= rand_num) & (rand_num < 0.75)\n",
    "tst = 0.75 <= rand_num"
   ]
  },
  {
   "cell_type": "code",
   "execution_count": 8,
   "metadata": {},
   "outputs": [],
   "source": [
    "X = df.drop(columns=[\"target\", \"name_contract_type\", \"code_gender\"]).astype(np.float32)\n",
    "y = df[\"target\"].astype(np.float32)"
   ]
  },
  {
   "cell_type": "code",
   "execution_count": 9,
   "metadata": {},
   "outputs": [],
   "source": [
    "xdev = xgb.DMatrix(X[dev], label=y[dev], missing=np.nan)\n",
    "xtst = xgb.DMatrix(X[tst], label=y[tst], missing=np.nan)\n",
    "xval = xgb.DMatrix(X[val], label=y[val], missing=np.nan)"
   ]
  },
  {
   "cell_type": "markdown",
   "metadata": {},
   "source": [
    "### Training a Baseline Model\n",
    "Let's train a simple model to use as a baseline for our testing.  \n",
    "We are going to try to perform bayesian optimization to get some better parameter weights here. For our \"base\" parameters, we will use the following...\n",
    "```python\n",
    "params = dict(\n",
    "    objective=\"binary:logitraw\",\n",
    "    eta=0.1,\n",
    "    max_depth=0,\n",
    "    min_child_weight=50,\n",
    "    max_leaves=35,\n",
    "    tree_method=\"hist\",\n",
    "    grow_policy=\"lossguide\",\n",
    "    subsample=0.8,\n",
    "    colsample_bytree=0.50,\n",
    "    eval_metric=\"auc\",\n",
    "    seed=0,\n",
    ")\n",
    "```"
   ]
  },
  {
   "cell_type": "code",
   "execution_count": 10,
   "metadata": {},
   "outputs": [],
   "source": [
    "xgb_search_space = [\n",
    "    Real(0.05, 0.2, name=\"eta\"),\n",
    "    Integer(50, 200, name=\"min_child_weight\"),\n",
    "    Integer(15, 35, name=\"max_leaves\"),\n",
    "    Real(0.5, 1.0, name=\"subsample\"),\n",
    "    Real(0.5, 1.0, name=\"colsample_bytree\"),\n",
    "]"
   ]
  },
  {
   "cell_type": "code",
   "execution_count": 11,
   "metadata": {},
   "outputs": [],
   "source": [
    "# These are our constant parameters, that will remain unchanged through\n",
    "# all of modeling.\n",
    "base_params = dict(\n",
    "    objective=\"binary:logitraw\",\n",
    "    max_depth=0,\n",
    "    tree_method=\"hist\",\n",
    "    grow_policy=\"lossguide\",\n",
    "    eval_metric=\"auc\",\n",
    "    seed=0,\n",
    ")\n",
    "\n",
    "\n",
    "@use_named_args(xgb_search_space)\n",
    "def xgb_obj_func(**points):\n",
    "    mod_points = {**points, **base_params}\n",
    "    # print(mod_points)\n",
    "    watchlist = [(xdev, \"dev\"), (xtst, \"test\")]\n",
    "    bayes_mod = xgb.train(\n",
    "        params=mod_points,\n",
    "        dtrain=xdev,\n",
    "        num_boost_round=1_000,\n",
    "        early_stopping_rounds=50,\n",
    "        evals=watchlist,\n",
    "        verbose_eval=False,\n",
    "    )\n",
    "    print(f\"score: {bayes_mod.best_score}, iterations: {bayes_mod.best_iteration}\")\n",
    "    return -bayes_mod.best_score"
   ]
  },
  {
   "cell_type": "code",
   "execution_count": 12,
   "metadata": {},
   "outputs": [],
   "source": [
    "start_params = params = dict(\n",
    "    eta=0.1, min_child_weight=50, max_leaves=35, subsample=0.8, colsample_bytree=0.50,\n",
    ")"
   ]
  },
  {
   "cell_type": "code",
   "execution_count": 13,
   "metadata": {},
   "outputs": [
    {
     "name": "stdout",
     "output_type": "stream",
     "text": [
      "score: 0.742452, iterations: 82\n",
      "score: 0.742312, iterations: 75\n",
      "score: 0.743218, iterations: 114\n",
      "score: 0.742947, iterations: 68\n",
      "score: 0.741239, iterations: 46\n",
      "score: 0.742735, iterations: 70\n",
      "score: 0.743957, iterations: 94\n",
      "score: 0.744133, iterations: 168\n",
      "score: 0.743576, iterations: 160\n",
      "score: 0.742585, iterations: 79\n",
      "score: 0.742967, iterations: 166\n",
      "score: 0.742406, iterations: 73\n",
      "score: 0.742013, iterations: 77\n",
      "score: 0.744938, iterations: 237\n",
      "score: 0.742563, iterations: 78\n",
      "score: 0.743334, iterations: 162\n",
      "score: 0.742416, iterations: 99\n",
      "score: 0.741713, iterations: 41\n",
      "score: 0.740593, iterations: 55\n",
      "score: 0.743631, iterations: 80\n",
      "score: 0.739836, iterations: 50\n",
      "score: 0.745093, iterations: 276\n",
      "score: 0.745002, iterations: 264\n",
      "score: 0.744763, iterations: 274\n",
      "score: 0.745638, iterations: 338\n",
      "score: 0.74351, iterations: 168\n",
      "score: 0.741958, iterations: 49\n",
      "score: 0.743775, iterations: 209\n",
      "score: 0.740278, iterations: 43\n",
      "score: 0.743642, iterations: 182\n",
      "score: 0.744886, iterations: 343\n",
      "score: 0.743703, iterations: 218\n",
      "score: 0.742886, iterations: 57\n",
      "score: 0.742744, iterations: 76\n",
      "score: 0.743848, iterations: 146\n",
      "score: 0.744455, iterations: 162\n",
      "score: 0.745159, iterations: 280\n",
      "score: 0.741597, iterations: 52\n",
      "score: 0.744671, iterations: 227\n",
      "score: 0.744542, iterations: 213\n"
     ]
    }
   ],
   "source": [
    "np.random.seed(0)\n",
    "bayes_params = gp_minimize(\n",
    "    xgb_obj_func, xgb_search_space, n_calls=40, x0=[0.1, 50, 35, 0.8, 0.50,]\n",
    ")"
   ]
  },
  {
   "cell_type": "markdown",
   "metadata": {},
   "source": [
    "Now we will take the top parameters, and use that in a model."
   ]
  },
  {
   "cell_type": "code",
   "execution_count": 14,
   "metadata": {},
   "outputs": [],
   "source": [
    "best_bayes_params = np.argmin(bayes_params.func_vals)\n",
    "best_bayes_params = {\n",
    "    s.name: p for s, p in zip(xgb_search_space, bayes_params.x_iters[best_bayes_params])\n",
    "}"
   ]
  },
  {
   "cell_type": "code",
   "execution_count": 15,
   "metadata": {},
   "outputs": [
    {
     "data": {
      "text/plain": [
       "{'objective': 'binary:logitraw',\n",
       " 'max_depth': 0,\n",
       " 'tree_method': 'hist',\n",
       " 'grow_policy': 'lossguide',\n",
       " 'eval_metric': 'auc',\n",
       " 'seed': 0,\n",
       " 'eta': 0.05143687646997485,\n",
       " 'min_child_weight': 194,\n",
       " 'max_leaves': 35,\n",
       " 'subsample': 0.5040451907112526,\n",
       " 'colsample_bytree': 0.7373502951988324}"
      ]
     },
     "execution_count": 15,
     "metadata": {},
     "output_type": "execute_result"
    }
   ],
   "source": [
    "best_bayes_params = {**base_params, **best_bayes_params}\n",
    "best_bayes_params"
   ]
  },
  {
   "cell_type": "code",
   "execution_count": 16,
   "metadata": {},
   "outputs": [
    {
     "data": {
      "text/plain": [
       "0.745638"
      ]
     },
     "execution_count": 16,
     "metadata": {},
     "output_type": "execute_result"
    }
   ],
   "source": [
    "np.min(bayes_params.func_vals) * -1"
   ]
  },
  {
   "cell_type": "code",
   "execution_count": 17,
   "metadata": {},
   "outputs": [
    {
     "data": {
      "text/plain": [
       "['fun',\n",
       " 'func_vals',\n",
       " 'models',\n",
       " 'random_state',\n",
       " 'space',\n",
       " 'specs',\n",
       " 'x',\n",
       " 'x_iters']"
      ]
     },
     "execution_count": 17,
     "metadata": {},
     "output_type": "execute_result"
    }
   ],
   "source": [
    "dir(bayes_params)"
   ]
  },
  {
   "cell_type": "code",
   "execution_count": 18,
   "metadata": {},
   "outputs": [],
   "source": [
    "watchlist = [(xdev, \"dev\"), (xtst, \"test\")]"
   ]
  },
  {
   "cell_type": "code",
   "execution_count": 19,
   "metadata": {},
   "outputs": [
    {
     "name": "stdout",
     "output_type": "stream",
     "text": [
      "[0]\tdev-auc:0.71538\ttest-auc:0.70429\n",
      "Multiple eval metrics have been passed: 'test-auc' will be used for early stopping.\n",
      "\n",
      "Will train until test-auc hasn't improved in 50 rounds.\n",
      "[100]\tdev-auc:0.76297\ttest-auc:0.73947\n",
      "[200]\tdev-auc:0.77615\ttest-auc:0.74429\n",
      "[300]\tdev-auc:0.78508\ttest-auc:0.74521\n",
      "Stopping. Best iteration:\n",
      "[338]\tdev-auc:0.78807\ttest-auc:0.74564\n",
      "\n"
     ]
    }
   ],
   "source": [
    "base_mod = xgb.train(\n",
    "    params=best_bayes_params,\n",
    "    dtrain=xdev,\n",
    "    num_boost_round=1_000,\n",
    "    early_stopping_rounds=50,\n",
    "    evals=watchlist,\n",
    "    verbose_eval=100,\n",
    ")"
   ]
  },
  {
   "cell_type": "markdown",
   "metadata": {},
   "source": [
    "Now let's see what the performance is like on our validation dataset, and performance for each of our subsets, created by the pclass variable."
   ]
  },
  {
   "cell_type": "code",
   "execution_count": 20,
   "metadata": {},
   "outputs": [],
   "source": [
    "base_preds = base_mod.predict(xval, ntree_limit=base_mod.best_ntree_limit)"
   ]
  },
  {
   "cell_type": "code",
   "execution_count": 21,
   "metadata": {},
   "outputs": [],
   "source": [
    "df_val = df.loc[val].copy()\n",
    "df_val[\"base_preds\"] = base_preds"
   ]
  },
  {
   "cell_type": "code",
   "execution_count": 22,
   "metadata": {},
   "outputs": [
    {
     "data": {
      "text/plain": [
       "0.7525782050584848"
      ]
     },
     "execution_count": 22,
     "metadata": {},
     "output_type": "execute_result"
    }
   ],
   "source": [
    "roc_auc_score(df_val[\"target\"], df_val[\"base_preds\"])"
   ]
  },
  {
   "cell_type": "code",
   "execution_count": 23,
   "metadata": {},
   "outputs": [
    {
     "data": {
      "text/plain": [
       "name_contract_type  code_gender\n",
       "Cash loans          F              0.753583\n",
       "                    M              0.743710\n",
       "Revolving loans     F              0.734121\n",
       "                    M              0.728449\n",
       "dtype: float64"
      ]
     },
     "execution_count": 23,
     "metadata": {},
     "output_type": "execute_result"
    }
   ],
   "source": [
    "df_val.groupby([\"name_contract_type\", \"code_gender\"]).apply(\n",
    "    lambda x: roc_auc_score(x[\"target\"], x[\"base_preds\"])\n",
    ")"
   ]
  },
  {
   "cell_type": "markdown",
   "metadata": {},
   "source": [
    "### Optimizing Weights by Sample\n",
    "What we will do now, is try to optimize the sample weights of the goods and bads by each level of pclass and goods and bads."
   ]
  },
  {
   "cell_type": "code",
   "execution_count": 24,
   "metadata": {},
   "outputs": [],
   "source": [
    "df_dev = df[dev]\n",
    "df_tst = df[tst]\n",
    "dev_sample_levels = list(\n",
    "    zip(df_dev[\"name_contract_type\"], df_dev[\"code_gender\"], df_dev[\"target\"])\n",
    ")\n",
    "# tst_sample_levels = list(\n",
    "#     zip(df_tst[\"name_contract_type\"], df_tst[\"code_gender\"], df_tst[\"target\"])\n",
    "# )"
   ]
  },
  {
   "cell_type": "code",
   "execution_count": 25,
   "metadata": {},
   "outputs": [],
   "source": [
    "# create model weights, we will initialize them as 1\n",
    "# Originally I Was weighting by two fields, and good and bad, but let's just weight by bad.\n",
    "model_samples = list(\n",
    "    itertools.product(\n",
    "        df[\"name_contract_type\"].unique(), df[\"code_gender\"].unique() , [0.0, 1.0]\n",
    "    )\n",
    ")\n",
    "model_weights = OrderedDict()\n",
    "for s in model_samples:\n",
    "    model_weights[s] = 1.0"
   ]
  },
  {
   "cell_type": "code",
   "execution_count": 26,
   "metadata": {},
   "outputs": [
    {
     "data": {
      "text/plain": [
       "OrderedDict([(('Cash loans', 'M', 0.0), 1.0),\n",
       "             (('Cash loans', 'M', 1.0), 1.0),\n",
       "             (('Cash loans', 'F', 0.0), 1.0),\n",
       "             (('Cash loans', 'F', 1.0), 1.0),\n",
       "             (('Revolving loans', 'M', 0.0), 1.0),\n",
       "             (('Revolving loans', 'M', 1.0), 1.0),\n",
       "             (('Revolving loans', 'F', 0.0), 1.0),\n",
       "             (('Revolving loans', 'F', 1.0), 1.0)])"
      ]
     },
     "execution_count": 26,
     "metadata": {},
     "output_type": "execute_result"
    }
   ],
   "source": [
    "model_weights"
   ]
  },
  {
   "cell_type": "code",
   "execution_count": 27,
   "metadata": {},
   "outputs": [],
   "source": [
    "sample_space = [Real(0.2, 5) for _ in model_weights]"
   ]
  },
  {
   "cell_type": "code",
   "execution_count": 28,
   "metadata": {},
   "outputs": [
    {
     "data": {
      "text/plain": [
       "[Real(low=0.2, high=5, prior='uniform', transform='identity'),\n",
       " Real(low=0.2, high=5, prior='uniform', transform='identity'),\n",
       " Real(low=0.2, high=5, prior='uniform', transform='identity'),\n",
       " Real(low=0.2, high=5, prior='uniform', transform='identity'),\n",
       " Real(low=0.2, high=5, prior='uniform', transform='identity'),\n",
       " Real(low=0.2, high=5, prior='uniform', transform='identity'),\n",
       " Real(low=0.2, high=5, prior='uniform', transform='identity'),\n",
       " Real(low=0.2, high=5, prior='uniform', transform='identity')]"
      ]
     },
     "execution_count": 28,
     "metadata": {},
     "output_type": "execute_result"
    }
   ],
   "source": [
    "sample_space"
   ]
  },
  {
   "cell_type": "code",
   "execution_count": 29,
   "metadata": {},
   "outputs": [],
   "source": [
    "xdev_w = xgb.DMatrix(X[dev], label=y[dev], missing=-1.0)\n",
    "# xtst_w = xgb.DMatrix(X[tst], label=y[tst], missing=-1.0)\n",
    "# xval_w = xgb.DMatrix(X[val], label=y[val], missing=-1.0)\n",
    "\n",
    "df_tst_w = df_tst[[\"target\", \"name_contract_type\", \"code_gender\"]].copy()\n",
    "\n",
    "n_iter = [0]\n",
    "\n",
    "\n",
    "def obj_func(points):\n",
    "    # Update the weights for the model\n",
    "    for p, k in zip(points, model_weights):\n",
    "        model_weights[k] = p\n",
    "\n",
    "    # Create dev and validation weights\n",
    "    dev_weights = [model_weights.get(lev) for lev in dev_sample_levels]\n",
    "\n",
    "    # Set weights for dev\n",
    "    xdev_w.set_weight(np.array(dev_weights))\n",
    "\n",
    "    # Create model\n",
    "    watchlist = [(xdev_w, \"dev\"), (xtst, \"test\")]\n",
    "    weight_model = xgb.train(\n",
    "        params=best_bayes_params, dtrain=xdev_w, num_boost_round=150\n",
    "    )\n",
    "    # weight_model = xgb.train(\n",
    "    #     params=best_bayes_params,\n",
    "    #     dtrain=xdev_w,\n",
    "    #     num_boost_round=2_000,\n",
    "    #     early_stopping_rounds=50,\n",
    "    #     evals=watchlist,\n",
    "    #     verbose_eval=False,\n",
    "    # )\n",
    "\n",
    "    # Predict\n",
    "    df_tst_w[\"w_preds\"] = weight_model.predict(xtst)\n",
    "    tst_performance = df_tst_w.groupby([\"name_contract_type\", \"code_gender\"]).apply(\n",
    "        lambda x: roc_auc_score(x[\"target\"], x[\"w_preds\"])\n",
    "    )\n",
    "\n",
    "    # Calculate haromonic mean for the auc\n",
    "    obj_auc = sc.stats.hmean(tst_performance)\n",
    "    # obj_auc = np.sum(tst_performance)\n",
    "    # obj_auc = np.mean(tst_performance)\n",
    "\n",
    "    # We will try to weight it by the recipricol of base model auc of\n",
    "    # each of the subsamples\n",
    "    # obj_auc = np.average(tst_performance, weights=)\n",
    "    print_list = [\n",
    "        n_iter[0],\n",
    "        round(obj_auc, 4),\n",
    "        *tst_performance.round(4),\n",
    "        weight_model.best_ntree_limit,\n",
    "    ]\n",
    "    for v in print_list:\n",
    "        print(str(v).ljust(7), end=\"\")\n",
    "    print()\n",
    "    n_iter[0] += 1\n",
    "    # print(round(obj_auc, 4), *tst_performance.round(4))\n",
    "    return -obj_auc"
   ]
  },
  {
   "cell_type": "code",
   "execution_count": 30,
   "metadata": {},
   "outputs": [
    {
     "name": "stdout",
     "output_type": "stream",
     "text": [
      "0      0.7399 0.7365 0.7388 0.7334 0.7513 150    \n",
      "1      0.7336 0.737  0.7374 0.7304 0.7299 150    \n",
      "2      0.7331 0.7355 0.7318 0.7385 0.7266 150    \n",
      "3      0.7349 0.7325 0.7373 0.7269 0.743  150    \n",
      "4      0.7382 0.7359 0.7383 0.7334 0.745  150    \n",
      "5      0.7371 0.7354 0.7358 0.735  0.7424 150    \n",
      "6      0.7301 0.7243 0.733  0.7152 0.7485 150    \n",
      "7      0.7216 0.7076 0.7176 0.7088 0.7546 150    \n",
      "8      0.7372 0.7372 0.7382 0.733  0.7404 150    \n",
      "9      0.7244 0.7062 0.7238 0.715  0.7545 150    \n",
      "10     0.722  0.7287 0.7344 0.7004 0.7253 150    \n",
      "11     0.7272 0.7301 0.719  0.7402 0.7199 150    \n",
      "12     0.7232 0.7265 0.7219 0.7129 0.7316 150    \n",
      "13     0.7277 0.7234 0.7251 0.7336 0.7287 150    \n",
      "14     0.7349 0.7323 0.737  0.7348 0.7357 150    \n",
      "15     0.7143 0.6951 0.7123 0.7073 0.7442 150    \n",
      "16     0.7123 0.7324 0.7323 0.6857 0.7009 150    \n",
      "17     0.726  0.7273 0.719  0.7158 0.7424 150    \n",
      "18     0.7135 0.7235 0.7098 0.7155 0.7055 150    \n",
      "19     0.7391 0.7381 0.7367 0.7381 0.7436 150    \n",
      "20     0.7299 0.7339 0.7366 0.7148 0.7346 150    \n",
      "21     0.7298 0.7273 0.7294 0.7305 0.7319 150    \n",
      "22     0.7181 0.7086 0.7101 0.7058 0.7498 150    \n",
      "23     0.7395 0.7371 0.741  0.7359 0.7439 150    \n",
      "24     0.729  0.7284 0.7353 0.7286 0.724  150    \n",
      "25     0.7228 0.7348 0.7287 0.7206 0.7078 150    \n",
      "26     0.7273 0.7127 0.7126 0.7303 0.7554 150    \n",
      "27     0.7224 0.7283 0.715  0.7353 0.7114 150    \n",
      "28     0.7345 0.7365 0.7358 0.7359 0.7298 150    \n",
      "29     0.7304 0.7236 0.7343 0.7236 0.7405 150    \n",
      "30     0.7334 0.732  0.7364 0.7256 0.7395 150    \n",
      "31     0.7291 0.7345 0.7301 0.7323 0.7197 150    \n",
      "32     0.7398 0.7373 0.7379 0.7402 0.7437 150    \n",
      "33     0.7196 0.7219 0.7158 0.7314 0.7096 150    \n",
      "34     0.7332 0.7328 0.7334 0.729  0.7377 150    \n",
      "35     0.7395 0.7371 0.7367 0.7333 0.7512 150    \n",
      "36     0.7252 0.7209 0.7223 0.7155 0.7425 150    \n",
      "37     0.7182 0.7217 0.7138 0.7324 0.7054 150    \n",
      "38     0.7305 0.7302 0.7384 0.7116 0.7427 150    \n",
      "39     0.7132 0.7113 0.7057 0.7064 0.7301 150    \n"
     ]
    }
   ],
   "source": [
    "np.random.seed(0)\n",
    "max_weights = gp_minimize(\n",
    "    obj_func, sample_space, x0=[1.0 for _ in model_weights], n_calls=40\n",
    ")"
   ]
  },
  {
   "cell_type": "code",
   "execution_count": 31,
   "metadata": {},
   "outputs": [
    {
     "data": {
      "text/plain": [
       "32"
      ]
     },
     "execution_count": 31,
     "metadata": {},
     "output_type": "execute_result"
    }
   ],
   "source": [
    "best_weight_round = np.argmin(max_weights.func_vals[1:]) + 1\n",
    "best_weight_round"
   ]
  },
  {
   "cell_type": "code",
   "execution_count": 32,
   "metadata": {},
   "outputs": [],
   "source": [
    "best_weights = max_weights.x_iters[best_weight_round]"
   ]
  },
  {
   "cell_type": "code",
   "execution_count": 33,
   "metadata": {},
   "outputs": [
    {
     "data": {
      "text/plain": [
       "[(('Cash loans', 'M', 0.0), 2.5901676776738416),\n",
       " (('Cash loans', 'M', 1.0), 1.3391165255458282),\n",
       " (('Cash loans', 'F', 0.0), 1.9632202368845033),\n",
       " (('Cash loans', 'F', 1.0), 1.3050192098764302),\n",
       " (('Revolving loans', 'M', 0.0), 0.32052742599689765),\n",
       " (('Revolving loans', 'M', 1.0), 4.6704010530751106),\n",
       " (('Revolving loans', 'F', 0.0), 1.2398942862551503),\n",
       " (('Revolving loans', 'F', 1.0), 0.5587798817832852)]"
      ]
     },
     "execution_count": 33,
     "metadata": {},
     "output_type": "execute_result"
    }
   ],
   "source": [
    "[(l, w) for l, w in zip(model_weights, best_weights)]"
   ]
  },
  {
   "cell_type": "code",
   "execution_count": 34,
   "metadata": {},
   "outputs": [
    {
     "data": {
      "text/plain": [
       "[2.5901676776738416,\n",
       " 1.3391165255458282,\n",
       " 1.9632202368845033,\n",
       " 1.3050192098764302,\n",
       " 0.32052742599689765,\n",
       " 4.6704010530751106,\n",
       " 1.2398942862551503,\n",
       " 0.5587798817832852]"
      ]
     },
     "execution_count": 34,
     "metadata": {},
     "output_type": "execute_result"
    }
   ],
   "source": [
    "best_weights"
   ]
  },
  {
   "cell_type": "code",
   "execution_count": 35,
   "metadata": {},
   "outputs": [],
   "source": [
    "for p, k in zip(best_weights, model_weights):\n",
    "    model_weights[k] = p"
   ]
  },
  {
   "cell_type": "code",
   "execution_count": 36,
   "metadata": {},
   "outputs": [],
   "source": [
    "dev_weights = [model_weights.get(lev) for lev in dev_sample_levels]"
   ]
  },
  {
   "cell_type": "code",
   "execution_count": 37,
   "metadata": {},
   "outputs": [],
   "source": [
    "xdev_w.set_weight(np.array(dev_weights))"
   ]
  },
  {
   "cell_type": "code",
   "execution_count": 38,
   "metadata": {},
   "outputs": [
    {
     "name": "stdout",
     "output_type": "stream",
     "text": [
      "[0]\tdev-auc:0.71468\ttest-auc:0.69967\n",
      "Multiple eval metrics have been passed: 'test-auc' will be used for early stopping.\n",
      "\n",
      "Will train until test-auc hasn't improved in 50 rounds.\n",
      "[100]\tdev-auc:0.76833\ttest-auc:0.73673\n",
      "[200]\tdev-auc:0.78763\ttest-auc:0.73796\n",
      "Stopping. Best iteration:\n",
      "[168]\tdev-auc:0.78257\ttest-auc:0.73864\n",
      "\n"
     ]
    }
   ],
   "source": [
    "watchlist = [(xdev_w, \"dev\"), (xtst, \"test\")]\n",
    "weight_model = xgb.train(\n",
    "    params=best_bayes_params,\n",
    "    dtrain=xdev_w,\n",
    "    num_boost_round=2_000,\n",
    "    early_stopping_rounds=50,\n",
    "    evals=watchlist,\n",
    "    verbose_eval=100,\n",
    ")"
   ]
  },
  {
   "cell_type": "code",
   "execution_count": 39,
   "metadata": {},
   "outputs": [],
   "source": [
    "weight_preds = weight_model.predict(xval, ntree_limit=base_mod.best_ntree_limit)"
   ]
  },
  {
   "cell_type": "code",
   "execution_count": 40,
   "metadata": {},
   "outputs": [],
   "source": [
    "df_val[\"weight_preds\"] = weight_preds"
   ]
  },
  {
   "cell_type": "code",
   "execution_count": 41,
   "metadata": {},
   "outputs": [
    {
     "data": {
      "text/plain": [
       "0.7454123298549721"
      ]
     },
     "execution_count": 41,
     "metadata": {},
     "output_type": "execute_result"
    }
   ],
   "source": [
    "roc_auc_score(df_val[\"target\"], df_val[\"weight_preds\"])"
   ]
  },
  {
   "cell_type": "code",
   "execution_count": 42,
   "metadata": {},
   "outputs": [],
   "source": [
    "# 0.7661 0.7235 0.7503 0.6699 0.9863"
   ]
  },
  {
   "cell_type": "code",
   "execution_count": 43,
   "metadata": {},
   "outputs": [
    {
     "data": {
      "text/plain": [
       "name_contract_type  code_gender\n",
       "Cash loans          F              0.750153\n",
       "                    M              0.741886\n",
       "Revolving loans     F              0.742355\n",
       "                    M              0.731648\n",
       "dtype: float64"
      ]
     },
     "execution_count": 43,
     "metadata": {},
     "output_type": "execute_result"
    }
   ],
   "source": [
    "df_val.groupby([\"name_contract_type\", \"code_gender\"]).apply(\n",
    "    lambda x: roc_auc_score(x[\"target\"], x[\"weight_preds\"])\n",
    ")"
   ]
  },
  {
   "cell_type": "code",
   "execution_count": 44,
   "metadata": {},
   "outputs": [
    {
     "data": {
      "text/plain": [
       "name_contract_type  code_gender\n",
       "Cash loans          F              0.753583\n",
       "                    M              0.743710\n",
       "Revolving loans     F              0.734121\n",
       "                    M              0.728449\n",
       "dtype: float64"
      ]
     },
     "execution_count": 44,
     "metadata": {},
     "output_type": "execute_result"
    }
   ],
   "source": [
    "df_val.groupby([\"name_contract_type\", \"code_gender\"]).apply(\n",
    "    lambda x: roc_auc_score(x[\"target\"], x[\"base_preds\"])\n",
    ")"
   ]
  },
  {
   "cell_type": "code",
   "execution_count": 45,
   "metadata": {},
   "outputs": [
    {
     "data": {
      "text/plain": [
       "0.7525782050584848"
      ]
     },
     "execution_count": 45,
     "metadata": {},
     "output_type": "execute_result"
    }
   ],
   "source": [
    "roc_auc_score(df_val[\"target\"], df_val[\"base_preds\"])"
   ]
  },
  {
   "cell_type": "code",
   "execution_count": null,
   "metadata": {},
   "outputs": [],
   "source": []
  }
 ],
 "metadata": {
  "kernelspec": {
   "display_name": "Python 3",
   "language": "python",
   "name": "python3"
  },
  "language_info": {
   "codemirror_mode": {
    "name": "ipython",
    "version": 3
   },
   "file_extension": ".py",
   "mimetype": "text/x-python",
   "name": "python",
   "nbconvert_exporter": "python",
   "pygments_lexer": "ipython3",
   "version": "3.8.5"
  }
 },
 "nbformat": 4,
 "nbformat_minor": 4
}
