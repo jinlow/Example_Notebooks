{
 "cells": [
  {
   "cell_type": "markdown",
   "id": "d7971183",
   "metadata": {},
   "source": [
    "# Maximize Sum of Distinct Primes After Split\n",
    "\n",
    "See problem [3569](https://leetcode.com/problems/maximize-count-of-distinct-primes-after-split/description/)."
   ]
  },
  {
   "cell_type": "code",
   "execution_count": null,
   "id": "2675d928",
   "metadata": {},
   "outputs": [
    {
     "data": {
      "text/plain": [
       "(10, 10, 6, 6)"
      ]
     },
     "execution_count": 18,
     "metadata": {},
     "output_type": "execute_result"
    }
   ],
   "source": [
    "class SegmentTree:\n",
    "    def __init__(self, a: list[int]) -> None:\n",
    "        self.N = len(a)\n",
    "        self.arr = [0 for _ in range(self.N * 4)]\n",
    "        self.lazy = [False for _ in range(self.N * 4)]\n",
    "        self._build(1, a, 0, self.N)\n",
    "\n",
    "    def _build(self, current: int, a: list[int], left: int, right: int) -> None:\n",
    "        if len(a[left:right]) == 1:\n",
    "            self.arr[current] = a[left]\n",
    "        else:\n",
    "            mid = (left + right) // 2\n",
    "\n",
    "            # Left\n",
    "            self._build(2 * current, a, left, mid)\n",
    "            # right\n",
    "            self._build(2 * current + 1, a, mid, right)\n",
    "\n",
    "            self.arr[current] = max(\n",
    "                self.arr[2 * current],  self.arr[2 * current + 1]\n",
    "            )\n",
    "\n",
    "    def push(self, current: int) -> None:\n",
    "        if self.lazy[current]:\n",
    "            self.arr[2 * current],  self.arr[2 * current + 1] = self.arr[current]\n",
    "            self.lazy[2 * current],  self.lazy[2 * current + 1] = True\n",
    "            self.lazy[current] = False\n",
    "            \n",
    "\n",
    "    def query(self, bounds: tuple[int, int]) -> int:\n",
    "        left, right = bounds\n",
    "        return self._query(1, left, right, 0, self.N)\n",
    "\n",
    "    def _query(\n",
    "        self,\n",
    "        current: int,\n",
    "        left: int,\n",
    "        right: int,\n",
    "        node_left: int,\n",
    "        node_right: int,\n",
    "    ) -> int:\n",
    "        if left >= right:\n",
    "            return 0\n",
    "        elif (left, right) == (node_left, node_right):\n",
    "            return self.arr[current]\n",
    "        self.push(current)\n",
    "        mid = (node_left + node_right) // 2\n",
    "        # Otherwise, we gotta go left, and right.\n",
    "        return max(self._query(\n",
    "            current * 2, left, min(mid, right), node_left, mid\n",
    "        ), self._query(current * 2 + 1, max(left, mid), right, mid, node_right))\n",
    "\n",
    "    def update(self, i: int, value: int) -> None:\n",
    "        self._update(1, i, value, 0, self.N)\n",
    "\n",
    "    def _update(\n",
    "        self, current: int, i: int, value: int, node_left: int, node_right: int\n",
    "    ) -> None:\n",
    "        # If the value is in the node, update\n",
    "        if (node_left == i) and ((i + 1) == node_right):\n",
    "            self.arr[current] = value\n",
    "            self.lazy[current] = True\n",
    "        elif (node_left <= i) and (i < node_right):\n",
    "            self.push(current)\n",
    "            mid = (node_left + node_right) // 2\n",
    "            self._update(current * 2, i, value, node_left, mid)\n",
    "            self._update(current * 2 + 1, i, value, mid, node_right)\n",
    "            self.arr[current] = max(self.arr[current * 2], self.arr[current * 2 + 1])\n",
    "\n",
    "\n",
    "ar = [-1, 4, 10, 2, -1, -2, 5, 6, 6, 6, 7]\n",
    "tree = SegmentTree(ar)\n",
    "tree.query((2, 5)), max(ar[2:5]), tree.query((7, 10)), max(ar[7:10])"
   ]
  },
  {
   "cell_type": "code",
   "execution_count": null,
   "id": "b0c95c11",
   "metadata": {},
   "outputs": [
    {
     "name": "stdout",
     "output_type": "stream",
     "text": [
      "[0, 1, 1, 0, -1, -1]\n",
      "[0, 1, 2, 2, 1, 0]\n"
     ]
    }
   ],
   "source": [
    "# O(n*log(log(n)))\n",
    "def sieve(n: int) -> list[bool]:\n",
    "    prime = [True for _ in range(n+1)]\n",
    "    # Start at 2\n",
    "    p = 2\n",
    "    while (p*p <= n):\n",
    "        if prime[p]:\n",
    "            for i in range(p*p, n+1, p):\n",
    "                prime[i] = False\n",
    "        p += 1\n",
    "    return prime\n",
    "\n",
    "nums = [2,1,3,1,2]\n",
    "queries = [[1,2],[3,3]]\n",
    "\n",
    "primes = sieve(max(*nums, *[v for _, v in queries]))\n",
    "prime_indices : dict[int, dict[int, None]] = {}\n",
    "\n",
    "for i, n in enumerate(nums):\n",
    "    if primes[n]:\n",
    "        res = prime_indices.get(n, {})\n",
    "        res[i] = None\n",
    "        prime_indices[n] = res\n",
    "\n",
    "# Construct delta array\n",
    "delta = [0 for _ in range(len(nums) + 1)]\n",
    "for val, mp in prime_indices.items():\n",
    "    if len(mp) >= 2:\n",
    "        first = next(iter(mp.keys()))\n",
    "        last = next(reversed(mp.keys()))\n",
    "        delta[first + 1] += 1\n",
    "        delta[last + 1] -= 1\n",
    "\n",
    "print(delta)\n",
    "for i in range(1, len(nums) + 1):\n",
    "    delta[i] += delta[i-1]\n",
    "print(delta)\n",
    "\n",
    "tree = SegmentTree(delta)\n",
    "for q in queries:\n",
    "    [ind, new_val] = q\n",
    "    old_val = nums[ind]\n",
    "    nums[ind] = new_val\n",
    "    if primes[old_val]:\n",
    "        ...\n"
   ]
  },
  {
   "cell_type": "code",
   "execution_count": 9,
   "id": "93c453b9",
   "metadata": {},
   "outputs": [
    {
     "data": {
      "text/plain": [
       "([True, True, True, True], [True, True, True, True, False], {})"
      ]
     },
     "execution_count": 9,
     "metadata": {},
     "output_type": "execute_result"
    }
   ],
   "source": [
    "primes, sieve(4), prime_indices"
   ]
  }
 ],
 "metadata": {
  "kernelspec": {
   "display_name": ".venv",
   "language": "python",
   "name": "python3"
  },
  "language_info": {
   "codemirror_mode": {
    "name": "ipython",
    "version": 3
   },
   "file_extension": ".py",
   "mimetype": "text/x-python",
   "name": "python",
   "nbconvert_exporter": "python",
   "pygments_lexer": "ipython3",
   "version": "3.12.10"
  }
 },
 "nbformat": 4,
 "nbformat_minor": 5
}
